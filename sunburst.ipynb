{
 "cells": [
  {
   "cell_type": "code",
   "execution_count": 2,
   "metadata": {},
   "outputs": [],
   "source": [
    "import pandas as pd\n",
    "import numpy  as np\n",
    "import warnings\n",
    "warnings.filterwarnings(\"ignore\")\n",
    "import re\n",
    "import plotly.express as px\n",
    "import kaleido"
   ]
  },
  {
   "cell_type": "markdown",
   "metadata": {},
   "source": [
    "## Sunburst Diagram"
   ]
  },
  {
   "cell_type": "markdown",
   "metadata": {},
   "source": [
    "#### Data Processing"
   ]
  },
  {
   "cell_type": "code",
   "execution_count": 3,
   "metadata": {},
   "outputs": [
    {
     "data": {
      "text/html": [
       "<div>\n",
       "<style scoped>\n",
       "    .dataframe tbody tr th:only-of-type {\n",
       "        vertical-align: middle;\n",
       "    }\n",
       "\n",
       "    .dataframe tbody tr th {\n",
       "        vertical-align: top;\n",
       "    }\n",
       "\n",
       "    .dataframe thead th {\n",
       "        text-align: right;\n",
       "    }\n",
       "</style>\n",
       "<table border=\"1\" class=\"dataframe\">\n",
       "  <thead>\n",
       "    <tr style=\"text-align: right;\">\n",
       "      <th></th>\n",
       "      <th>Unnamed: 0</th>\n",
       "      <th>Date</th>\n",
       "      <th>Content</th>\n",
       "      <th>User's location</th>\n",
       "      <th>userid</th>\n",
       "    </tr>\n",
       "  </thead>\n",
       "  <tbody>\n",
       "    <tr>\n",
       "      <th>0</th>\n",
       "      <td>0</td>\n",
       "      <td>2022-08-31 22:49:03+00:00</td>\n",
       "      <td>@Penny8210 We heard you #teamnosleep..chichi</td>\n",
       "      <td>NaN</td>\n",
       "      <td>1.405550e+18</td>\n",
       "    </tr>\n",
       "    <tr>\n",
       "      <th>1</th>\n",
       "      <td>1</td>\n",
       "      <td>2022-08-31 22:47:19+00:00</td>\n",
       "      <td>@wearefreeradio @Louis_Tomlinson We're so exci...</td>\n",
       "      <td>NaN</td>\n",
       "      <td>1.548762e+18</td>\n",
       "    </tr>\n",
       "    <tr>\n",
       "      <th>2</th>\n",
       "      <td>2</td>\n",
       "      <td>2022-08-31 22:46:34+00:00</td>\n",
       "      <td>@BlakeMcLain_ @Louis_Tomlinson We're so excite...</td>\n",
       "      <td>NaN</td>\n",
       "      <td>1.548762e+18</td>\n",
       "    </tr>\n",
       "    <tr>\n",
       "      <th>3</th>\n",
       "      <td>3</td>\n",
       "      <td>2022-08-31 22:44:34+00:00</td>\n",
       "      <td>@officialcharts We're so excited for the new s...</td>\n",
       "      <td>NaN</td>\n",
       "      <td>1.548762e+18</td>\n",
       "    </tr>\n",
       "    <tr>\n",
       "      <th>4</th>\n",
       "      <td>4</td>\n",
       "      <td>2022-08-31 22:43:15+00:00</td>\n",
       "      <td>@TheAffinityMag @Louis_Tomlinson We're so exci...</td>\n",
       "      <td>NaN</td>\n",
       "      <td>1.548762e+18</td>\n",
       "    </tr>\n",
       "    <tr>\n",
       "      <th>...</th>\n",
       "      <td>...</td>\n",
       "      <td>...</td>\n",
       "      <td>...</td>\n",
       "      <td>...</td>\n",
       "      <td>...</td>\n",
       "    </tr>\n",
       "    <tr>\n",
       "      <th>892021</th>\n",
       "      <td>5889</td>\n",
       "      <td>2022-06-01 02:25:48+00:00</td>\n",
       "      <td>@SpiroAgnewGhost What’s her next segment “Why ...</td>\n",
       "      <td>Hopping Time Zones in my G6</td>\n",
       "      <td>1.427527e+18</td>\n",
       "    </tr>\n",
       "    <tr>\n",
       "      <th>892022</th>\n",
       "      <td>5890</td>\n",
       "      <td>2022-06-01 01:41:36+00:00</td>\n",
       "      <td>Having trouble sleeping? \\n\\nRogue Shop sleep ...</td>\n",
       "      <td>Chapel Hill, NC</td>\n",
       "      <td>2.686267e+08</td>\n",
       "    </tr>\n",
       "    <tr>\n",
       "      <th>892023</th>\n",
       "      <td>5891</td>\n",
       "      <td>2022-06-01 00:52:36+00:00</td>\n",
       "      <td>@azaehanla I suggest trying an over the counte...</td>\n",
       "      <td>British Columbia, Canada</td>\n",
       "      <td>7.882513e+08</td>\n",
       "    </tr>\n",
       "    <tr>\n",
       "      <th>892024</th>\n",
       "      <td>5892</td>\n",
       "      <td>2022-06-01 00:39:23+00:00</td>\n",
       "      <td>SummaForte(TM) Adds All-Natural Sleep Aid Summ...</td>\n",
       "      <td>NaN</td>\n",
       "      <td>1.100551e+18</td>\n",
       "    </tr>\n",
       "    <tr>\n",
       "      <th>892025</th>\n",
       "      <td>5893</td>\n",
       "      <td>2022-06-01 00:23:52+00:00</td>\n",
       "      <td>@Elysabethgrace @Tuphlos @authorclondon @Autho...</td>\n",
       "      <td>NaN</td>\n",
       "      <td>8.369948e+17</td>\n",
       "    </tr>\n",
       "  </tbody>\n",
       "</table>\n",
       "<p>892026 rows × 5 columns</p>\n",
       "</div>"
      ],
      "text/plain": [
       "       Unnamed: 0                       Date  \\\n",
       "0               0  2022-08-31 22:49:03+00:00   \n",
       "1               1  2022-08-31 22:47:19+00:00   \n",
       "2               2  2022-08-31 22:46:34+00:00   \n",
       "3               3  2022-08-31 22:44:34+00:00   \n",
       "4               4  2022-08-31 22:43:15+00:00   \n",
       "...           ...                        ...   \n",
       "892021       5889  2022-06-01 02:25:48+00:00   \n",
       "892022       5890  2022-06-01 01:41:36+00:00   \n",
       "892023       5891  2022-06-01 00:52:36+00:00   \n",
       "892024       5892  2022-06-01 00:39:23+00:00   \n",
       "892025       5893  2022-06-01 00:23:52+00:00   \n",
       "\n",
       "                                                  Content  \\\n",
       "0            @Penny8210 We heard you #teamnosleep..chichi   \n",
       "1       @wearefreeradio @Louis_Tomlinson We're so exci...   \n",
       "2       @BlakeMcLain_ @Louis_Tomlinson We're so excite...   \n",
       "3       @officialcharts We're so excited for the new s...   \n",
       "4       @TheAffinityMag @Louis_Tomlinson We're so exci...   \n",
       "...                                                   ...   \n",
       "892021  @SpiroAgnewGhost What’s her next segment “Why ...   \n",
       "892022  Having trouble sleeping? \\n\\nRogue Shop sleep ...   \n",
       "892023  @azaehanla I suggest trying an over the counte...   \n",
       "892024  SummaForte(TM) Adds All-Natural Sleep Aid Summ...   \n",
       "892025  @Elysabethgrace @Tuphlos @authorclondon @Autho...   \n",
       "\n",
       "                    User's location        userid  \n",
       "0                               NaN  1.405550e+18  \n",
       "1                               NaN  1.548762e+18  \n",
       "2                               NaN  1.548762e+18  \n",
       "3                               NaN  1.548762e+18  \n",
       "4                               NaN  1.548762e+18  \n",
       "...                             ...           ...  \n",
       "892021  Hopping Time Zones in my G6  1.427527e+18  \n",
       "892022              Chapel Hill, NC  2.686267e+08  \n",
       "892023     British Columbia, Canada  7.882513e+08  \n",
       "892024                          NaN  1.100551e+18  \n",
       "892025                          NaN  8.369948e+17  \n",
       "\n",
       "[892026 rows x 5 columns]"
      ]
     },
     "execution_count": 3,
     "metadata": {},
     "output_type": "execute_result"
    }
   ],
   "source": [
    "df_all=pd.read_csv('data/all_keywords.csv')\n",
    "df_all"
   ]
  },
  {
   "cell_type": "code",
   "execution_count": 4,
   "metadata": {},
   "outputs": [
    {
     "data": {
      "text/html": [
       "<div>\n",
       "<style scoped>\n",
       "    .dataframe tbody tr th:only-of-type {\n",
       "        vertical-align: middle;\n",
       "    }\n",
       "\n",
       "    .dataframe tbody tr th {\n",
       "        vertical-align: top;\n",
       "    }\n",
       "\n",
       "    .dataframe thead th {\n",
       "        text-align: right;\n",
       "    }\n",
       "</style>\n",
       "<table border=\"1\" class=\"dataframe\">\n",
       "  <thead>\n",
       "    <tr style=\"text-align: right;\">\n",
       "      <th></th>\n",
       "      <th>Date</th>\n",
       "      <th>Content</th>\n",
       "    </tr>\n",
       "  </thead>\n",
       "  <tbody>\n",
       "    <tr>\n",
       "      <th>0</th>\n",
       "      <td>2022-08-31 22:49:03+00:00</td>\n",
       "      <td>@Penny8210 We heard you #teamnosleep..chichi</td>\n",
       "    </tr>\n",
       "    <tr>\n",
       "      <th>1</th>\n",
       "      <td>2022-08-31 22:47:19+00:00</td>\n",
       "      <td>@wearefreeradio @Louis_Tomlinson We're so exci...</td>\n",
       "    </tr>\n",
       "    <tr>\n",
       "      <th>2</th>\n",
       "      <td>2022-08-31 22:46:34+00:00</td>\n",
       "      <td>@BlakeMcLain_ @Louis_Tomlinson We're so excite...</td>\n",
       "    </tr>\n",
       "    <tr>\n",
       "      <th>3</th>\n",
       "      <td>2022-08-31 22:44:34+00:00</td>\n",
       "      <td>@officialcharts We're so excited for the new s...</td>\n",
       "    </tr>\n",
       "    <tr>\n",
       "      <th>4</th>\n",
       "      <td>2022-08-31 22:43:15+00:00</td>\n",
       "      <td>@TheAffinityMag @Louis_Tomlinson We're so exci...</td>\n",
       "    </tr>\n",
       "    <tr>\n",
       "      <th>...</th>\n",
       "      <td>...</td>\n",
       "      <td>...</td>\n",
       "    </tr>\n",
       "    <tr>\n",
       "      <th>892021</th>\n",
       "      <td>2022-06-01 02:25:48+00:00</td>\n",
       "      <td>@SpiroAgnewGhost What’s her next segment “Why ...</td>\n",
       "    </tr>\n",
       "    <tr>\n",
       "      <th>892022</th>\n",
       "      <td>2022-06-01 01:41:36+00:00</td>\n",
       "      <td>Having trouble sleeping? \\n\\nRogue Shop sleep ...</td>\n",
       "    </tr>\n",
       "    <tr>\n",
       "      <th>892023</th>\n",
       "      <td>2022-06-01 00:52:36+00:00</td>\n",
       "      <td>@azaehanla I suggest trying an over the counte...</td>\n",
       "    </tr>\n",
       "    <tr>\n",
       "      <th>892024</th>\n",
       "      <td>2022-06-01 00:39:23+00:00</td>\n",
       "      <td>SummaForte(TM) Adds All-Natural Sleep Aid Summ...</td>\n",
       "    </tr>\n",
       "    <tr>\n",
       "      <th>892025</th>\n",
       "      <td>2022-06-01 00:23:52+00:00</td>\n",
       "      <td>@Elysabethgrace @Tuphlos @authorclondon @Autho...</td>\n",
       "    </tr>\n",
       "  </tbody>\n",
       "</table>\n",
       "<p>892026 rows × 2 columns</p>\n",
       "</div>"
      ],
      "text/plain": [
       "                             Date  \\\n",
       "0       2022-08-31 22:49:03+00:00   \n",
       "1       2022-08-31 22:47:19+00:00   \n",
       "2       2022-08-31 22:46:34+00:00   \n",
       "3       2022-08-31 22:44:34+00:00   \n",
       "4       2022-08-31 22:43:15+00:00   \n",
       "...                           ...   \n",
       "892021  2022-06-01 02:25:48+00:00   \n",
       "892022  2022-06-01 01:41:36+00:00   \n",
       "892023  2022-06-01 00:52:36+00:00   \n",
       "892024  2022-06-01 00:39:23+00:00   \n",
       "892025  2022-06-01 00:23:52+00:00   \n",
       "\n",
       "                                                  Content  \n",
       "0            @Penny8210 We heard you #teamnosleep..chichi  \n",
       "1       @wearefreeradio @Louis_Tomlinson We're so exci...  \n",
       "2       @BlakeMcLain_ @Louis_Tomlinson We're so excite...  \n",
       "3       @officialcharts We're so excited for the new s...  \n",
       "4       @TheAffinityMag @Louis_Tomlinson We're so exci...  \n",
       "...                                                   ...  \n",
       "892021  @SpiroAgnewGhost What’s her next segment “Why ...  \n",
       "892022  Having trouble sleeping? \\n\\nRogue Shop sleep ...  \n",
       "892023  @azaehanla I suggest trying an over the counte...  \n",
       "892024  SummaForte(TM) Adds All-Natural Sleep Aid Summ...  \n",
       "892025  @Elysabethgrace @Tuphlos @authorclondon @Autho...  \n",
       "\n",
       "[892026 rows x 2 columns]"
      ]
     },
     "execution_count": 4,
     "metadata": {},
     "output_type": "execute_result"
    }
   ],
   "source": [
    "df_d_c=df_all[['Date','Content']]\n",
    "df_d_c"
   ]
  },
  {
   "cell_type": "code",
   "execution_count": 5,
   "metadata": {},
   "outputs": [],
   "source": [
    "s='Rosesh Developed Insomnia'\n",
    "def del_dup(x):\n",
    "    x=str(x)\n",
    "    if s in x:\n",
    "        x=\"???\"\n",
    "    return x"
   ]
  },
  {
   "cell_type": "code",
   "execution_count": 6,
   "metadata": {},
   "outputs": [
    {
     "data": {
      "text/html": [
       "<div>\n",
       "<style scoped>\n",
       "    .dataframe tbody tr th:only-of-type {\n",
       "        vertical-align: middle;\n",
       "    }\n",
       "\n",
       "    .dataframe tbody tr th {\n",
       "        vertical-align: top;\n",
       "    }\n",
       "\n",
       "    .dataframe thead th {\n",
       "        text-align: right;\n",
       "    }\n",
       "</style>\n",
       "<table border=\"1\" class=\"dataframe\">\n",
       "  <thead>\n",
       "    <tr style=\"text-align: right;\">\n",
       "      <th></th>\n",
       "      <th>Date</th>\n",
       "      <th>Content</th>\n",
       "      <th>content</th>\n",
       "    </tr>\n",
       "  </thead>\n",
       "  <tbody>\n",
       "    <tr>\n",
       "      <th>0</th>\n",
       "      <td>2022-08-31 22:49:03+00:00</td>\n",
       "      <td>@Penny8210 We heard you #teamnosleep..chichi</td>\n",
       "      <td>@Penny8210 We heard you #teamnosleep..chichi</td>\n",
       "    </tr>\n",
       "    <tr>\n",
       "      <th>1</th>\n",
       "      <td>2022-08-31 22:47:19+00:00</td>\n",
       "      <td>@wearefreeradio @Louis_Tomlinson We're so exci...</td>\n",
       "      <td>@wearefreeradio @Louis_Tomlinson We're so exci...</td>\n",
       "    </tr>\n",
       "    <tr>\n",
       "      <th>2</th>\n",
       "      <td>2022-08-31 22:46:34+00:00</td>\n",
       "      <td>@BlakeMcLain_ @Louis_Tomlinson We're so excite...</td>\n",
       "      <td>@BlakeMcLain_ @Louis_Tomlinson We're so excite...</td>\n",
       "    </tr>\n",
       "    <tr>\n",
       "      <th>3</th>\n",
       "      <td>2022-08-31 22:44:34+00:00</td>\n",
       "      <td>@officialcharts We're so excited for the new s...</td>\n",
       "      <td>@officialcharts We're so excited for the new s...</td>\n",
       "    </tr>\n",
       "    <tr>\n",
       "      <th>4</th>\n",
       "      <td>2022-08-31 22:43:15+00:00</td>\n",
       "      <td>@TheAffinityMag @Louis_Tomlinson We're so exci...</td>\n",
       "      <td>@TheAffinityMag @Louis_Tomlinson We're so exci...</td>\n",
       "    </tr>\n",
       "    <tr>\n",
       "      <th>...</th>\n",
       "      <td>...</td>\n",
       "      <td>...</td>\n",
       "      <td>...</td>\n",
       "    </tr>\n",
       "    <tr>\n",
       "      <th>892021</th>\n",
       "      <td>2022-06-01 02:25:48+00:00</td>\n",
       "      <td>@SpiroAgnewGhost What’s her next segment “Why ...</td>\n",
       "      <td>@SpiroAgnewGhost What’s her next segment “Why ...</td>\n",
       "    </tr>\n",
       "    <tr>\n",
       "      <th>892022</th>\n",
       "      <td>2022-06-01 01:41:36+00:00</td>\n",
       "      <td>Having trouble sleeping? \\n\\nRogue Shop sleep ...</td>\n",
       "      <td>Having trouble sleeping? \\n\\nRogue Shop sleep ...</td>\n",
       "    </tr>\n",
       "    <tr>\n",
       "      <th>892023</th>\n",
       "      <td>2022-06-01 00:52:36+00:00</td>\n",
       "      <td>@azaehanla I suggest trying an over the counte...</td>\n",
       "      <td>@azaehanla I suggest trying an over the counte...</td>\n",
       "    </tr>\n",
       "    <tr>\n",
       "      <th>892024</th>\n",
       "      <td>2022-06-01 00:39:23+00:00</td>\n",
       "      <td>SummaForte(TM) Adds All-Natural Sleep Aid Summ...</td>\n",
       "      <td>SummaForte(TM) Adds All-Natural Sleep Aid Summ...</td>\n",
       "    </tr>\n",
       "    <tr>\n",
       "      <th>892025</th>\n",
       "      <td>2022-06-01 00:23:52+00:00</td>\n",
       "      <td>@Elysabethgrace @Tuphlos @authorclondon @Autho...</td>\n",
       "      <td>@Elysabethgrace @Tuphlos @authorclondon @Autho...</td>\n",
       "    </tr>\n",
       "  </tbody>\n",
       "</table>\n",
       "<p>772872 rows × 3 columns</p>\n",
       "</div>"
      ],
      "text/plain": [
       "                             Date  \\\n",
       "0       2022-08-31 22:49:03+00:00   \n",
       "1       2022-08-31 22:47:19+00:00   \n",
       "2       2022-08-31 22:46:34+00:00   \n",
       "3       2022-08-31 22:44:34+00:00   \n",
       "4       2022-08-31 22:43:15+00:00   \n",
       "...                           ...   \n",
       "892021  2022-06-01 02:25:48+00:00   \n",
       "892022  2022-06-01 01:41:36+00:00   \n",
       "892023  2022-06-01 00:52:36+00:00   \n",
       "892024  2022-06-01 00:39:23+00:00   \n",
       "892025  2022-06-01 00:23:52+00:00   \n",
       "\n",
       "                                                  Content  \\\n",
       "0            @Penny8210 We heard you #teamnosleep..chichi   \n",
       "1       @wearefreeradio @Louis_Tomlinson We're so exci...   \n",
       "2       @BlakeMcLain_ @Louis_Tomlinson We're so excite...   \n",
       "3       @officialcharts We're so excited for the new s...   \n",
       "4       @TheAffinityMag @Louis_Tomlinson We're so exci...   \n",
       "...                                                   ...   \n",
       "892021  @SpiroAgnewGhost What’s her next segment “Why ...   \n",
       "892022  Having trouble sleeping? \\n\\nRogue Shop sleep ...   \n",
       "892023  @azaehanla I suggest trying an over the counte...   \n",
       "892024  SummaForte(TM) Adds All-Natural Sleep Aid Summ...   \n",
       "892025  @Elysabethgrace @Tuphlos @authorclondon @Autho...   \n",
       "\n",
       "                                                  content  \n",
       "0            @Penny8210 We heard you #teamnosleep..chichi  \n",
       "1       @wearefreeradio @Louis_Tomlinson We're so exci...  \n",
       "2       @BlakeMcLain_ @Louis_Tomlinson We're so excite...  \n",
       "3       @officialcharts We're so excited for the new s...  \n",
       "4       @TheAffinityMag @Louis_Tomlinson We're so exci...  \n",
       "...                                                   ...  \n",
       "892021  @SpiroAgnewGhost What’s her next segment “Why ...  \n",
       "892022  Having trouble sleeping? \\n\\nRogue Shop sleep ...  \n",
       "892023  @azaehanla I suggest trying an over the counte...  \n",
       "892024  SummaForte(TM) Adds All-Natural Sleep Aid Summ...  \n",
       "892025  @Elysabethgrace @Tuphlos @authorclondon @Autho...  \n",
       "\n",
       "[772872 rows x 3 columns]"
      ]
     },
     "execution_count": 6,
     "metadata": {},
     "output_type": "execute_result"
    }
   ],
   "source": [
    "df_d_c['content']=df_d_c['Content'].apply(lambda x: del_dup(x))\n",
    "df_d_c=df_d_c[df_d_c['content']!=\"???\"]\n",
    "df_d_c"
   ]
  },
  {
   "cell_type": "markdown",
   "metadata": {},
   "source": [
    "After checking, the time is already in local time zone."
   ]
  },
  {
   "cell_type": "code",
   "execution_count": 14,
   "metadata": {},
   "outputs": [
    {
     "data": {
      "text/html": [
       "<div>\n",
       "<style scoped>\n",
       "    .dataframe tbody tr th:only-of-type {\n",
       "        vertical-align: middle;\n",
       "    }\n",
       "\n",
       "    .dataframe tbody tr th {\n",
       "        vertical-align: top;\n",
       "    }\n",
       "\n",
       "    .dataframe thead th {\n",
       "        text-align: right;\n",
       "    }\n",
       "</style>\n",
       "<table border=\"1\" class=\"dataframe\">\n",
       "  <thead>\n",
       "    <tr style=\"text-align: right;\">\n",
       "      <th></th>\n",
       "      <th>Date</th>\n",
       "      <th>Content</th>\n",
       "      <th>content</th>\n",
       "      <th>day</th>\n",
       "      <th>time</th>\n",
       "      <th>time_plus</th>\n",
       "      <th>weekday</th>\n",
       "      <th>q</th>\n",
       "    </tr>\n",
       "  </thead>\n",
       "  <tbody>\n",
       "    <tr>\n",
       "      <th>0</th>\n",
       "      <td>2022-08-31 22:49:03+00:00</td>\n",
       "      <td>@Penny8210 We heard you #teamnosleep..chichi</td>\n",
       "      <td>@Penny8210 We heard you #teamnosleep..chichi</td>\n",
       "      <td>2022-08-31</td>\n",
       "      <td>22:49:03</td>\n",
       "      <td>00:00</td>\n",
       "      <td>Wednesday</td>\n",
       "      <td>Wednesday</td>\n",
       "    </tr>\n",
       "    <tr>\n",
       "      <th>1</th>\n",
       "      <td>2022-08-31 22:47:19+00:00</td>\n",
       "      <td>@wearefreeradio @Louis_Tomlinson We're so exci...</td>\n",
       "      <td>@wearefreeradio @Louis_Tomlinson We're so exci...</td>\n",
       "      <td>2022-08-31</td>\n",
       "      <td>22:47:19</td>\n",
       "      <td>00:00</td>\n",
       "      <td>Wednesday</td>\n",
       "      <td>Wednesday</td>\n",
       "    </tr>\n",
       "    <tr>\n",
       "      <th>2</th>\n",
       "      <td>2022-08-31 22:46:34+00:00</td>\n",
       "      <td>@BlakeMcLain_ @Louis_Tomlinson We're so excite...</td>\n",
       "      <td>@BlakeMcLain_ @Louis_Tomlinson We're so excite...</td>\n",
       "      <td>2022-08-31</td>\n",
       "      <td>22:46:34</td>\n",
       "      <td>00:00</td>\n",
       "      <td>Wednesday</td>\n",
       "      <td>Wednesday</td>\n",
       "    </tr>\n",
       "    <tr>\n",
       "      <th>3</th>\n",
       "      <td>2022-08-31 22:44:34+00:00</td>\n",
       "      <td>@officialcharts We're so excited for the new s...</td>\n",
       "      <td>@officialcharts We're so excited for the new s...</td>\n",
       "      <td>2022-08-31</td>\n",
       "      <td>22:44:34</td>\n",
       "      <td>00:00</td>\n",
       "      <td>Wednesday</td>\n",
       "      <td>Wednesday</td>\n",
       "    </tr>\n",
       "    <tr>\n",
       "      <th>4</th>\n",
       "      <td>2022-08-31 22:43:15+00:00</td>\n",
       "      <td>@TheAffinityMag @Louis_Tomlinson We're so exci...</td>\n",
       "      <td>@TheAffinityMag @Louis_Tomlinson We're so exci...</td>\n",
       "      <td>2022-08-31</td>\n",
       "      <td>22:43:15</td>\n",
       "      <td>00:00</td>\n",
       "      <td>Wednesday</td>\n",
       "      <td>Wednesday</td>\n",
       "    </tr>\n",
       "    <tr>\n",
       "      <th>...</th>\n",
       "      <td>...</td>\n",
       "      <td>...</td>\n",
       "      <td>...</td>\n",
       "      <td>...</td>\n",
       "      <td>...</td>\n",
       "      <td>...</td>\n",
       "      <td>...</td>\n",
       "      <td>...</td>\n",
       "    </tr>\n",
       "    <tr>\n",
       "      <th>892021</th>\n",
       "      <td>2022-06-01 02:25:48+00:00</td>\n",
       "      <td>@SpiroAgnewGhost What’s her next segment “Why ...</td>\n",
       "      <td>@SpiroAgnewGhost What’s her next segment “Why ...</td>\n",
       "      <td>2022-06-01</td>\n",
       "      <td>02:25:48</td>\n",
       "      <td>00:00</td>\n",
       "      <td>Wednesday</td>\n",
       "      <td>Wednesday</td>\n",
       "    </tr>\n",
       "    <tr>\n",
       "      <th>892022</th>\n",
       "      <td>2022-06-01 01:41:36+00:00</td>\n",
       "      <td>Having trouble sleeping? \\n\\nRogue Shop sleep ...</td>\n",
       "      <td>Having trouble sleeping? \\n\\nRogue Shop sleep ...</td>\n",
       "      <td>2022-06-01</td>\n",
       "      <td>01:41:36</td>\n",
       "      <td>00:00</td>\n",
       "      <td>Wednesday</td>\n",
       "      <td>Wednesday</td>\n",
       "    </tr>\n",
       "    <tr>\n",
       "      <th>892023</th>\n",
       "      <td>2022-06-01 00:52:36+00:00</td>\n",
       "      <td>@azaehanla I suggest trying an over the counte...</td>\n",
       "      <td>@azaehanla I suggest trying an over the counte...</td>\n",
       "      <td>2022-06-01</td>\n",
       "      <td>00:52:36</td>\n",
       "      <td>00:00</td>\n",
       "      <td>Wednesday</td>\n",
       "      <td>Wednesday</td>\n",
       "    </tr>\n",
       "    <tr>\n",
       "      <th>892024</th>\n",
       "      <td>2022-06-01 00:39:23+00:00</td>\n",
       "      <td>SummaForte(TM) Adds All-Natural Sleep Aid Summ...</td>\n",
       "      <td>SummaForte(TM) Adds All-Natural Sleep Aid Summ...</td>\n",
       "      <td>2022-06-01</td>\n",
       "      <td>00:39:23</td>\n",
       "      <td>00:00</td>\n",
       "      <td>Wednesday</td>\n",
       "      <td>Wednesday</td>\n",
       "    </tr>\n",
       "    <tr>\n",
       "      <th>892025</th>\n",
       "      <td>2022-06-01 00:23:52+00:00</td>\n",
       "      <td>@Elysabethgrace @Tuphlos @authorclondon @Autho...</td>\n",
       "      <td>@Elysabethgrace @Tuphlos @authorclondon @Autho...</td>\n",
       "      <td>2022-06-01</td>\n",
       "      <td>00:23:52</td>\n",
       "      <td>00:00</td>\n",
       "      <td>Wednesday</td>\n",
       "      <td>Wednesday</td>\n",
       "    </tr>\n",
       "  </tbody>\n",
       "</table>\n",
       "<p>772865 rows × 8 columns</p>\n",
       "</div>"
      ],
      "text/plain": [
       "                             Date  \\\n",
       "0       2022-08-31 22:49:03+00:00   \n",
       "1       2022-08-31 22:47:19+00:00   \n",
       "2       2022-08-31 22:46:34+00:00   \n",
       "3       2022-08-31 22:44:34+00:00   \n",
       "4       2022-08-31 22:43:15+00:00   \n",
       "...                           ...   \n",
       "892021  2022-06-01 02:25:48+00:00   \n",
       "892022  2022-06-01 01:41:36+00:00   \n",
       "892023  2022-06-01 00:52:36+00:00   \n",
       "892024  2022-06-01 00:39:23+00:00   \n",
       "892025  2022-06-01 00:23:52+00:00   \n",
       "\n",
       "                                                  Content  \\\n",
       "0            @Penny8210 We heard you #teamnosleep..chichi   \n",
       "1       @wearefreeradio @Louis_Tomlinson We're so exci...   \n",
       "2       @BlakeMcLain_ @Louis_Tomlinson We're so excite...   \n",
       "3       @officialcharts We're so excited for the new s...   \n",
       "4       @TheAffinityMag @Louis_Tomlinson We're so exci...   \n",
       "...                                                   ...   \n",
       "892021  @SpiroAgnewGhost What’s her next segment “Why ...   \n",
       "892022  Having trouble sleeping? \\n\\nRogue Shop sleep ...   \n",
       "892023  @azaehanla I suggest trying an over the counte...   \n",
       "892024  SummaForte(TM) Adds All-Natural Sleep Aid Summ...   \n",
       "892025  @Elysabethgrace @Tuphlos @authorclondon @Autho...   \n",
       "\n",
       "                                                  content         day  \\\n",
       "0            @Penny8210 We heard you #teamnosleep..chichi  2022-08-31   \n",
       "1       @wearefreeradio @Louis_Tomlinson We're so exci...  2022-08-31   \n",
       "2       @BlakeMcLain_ @Louis_Tomlinson We're so excite...  2022-08-31   \n",
       "3       @officialcharts We're so excited for the new s...  2022-08-31   \n",
       "4       @TheAffinityMag @Louis_Tomlinson We're so exci...  2022-08-31   \n",
       "...                                                   ...         ...   \n",
       "892021  @SpiroAgnewGhost What’s her next segment “Why ...  2022-06-01   \n",
       "892022  Having trouble sleeping? \\n\\nRogue Shop sleep ...  2022-06-01   \n",
       "892023  @azaehanla I suggest trying an over the counte...  2022-06-01   \n",
       "892024  SummaForte(TM) Adds All-Natural Sleep Aid Summ...  2022-06-01   \n",
       "892025  @Elysabethgrace @Tuphlos @authorclondon @Autho...  2022-06-01   \n",
       "\n",
       "            time time_plus    weekday          q  \n",
       "0       22:49:03     00:00  Wednesday  Wednesday  \n",
       "1       22:47:19     00:00  Wednesday  Wednesday  \n",
       "2       22:46:34     00:00  Wednesday  Wednesday  \n",
       "3       22:44:34     00:00  Wednesday  Wednesday  \n",
       "4       22:43:15     00:00  Wednesday  Wednesday  \n",
       "...          ...       ...        ...        ...  \n",
       "892021  02:25:48     00:00  Wednesday  Wednesday  \n",
       "892022  01:41:36     00:00  Wednesday  Wednesday  \n",
       "892023  00:52:36     00:00  Wednesday  Wednesday  \n",
       "892024  00:39:23     00:00  Wednesday  Wednesday  \n",
       "892025  00:23:52     00:00  Wednesday  Wednesday  \n",
       "\n",
       "[772865 rows x 8 columns]"
      ]
     },
     "execution_count": 14,
     "metadata": {},
     "output_type": "execute_result"
    }
   ],
   "source": [
    "#separate day, time, and the time conversion\n",
    "df_d_c['day']=df_d_c['Date'].apply(lambda x: str(x)[:10])\n",
    "df_d_c['time']=df_d_c['Date'].apply(lambda x: str(x)[11:-6])\n",
    "df_d_c['time_plus']=df_d_c['Date'].apply(lambda x: str(x)[-5:])\n",
    "df_d_c=df_d_c.dropna(subset=['Date'])\n",
    "df_d_c=df_d_c.drop([482594,509736])\n",
    "df_d_c"
   ]
  },
  {
   "cell_type": "code",
   "execution_count": 15,
   "metadata": {},
   "outputs": [],
   "source": [
    "#We use this datetime package to convert date to day(like Mon. etc.)\n",
    "import datetime"
   ]
  },
  {
   "cell_type": "code",
   "execution_count": 16,
   "metadata": {},
   "outputs": [],
   "source": [
    "def check_weekday(x):\n",
    "    try:  \n",
    "        year, month, day = (int(a) for a in x.split('-'))  \n",
    "        ans = datetime.date(year, month, day)\n",
    "        return (ans.strftime(\"%A\"))\n",
    "    except:\n",
    "        a=\"sw\"+x\n",
    "        return a\n",
    "    "
   ]
  },
  {
   "cell_type": "code",
   "execution_count": 17,
   "metadata": {},
   "outputs": [],
   "source": [
    "def find_q(x):\n",
    "    if \"sw\" in x:\n",
    "        return \"???\"\n",
    "    else:\n",
    "        return x"
   ]
  },
  {
   "cell_type": "code",
   "execution_count": 18,
   "metadata": {},
   "outputs": [
    {
     "data": {
      "text/html": [
       "<div>\n",
       "<style scoped>\n",
       "    .dataframe tbody tr th:only-of-type {\n",
       "        vertical-align: middle;\n",
       "    }\n",
       "\n",
       "    .dataframe tbody tr th {\n",
       "        vertical-align: top;\n",
       "    }\n",
       "\n",
       "    .dataframe thead th {\n",
       "        text-align: right;\n",
       "    }\n",
       "</style>\n",
       "<table border=\"1\" class=\"dataframe\">\n",
       "  <thead>\n",
       "    <tr style=\"text-align: right;\">\n",
       "      <th></th>\n",
       "      <th>Date</th>\n",
       "      <th>Content</th>\n",
       "      <th>content</th>\n",
       "      <th>day</th>\n",
       "      <th>time</th>\n",
       "      <th>time_plus</th>\n",
       "      <th>weekday</th>\n",
       "      <th>q</th>\n",
       "    </tr>\n",
       "  </thead>\n",
       "  <tbody>\n",
       "    <tr>\n",
       "      <th>0</th>\n",
       "      <td>2022-08-31 22:49:03+00:00</td>\n",
       "      <td>@Penny8210 We heard you #teamnosleep..chichi</td>\n",
       "      <td>@Penny8210 We heard you #teamnosleep..chichi</td>\n",
       "      <td>2022-08-31</td>\n",
       "      <td>22:49:03</td>\n",
       "      <td>00:00</td>\n",
       "      <td>Wednesday</td>\n",
       "      <td>Wednesday</td>\n",
       "    </tr>\n",
       "    <tr>\n",
       "      <th>1</th>\n",
       "      <td>2022-08-31 22:47:19+00:00</td>\n",
       "      <td>@wearefreeradio @Louis_Tomlinson We're so exci...</td>\n",
       "      <td>@wearefreeradio @Louis_Tomlinson We're so exci...</td>\n",
       "      <td>2022-08-31</td>\n",
       "      <td>22:47:19</td>\n",
       "      <td>00:00</td>\n",
       "      <td>Wednesday</td>\n",
       "      <td>Wednesday</td>\n",
       "    </tr>\n",
       "    <tr>\n",
       "      <th>2</th>\n",
       "      <td>2022-08-31 22:46:34+00:00</td>\n",
       "      <td>@BlakeMcLain_ @Louis_Tomlinson We're so excite...</td>\n",
       "      <td>@BlakeMcLain_ @Louis_Tomlinson We're so excite...</td>\n",
       "      <td>2022-08-31</td>\n",
       "      <td>22:46:34</td>\n",
       "      <td>00:00</td>\n",
       "      <td>Wednesday</td>\n",
       "      <td>Wednesday</td>\n",
       "    </tr>\n",
       "    <tr>\n",
       "      <th>3</th>\n",
       "      <td>2022-08-31 22:44:34+00:00</td>\n",
       "      <td>@officialcharts We're so excited for the new s...</td>\n",
       "      <td>@officialcharts We're so excited for the new s...</td>\n",
       "      <td>2022-08-31</td>\n",
       "      <td>22:44:34</td>\n",
       "      <td>00:00</td>\n",
       "      <td>Wednesday</td>\n",
       "      <td>Wednesday</td>\n",
       "    </tr>\n",
       "    <tr>\n",
       "      <th>4</th>\n",
       "      <td>2022-08-31 22:43:15+00:00</td>\n",
       "      <td>@TheAffinityMag @Louis_Tomlinson We're so exci...</td>\n",
       "      <td>@TheAffinityMag @Louis_Tomlinson We're so exci...</td>\n",
       "      <td>2022-08-31</td>\n",
       "      <td>22:43:15</td>\n",
       "      <td>00:00</td>\n",
       "      <td>Wednesday</td>\n",
       "      <td>Wednesday</td>\n",
       "    </tr>\n",
       "    <tr>\n",
       "      <th>...</th>\n",
       "      <td>...</td>\n",
       "      <td>...</td>\n",
       "      <td>...</td>\n",
       "      <td>...</td>\n",
       "      <td>...</td>\n",
       "      <td>...</td>\n",
       "      <td>...</td>\n",
       "      <td>...</td>\n",
       "    </tr>\n",
       "    <tr>\n",
       "      <th>892021</th>\n",
       "      <td>2022-06-01 02:25:48+00:00</td>\n",
       "      <td>@SpiroAgnewGhost What’s her next segment “Why ...</td>\n",
       "      <td>@SpiroAgnewGhost What’s her next segment “Why ...</td>\n",
       "      <td>2022-06-01</td>\n",
       "      <td>02:25:48</td>\n",
       "      <td>00:00</td>\n",
       "      <td>Wednesday</td>\n",
       "      <td>Wednesday</td>\n",
       "    </tr>\n",
       "    <tr>\n",
       "      <th>892022</th>\n",
       "      <td>2022-06-01 01:41:36+00:00</td>\n",
       "      <td>Having trouble sleeping? \\n\\nRogue Shop sleep ...</td>\n",
       "      <td>Having trouble sleeping? \\n\\nRogue Shop sleep ...</td>\n",
       "      <td>2022-06-01</td>\n",
       "      <td>01:41:36</td>\n",
       "      <td>00:00</td>\n",
       "      <td>Wednesday</td>\n",
       "      <td>Wednesday</td>\n",
       "    </tr>\n",
       "    <tr>\n",
       "      <th>892023</th>\n",
       "      <td>2022-06-01 00:52:36+00:00</td>\n",
       "      <td>@azaehanla I suggest trying an over the counte...</td>\n",
       "      <td>@azaehanla I suggest trying an over the counte...</td>\n",
       "      <td>2022-06-01</td>\n",
       "      <td>00:52:36</td>\n",
       "      <td>00:00</td>\n",
       "      <td>Wednesday</td>\n",
       "      <td>Wednesday</td>\n",
       "    </tr>\n",
       "    <tr>\n",
       "      <th>892024</th>\n",
       "      <td>2022-06-01 00:39:23+00:00</td>\n",
       "      <td>SummaForte(TM) Adds All-Natural Sleep Aid Summ...</td>\n",
       "      <td>SummaForte(TM) Adds All-Natural Sleep Aid Summ...</td>\n",
       "      <td>2022-06-01</td>\n",
       "      <td>00:39:23</td>\n",
       "      <td>00:00</td>\n",
       "      <td>Wednesday</td>\n",
       "      <td>Wednesday</td>\n",
       "    </tr>\n",
       "    <tr>\n",
       "      <th>892025</th>\n",
       "      <td>2022-06-01 00:23:52+00:00</td>\n",
       "      <td>@Elysabethgrace @Tuphlos @authorclondon @Autho...</td>\n",
       "      <td>@Elysabethgrace @Tuphlos @authorclondon @Autho...</td>\n",
       "      <td>2022-06-01</td>\n",
       "      <td>00:23:52</td>\n",
       "      <td>00:00</td>\n",
       "      <td>Wednesday</td>\n",
       "      <td>Wednesday</td>\n",
       "    </tr>\n",
       "  </tbody>\n",
       "</table>\n",
       "<p>772865 rows × 8 columns</p>\n",
       "</div>"
      ],
      "text/plain": [
       "                             Date  \\\n",
       "0       2022-08-31 22:49:03+00:00   \n",
       "1       2022-08-31 22:47:19+00:00   \n",
       "2       2022-08-31 22:46:34+00:00   \n",
       "3       2022-08-31 22:44:34+00:00   \n",
       "4       2022-08-31 22:43:15+00:00   \n",
       "...                           ...   \n",
       "892021  2022-06-01 02:25:48+00:00   \n",
       "892022  2022-06-01 01:41:36+00:00   \n",
       "892023  2022-06-01 00:52:36+00:00   \n",
       "892024  2022-06-01 00:39:23+00:00   \n",
       "892025  2022-06-01 00:23:52+00:00   \n",
       "\n",
       "                                                  Content  \\\n",
       "0            @Penny8210 We heard you #teamnosleep..chichi   \n",
       "1       @wearefreeradio @Louis_Tomlinson We're so exci...   \n",
       "2       @BlakeMcLain_ @Louis_Tomlinson We're so excite...   \n",
       "3       @officialcharts We're so excited for the new s...   \n",
       "4       @TheAffinityMag @Louis_Tomlinson We're so exci...   \n",
       "...                                                   ...   \n",
       "892021  @SpiroAgnewGhost What’s her next segment “Why ...   \n",
       "892022  Having trouble sleeping? \\n\\nRogue Shop sleep ...   \n",
       "892023  @azaehanla I suggest trying an over the counte...   \n",
       "892024  SummaForte(TM) Adds All-Natural Sleep Aid Summ...   \n",
       "892025  @Elysabethgrace @Tuphlos @authorclondon @Autho...   \n",
       "\n",
       "                                                  content         day  \\\n",
       "0            @Penny8210 We heard you #teamnosleep..chichi  2022-08-31   \n",
       "1       @wearefreeradio @Louis_Tomlinson We're so exci...  2022-08-31   \n",
       "2       @BlakeMcLain_ @Louis_Tomlinson We're so excite...  2022-08-31   \n",
       "3       @officialcharts We're so excited for the new s...  2022-08-31   \n",
       "4       @TheAffinityMag @Louis_Tomlinson We're so exci...  2022-08-31   \n",
       "...                                                   ...         ...   \n",
       "892021  @SpiroAgnewGhost What’s her next segment “Why ...  2022-06-01   \n",
       "892022  Having trouble sleeping? \\n\\nRogue Shop sleep ...  2022-06-01   \n",
       "892023  @azaehanla I suggest trying an over the counte...  2022-06-01   \n",
       "892024  SummaForte(TM) Adds All-Natural Sleep Aid Summ...  2022-06-01   \n",
       "892025  @Elysabethgrace @Tuphlos @authorclondon @Autho...  2022-06-01   \n",
       "\n",
       "            time time_plus    weekday          q  \n",
       "0       22:49:03     00:00  Wednesday  Wednesday  \n",
       "1       22:47:19     00:00  Wednesday  Wednesday  \n",
       "2       22:46:34     00:00  Wednesday  Wednesday  \n",
       "3       22:44:34     00:00  Wednesday  Wednesday  \n",
       "4       22:43:15     00:00  Wednesday  Wednesday  \n",
       "...          ...       ...        ...        ...  \n",
       "892021  02:25:48     00:00  Wednesday  Wednesday  \n",
       "892022  01:41:36     00:00  Wednesday  Wednesday  \n",
       "892023  00:52:36     00:00  Wednesday  Wednesday  \n",
       "892024  00:39:23     00:00  Wednesday  Wednesday  \n",
       "892025  00:23:52     00:00  Wednesday  Wednesday  \n",
       "\n",
       "[772865 rows x 8 columns]"
      ]
     },
     "execution_count": 18,
     "metadata": {},
     "output_type": "execute_result"
    }
   ],
   "source": [
    "df_d_c['weekday']=df_d_c['day'].apply(lambda x: check_weekday(str(x)))\n",
    "df_d_c"
   ]
  },
  {
   "cell_type": "code",
   "execution_count": 19,
   "metadata": {},
   "outputs": [
    {
     "data": {
      "text/html": [
       "<div>\n",
       "<style scoped>\n",
       "    .dataframe tbody tr th:only-of-type {\n",
       "        vertical-align: middle;\n",
       "    }\n",
       "\n",
       "    .dataframe tbody tr th {\n",
       "        vertical-align: top;\n",
       "    }\n",
       "\n",
       "    .dataframe thead th {\n",
       "        text-align: right;\n",
       "    }\n",
       "</style>\n",
       "<table border=\"1\" class=\"dataframe\">\n",
       "  <thead>\n",
       "    <tr style=\"text-align: right;\">\n",
       "      <th></th>\n",
       "      <th>Date</th>\n",
       "      <th>Content</th>\n",
       "      <th>content</th>\n",
       "      <th>day</th>\n",
       "      <th>time</th>\n",
       "      <th>time_plus</th>\n",
       "      <th>weekday</th>\n",
       "      <th>q</th>\n",
       "    </tr>\n",
       "  </thead>\n",
       "  <tbody>\n",
       "  </tbody>\n",
       "</table>\n",
       "</div>"
      ],
      "text/plain": [
       "Empty DataFrame\n",
       "Columns: [Date, Content, content, day, time, time_plus, weekday, q]\n",
       "Index: []"
      ]
     },
     "execution_count": 19,
     "metadata": {},
     "output_type": "execute_result"
    }
   ],
   "source": [
    "df_d_c['q']=df_d_c['weekday'].apply(lambda x: find_q(str(x)))\n",
    "df_d_c[df_d_c['q']==\"???\"]"
   ]
  },
  {
   "cell_type": "code",
   "execution_count": 20,
   "metadata": {},
   "outputs": [],
   "source": [
    "#left close and right open\n",
    "#convert time to 6 parts of the day\n",
    "def time_convert(x):\n",
    "    t_m=x[:-3]\n",
    "    if t_m>='00:00' and t_m<'04:00':\n",
    "        return '1_12am-4am'\n",
    "    elif t_m>='04:00' and t_m<'08:00':\n",
    "        return '2_4am-8am'\n",
    "    elif t_m>='08:00' and t_m<'12:00':\n",
    "        return '3_8am-12pm'\n",
    "    elif t_m>='12:00' and t_m<'16:00':\n",
    "        return '4_12pm-4pm'\n",
    "    elif t_m>='16:00' and t_m<'20:00':\n",
    "        return '5_4pm-8pm'\n",
    "    else:\n",
    "        return '6_8pm-12am'"
   ]
  },
  {
   "cell_type": "code",
   "execution_count": 21,
   "metadata": {},
   "outputs": [
    {
     "data": {
      "text/html": [
       "<div>\n",
       "<style scoped>\n",
       "    .dataframe tbody tr th:only-of-type {\n",
       "        vertical-align: middle;\n",
       "    }\n",
       "\n",
       "    .dataframe tbody tr th {\n",
       "        vertical-align: top;\n",
       "    }\n",
       "\n",
       "    .dataframe thead th {\n",
       "        text-align: right;\n",
       "    }\n",
       "</style>\n",
       "<table border=\"1\" class=\"dataframe\">\n",
       "  <thead>\n",
       "    <tr style=\"text-align: right;\">\n",
       "      <th></th>\n",
       "      <th>Date</th>\n",
       "      <th>Content</th>\n",
       "      <th>content</th>\n",
       "      <th>day</th>\n",
       "      <th>time</th>\n",
       "      <th>time_plus</th>\n",
       "      <th>weekday</th>\n",
       "      <th>q</th>\n",
       "      <th>6parts</th>\n",
       "    </tr>\n",
       "  </thead>\n",
       "  <tbody>\n",
       "    <tr>\n",
       "      <th>0</th>\n",
       "      <td>2022-08-31 22:49:03+00:00</td>\n",
       "      <td>@Penny8210 We heard you #teamnosleep..chichi</td>\n",
       "      <td>@Penny8210 We heard you #teamnosleep..chichi</td>\n",
       "      <td>2022-08-31</td>\n",
       "      <td>22:49:03</td>\n",
       "      <td>00:00</td>\n",
       "      <td>Wednesday</td>\n",
       "      <td>Wednesday</td>\n",
       "      <td>6_8pm-12am</td>\n",
       "    </tr>\n",
       "    <tr>\n",
       "      <th>1</th>\n",
       "      <td>2022-08-31 22:47:19+00:00</td>\n",
       "      <td>@wearefreeradio @Louis_Tomlinson We're so exci...</td>\n",
       "      <td>@wearefreeradio @Louis_Tomlinson We're so exci...</td>\n",
       "      <td>2022-08-31</td>\n",
       "      <td>22:47:19</td>\n",
       "      <td>00:00</td>\n",
       "      <td>Wednesday</td>\n",
       "      <td>Wednesday</td>\n",
       "      <td>6_8pm-12am</td>\n",
       "    </tr>\n",
       "    <tr>\n",
       "      <th>2</th>\n",
       "      <td>2022-08-31 22:46:34+00:00</td>\n",
       "      <td>@BlakeMcLain_ @Louis_Tomlinson We're so excite...</td>\n",
       "      <td>@BlakeMcLain_ @Louis_Tomlinson We're so excite...</td>\n",
       "      <td>2022-08-31</td>\n",
       "      <td>22:46:34</td>\n",
       "      <td>00:00</td>\n",
       "      <td>Wednesday</td>\n",
       "      <td>Wednesday</td>\n",
       "      <td>6_8pm-12am</td>\n",
       "    </tr>\n",
       "    <tr>\n",
       "      <th>3</th>\n",
       "      <td>2022-08-31 22:44:34+00:00</td>\n",
       "      <td>@officialcharts We're so excited for the new s...</td>\n",
       "      <td>@officialcharts We're so excited for the new s...</td>\n",
       "      <td>2022-08-31</td>\n",
       "      <td>22:44:34</td>\n",
       "      <td>00:00</td>\n",
       "      <td>Wednesday</td>\n",
       "      <td>Wednesday</td>\n",
       "      <td>6_8pm-12am</td>\n",
       "    </tr>\n",
       "    <tr>\n",
       "      <th>4</th>\n",
       "      <td>2022-08-31 22:43:15+00:00</td>\n",
       "      <td>@TheAffinityMag @Louis_Tomlinson We're so exci...</td>\n",
       "      <td>@TheAffinityMag @Louis_Tomlinson We're so exci...</td>\n",
       "      <td>2022-08-31</td>\n",
       "      <td>22:43:15</td>\n",
       "      <td>00:00</td>\n",
       "      <td>Wednesday</td>\n",
       "      <td>Wednesday</td>\n",
       "      <td>6_8pm-12am</td>\n",
       "    </tr>\n",
       "    <tr>\n",
       "      <th>...</th>\n",
       "      <td>...</td>\n",
       "      <td>...</td>\n",
       "      <td>...</td>\n",
       "      <td>...</td>\n",
       "      <td>...</td>\n",
       "      <td>...</td>\n",
       "      <td>...</td>\n",
       "      <td>...</td>\n",
       "      <td>...</td>\n",
       "    </tr>\n",
       "    <tr>\n",
       "      <th>892021</th>\n",
       "      <td>2022-06-01 02:25:48+00:00</td>\n",
       "      <td>@SpiroAgnewGhost What’s her next segment “Why ...</td>\n",
       "      <td>@SpiroAgnewGhost What’s her next segment “Why ...</td>\n",
       "      <td>2022-06-01</td>\n",
       "      <td>02:25:48</td>\n",
       "      <td>00:00</td>\n",
       "      <td>Wednesday</td>\n",
       "      <td>Wednesday</td>\n",
       "      <td>1_12am-4am</td>\n",
       "    </tr>\n",
       "    <tr>\n",
       "      <th>892022</th>\n",
       "      <td>2022-06-01 01:41:36+00:00</td>\n",
       "      <td>Having trouble sleeping? \\n\\nRogue Shop sleep ...</td>\n",
       "      <td>Having trouble sleeping? \\n\\nRogue Shop sleep ...</td>\n",
       "      <td>2022-06-01</td>\n",
       "      <td>01:41:36</td>\n",
       "      <td>00:00</td>\n",
       "      <td>Wednesday</td>\n",
       "      <td>Wednesday</td>\n",
       "      <td>1_12am-4am</td>\n",
       "    </tr>\n",
       "    <tr>\n",
       "      <th>892023</th>\n",
       "      <td>2022-06-01 00:52:36+00:00</td>\n",
       "      <td>@azaehanla I suggest trying an over the counte...</td>\n",
       "      <td>@azaehanla I suggest trying an over the counte...</td>\n",
       "      <td>2022-06-01</td>\n",
       "      <td>00:52:36</td>\n",
       "      <td>00:00</td>\n",
       "      <td>Wednesday</td>\n",
       "      <td>Wednesday</td>\n",
       "      <td>1_12am-4am</td>\n",
       "    </tr>\n",
       "    <tr>\n",
       "      <th>892024</th>\n",
       "      <td>2022-06-01 00:39:23+00:00</td>\n",
       "      <td>SummaForte(TM) Adds All-Natural Sleep Aid Summ...</td>\n",
       "      <td>SummaForte(TM) Adds All-Natural Sleep Aid Summ...</td>\n",
       "      <td>2022-06-01</td>\n",
       "      <td>00:39:23</td>\n",
       "      <td>00:00</td>\n",
       "      <td>Wednesday</td>\n",
       "      <td>Wednesday</td>\n",
       "      <td>1_12am-4am</td>\n",
       "    </tr>\n",
       "    <tr>\n",
       "      <th>892025</th>\n",
       "      <td>2022-06-01 00:23:52+00:00</td>\n",
       "      <td>@Elysabethgrace @Tuphlos @authorclondon @Autho...</td>\n",
       "      <td>@Elysabethgrace @Tuphlos @authorclondon @Autho...</td>\n",
       "      <td>2022-06-01</td>\n",
       "      <td>00:23:52</td>\n",
       "      <td>00:00</td>\n",
       "      <td>Wednesday</td>\n",
       "      <td>Wednesday</td>\n",
       "      <td>1_12am-4am</td>\n",
       "    </tr>\n",
       "  </tbody>\n",
       "</table>\n",
       "<p>772865 rows × 9 columns</p>\n",
       "</div>"
      ],
      "text/plain": [
       "                             Date  \\\n",
       "0       2022-08-31 22:49:03+00:00   \n",
       "1       2022-08-31 22:47:19+00:00   \n",
       "2       2022-08-31 22:46:34+00:00   \n",
       "3       2022-08-31 22:44:34+00:00   \n",
       "4       2022-08-31 22:43:15+00:00   \n",
       "...                           ...   \n",
       "892021  2022-06-01 02:25:48+00:00   \n",
       "892022  2022-06-01 01:41:36+00:00   \n",
       "892023  2022-06-01 00:52:36+00:00   \n",
       "892024  2022-06-01 00:39:23+00:00   \n",
       "892025  2022-06-01 00:23:52+00:00   \n",
       "\n",
       "                                                  Content  \\\n",
       "0            @Penny8210 We heard you #teamnosleep..chichi   \n",
       "1       @wearefreeradio @Louis_Tomlinson We're so exci...   \n",
       "2       @BlakeMcLain_ @Louis_Tomlinson We're so excite...   \n",
       "3       @officialcharts We're so excited for the new s...   \n",
       "4       @TheAffinityMag @Louis_Tomlinson We're so exci...   \n",
       "...                                                   ...   \n",
       "892021  @SpiroAgnewGhost What’s her next segment “Why ...   \n",
       "892022  Having trouble sleeping? \\n\\nRogue Shop sleep ...   \n",
       "892023  @azaehanla I suggest trying an over the counte...   \n",
       "892024  SummaForte(TM) Adds All-Natural Sleep Aid Summ...   \n",
       "892025  @Elysabethgrace @Tuphlos @authorclondon @Autho...   \n",
       "\n",
       "                                                  content         day  \\\n",
       "0            @Penny8210 We heard you #teamnosleep..chichi  2022-08-31   \n",
       "1       @wearefreeradio @Louis_Tomlinson We're so exci...  2022-08-31   \n",
       "2       @BlakeMcLain_ @Louis_Tomlinson We're so excite...  2022-08-31   \n",
       "3       @officialcharts We're so excited for the new s...  2022-08-31   \n",
       "4       @TheAffinityMag @Louis_Tomlinson We're so exci...  2022-08-31   \n",
       "...                                                   ...         ...   \n",
       "892021  @SpiroAgnewGhost What’s her next segment “Why ...  2022-06-01   \n",
       "892022  Having trouble sleeping? \\n\\nRogue Shop sleep ...  2022-06-01   \n",
       "892023  @azaehanla I suggest trying an over the counte...  2022-06-01   \n",
       "892024  SummaForte(TM) Adds All-Natural Sleep Aid Summ...  2022-06-01   \n",
       "892025  @Elysabethgrace @Tuphlos @authorclondon @Autho...  2022-06-01   \n",
       "\n",
       "            time time_plus    weekday          q      6parts  \n",
       "0       22:49:03     00:00  Wednesday  Wednesday  6_8pm-12am  \n",
       "1       22:47:19     00:00  Wednesday  Wednesday  6_8pm-12am  \n",
       "2       22:46:34     00:00  Wednesday  Wednesday  6_8pm-12am  \n",
       "3       22:44:34     00:00  Wednesday  Wednesday  6_8pm-12am  \n",
       "4       22:43:15     00:00  Wednesday  Wednesday  6_8pm-12am  \n",
       "...          ...       ...        ...        ...         ...  \n",
       "892021  02:25:48     00:00  Wednesday  Wednesday  1_12am-4am  \n",
       "892022  01:41:36     00:00  Wednesday  Wednesday  1_12am-4am  \n",
       "892023  00:52:36     00:00  Wednesday  Wednesday  1_12am-4am  \n",
       "892024  00:39:23     00:00  Wednesday  Wednesday  1_12am-4am  \n",
       "892025  00:23:52     00:00  Wednesday  Wednesday  1_12am-4am  \n",
       "\n",
       "[772865 rows x 9 columns]"
      ]
     },
     "execution_count": 21,
     "metadata": {},
     "output_type": "execute_result"
    }
   ],
   "source": [
    "df_d_c['6parts']=df_d_c['time'].apply(lambda x: time_convert(str(x)))\n",
    "df_d_c"
   ]
  },
  {
   "cell_type": "code",
   "execution_count": 22,
   "metadata": {},
   "outputs": [
    {
     "data": {
      "text/html": [
       "<div>\n",
       "<style scoped>\n",
       "    .dataframe tbody tr th:only-of-type {\n",
       "        vertical-align: middle;\n",
       "    }\n",
       "\n",
       "    .dataframe tbody tr th {\n",
       "        vertical-align: top;\n",
       "    }\n",
       "\n",
       "    .dataframe thead th {\n",
       "        text-align: right;\n",
       "    }\n",
       "</style>\n",
       "<table border=\"1\" class=\"dataframe\">\n",
       "  <thead>\n",
       "    <tr style=\"text-align: right;\">\n",
       "      <th></th>\n",
       "      <th>Date</th>\n",
       "      <th>Content</th>\n",
       "      <th>content</th>\n",
       "      <th>day</th>\n",
       "      <th>time</th>\n",
       "      <th>time_plus</th>\n",
       "      <th>weekday</th>\n",
       "      <th>q</th>\n",
       "      <th>6parts</th>\n",
       "    </tr>\n",
       "  </thead>\n",
       "  <tbody>\n",
       "    <tr>\n",
       "      <th>104</th>\n",
       "      <td>2022-08-26 11:32:02+00:00</td>\n",
       "      <td>@Kitacookie Jelly #teamnosleep</td>\n",
       "      <td>@Kitacookie Jelly #teamnosleep</td>\n",
       "      <td>2022-08-26</td>\n",
       "      <td>11:32:02</td>\n",
       "      <td>00:00</td>\n",
       "      <td>Friday</td>\n",
       "      <td>Friday</td>\n",
       "      <td>3_8am-12pm</td>\n",
       "    </tr>\n",
       "    <tr>\n",
       "      <th>105</th>\n",
       "      <td>2022-08-26 09:30:11+00:00</td>\n",
       "      <td>#teamnosleep @ShibuSociety\\n\\n\"Don't watch the...</td>\n",
       "      <td>#teamnosleep @ShibuSociety\\n\\n\"Don't watch the...</td>\n",
       "      <td>2022-08-26</td>\n",
       "      <td>09:30:11</td>\n",
       "      <td>00:00</td>\n",
       "      <td>Friday</td>\n",
       "      <td>Friday</td>\n",
       "      <td>3_8am-12pm</td>\n",
       "    </tr>\n",
       "    <tr>\n",
       "      <th>106</th>\n",
       "      <td>2022-08-26 09:04:31+00:00</td>\n",
       "      <td>College season may kick off this weekend, but ...</td>\n",
       "      <td>College season may kick off this weekend, but ...</td>\n",
       "      <td>2022-08-26</td>\n",
       "      <td>09:04:31</td>\n",
       "      <td>00:00</td>\n",
       "      <td>Friday</td>\n",
       "      <td>Friday</td>\n",
       "      <td>3_8am-12pm</td>\n",
       "    </tr>\n",
       "    <tr>\n",
       "      <th>107</th>\n",
       "      <td>2022-08-26 08:04:31+00:00</td>\n",
       "      <td>When you wake up and find this ⬇️, nope you do...</td>\n",
       "      <td>When you wake up and find this ⬇️, nope you do...</td>\n",
       "      <td>2022-08-26</td>\n",
       "      <td>08:04:31</td>\n",
       "      <td>00:00</td>\n",
       "      <td>Friday</td>\n",
       "      <td>Friday</td>\n",
       "      <td>3_8am-12pm</td>\n",
       "    </tr>\n",
       "    <tr>\n",
       "      <th>208</th>\n",
       "      <td>2022-08-19 11:58:36+00:00</td>\n",
       "      <td>#teamnosleep feeling extremely bullish this mo...</td>\n",
       "      <td>#teamnosleep feeling extremely bullish this mo...</td>\n",
       "      <td>2022-08-19</td>\n",
       "      <td>11:58:36</td>\n",
       "      <td>00:00</td>\n",
       "      <td>Friday</td>\n",
       "      <td>Friday</td>\n",
       "      <td>3_8am-12pm</td>\n",
       "    </tr>\n",
       "    <tr>\n",
       "      <th>...</th>\n",
       "      <td>...</td>\n",
       "      <td>...</td>\n",
       "      <td>...</td>\n",
       "      <td>...</td>\n",
       "      <td>...</td>\n",
       "      <td>...</td>\n",
       "      <td>...</td>\n",
       "      <td>...</td>\n",
       "      <td>...</td>\n",
       "    </tr>\n",
       "    <tr>\n",
       "      <th>891825</th>\n",
       "      <td>2022-06-03 10:25:09+00:00</td>\n",
       "      <td>Researchers are drawing attention to a rise in...</td>\n",
       "      <td>Researchers are drawing attention to a rise in...</td>\n",
       "      <td>2022-06-03</td>\n",
       "      <td>10:25:09</td>\n",
       "      <td>00:00</td>\n",
       "      <td>Friday</td>\n",
       "      <td>Friday</td>\n",
       "      <td>3_8am-12pm</td>\n",
       "    </tr>\n",
       "    <tr>\n",
       "      <th>891826</th>\n",
       "      <td>2022-06-03 10:20:50+00:00</td>\n",
       "      <td>Me fucked up on sleep aid and dabs at 4:00 in ...</td>\n",
       "      <td>Me fucked up on sleep aid and dabs at 4:00 in ...</td>\n",
       "      <td>2022-06-03</td>\n",
       "      <td>10:20:50</td>\n",
       "      <td>00:00</td>\n",
       "      <td>Friday</td>\n",
       "      <td>Friday</td>\n",
       "      <td>3_8am-12pm</td>\n",
       "    </tr>\n",
       "    <tr>\n",
       "      <th>891827</th>\n",
       "      <td>2022-06-03 08:33:17+00:00</td>\n",
       "      <td>Need my sleep aid</td>\n",
       "      <td>Need my sleep aid</td>\n",
       "      <td>2022-06-03</td>\n",
       "      <td>08:33:17</td>\n",
       "      <td>00:00</td>\n",
       "      <td>Friday</td>\n",
       "      <td>Friday</td>\n",
       "      <td>3_8am-12pm</td>\n",
       "    </tr>\n",
       "    <tr>\n",
       "      <th>891828</th>\n",
       "      <td>2022-06-03 08:30:15+00:00</td>\n",
       "      <td>A new study is drawing attention to a rise in ...</td>\n",
       "      <td>A new study is drawing attention to a rise in ...</td>\n",
       "      <td>2022-06-03</td>\n",
       "      <td>08:30:15</td>\n",
       "      <td>00:00</td>\n",
       "      <td>Friday</td>\n",
       "      <td>Friday</td>\n",
       "      <td>3_8am-12pm</td>\n",
       "    </tr>\n",
       "    <tr>\n",
       "      <th>891829</th>\n",
       "      <td>2022-06-03 08:24:04+00:00</td>\n",
       "      <td>Researchers are drawing attention to a rise in...</td>\n",
       "      <td>Researchers are drawing attention to a rise in...</td>\n",
       "      <td>2022-06-03</td>\n",
       "      <td>08:24:04</td>\n",
       "      <td>00:00</td>\n",
       "      <td>Friday</td>\n",
       "      <td>Friday</td>\n",
       "      <td>3_8am-12pm</td>\n",
       "    </tr>\n",
       "  </tbody>\n",
       "</table>\n",
       "<p>18281 rows × 9 columns</p>\n",
       "</div>"
      ],
      "text/plain": [
       "                             Date  \\\n",
       "104     2022-08-26 11:32:02+00:00   \n",
       "105     2022-08-26 09:30:11+00:00   \n",
       "106     2022-08-26 09:04:31+00:00   \n",
       "107     2022-08-26 08:04:31+00:00   \n",
       "208     2022-08-19 11:58:36+00:00   \n",
       "...                           ...   \n",
       "891825  2022-06-03 10:25:09+00:00   \n",
       "891826  2022-06-03 10:20:50+00:00   \n",
       "891827  2022-06-03 08:33:17+00:00   \n",
       "891828  2022-06-03 08:30:15+00:00   \n",
       "891829  2022-06-03 08:24:04+00:00   \n",
       "\n",
       "                                                  Content  \\\n",
       "104                        @Kitacookie Jelly #teamnosleep   \n",
       "105     #teamnosleep @ShibuSociety\\n\\n\"Don't watch the...   \n",
       "106     College season may kick off this weekend, but ...   \n",
       "107     When you wake up and find this ⬇️, nope you do...   \n",
       "208     #teamnosleep feeling extremely bullish this mo...   \n",
       "...                                                   ...   \n",
       "891825  Researchers are drawing attention to a rise in...   \n",
       "891826  Me fucked up on sleep aid and dabs at 4:00 in ...   \n",
       "891827                                  Need my sleep aid   \n",
       "891828  A new study is drawing attention to a rise in ...   \n",
       "891829  Researchers are drawing attention to a rise in...   \n",
       "\n",
       "                                                  content         day  \\\n",
       "104                        @Kitacookie Jelly #teamnosleep  2022-08-26   \n",
       "105     #teamnosleep @ShibuSociety\\n\\n\"Don't watch the...  2022-08-26   \n",
       "106     College season may kick off this weekend, but ...  2022-08-26   \n",
       "107     When you wake up and find this ⬇️, nope you do...  2022-08-26   \n",
       "208     #teamnosleep feeling extremely bullish this mo...  2022-08-19   \n",
       "...                                                   ...         ...   \n",
       "891825  Researchers are drawing attention to a rise in...  2022-06-03   \n",
       "891826  Me fucked up on sleep aid and dabs at 4:00 in ...  2022-06-03   \n",
       "891827                                  Need my sleep aid  2022-06-03   \n",
       "891828  A new study is drawing attention to a rise in ...  2022-06-03   \n",
       "891829  Researchers are drawing attention to a rise in...  2022-06-03   \n",
       "\n",
       "            time time_plus weekday       q      6parts  \n",
       "104     11:32:02     00:00  Friday  Friday  3_8am-12pm  \n",
       "105     09:30:11     00:00  Friday  Friday  3_8am-12pm  \n",
       "106     09:04:31     00:00  Friday  Friday  3_8am-12pm  \n",
       "107     08:04:31     00:00  Friday  Friday  3_8am-12pm  \n",
       "208     11:58:36     00:00  Friday  Friday  3_8am-12pm  \n",
       "...          ...       ...     ...     ...         ...  \n",
       "891825  10:25:09     00:00  Friday  Friday  3_8am-12pm  \n",
       "891826  10:20:50     00:00  Friday  Friday  3_8am-12pm  \n",
       "891827  08:33:17     00:00  Friday  Friday  3_8am-12pm  \n",
       "891828  08:30:15     00:00  Friday  Friday  3_8am-12pm  \n",
       "891829  08:24:04     00:00  Friday  Friday  3_8am-12pm  \n",
       "\n",
       "[18281 rows x 9 columns]"
      ]
     },
     "execution_count": 22,
     "metadata": {},
     "output_type": "execute_result"
    }
   ],
   "source": [
    "df_t=df_d_c[df_d_c['weekday']=='Friday']\n",
    "df_t=df_t[df_t['6parts']=='3_8am-12pm']\n",
    "df_t"
   ]
  },
  {
   "cell_type": "code",
   "execution_count": 23,
   "metadata": {},
   "outputs": [],
   "source": [
    "def sort_time(x):\n",
    "    if x=='12am-4am':\n",
    "        g=1\n",
    "    elif x=='4am-8am':\n",
    "        g=2\n",
    "    elif x=='8am-12pm':\n",
    "        g=3\n",
    "    elif x=='12pm-4pm':\n",
    "        g=4\n",
    "    elif x=='4pm-8pm':\n",
    "        g=5\n",
    "    else:\n",
    "        g=6\n",
    "    return g"
   ]
  },
  {
   "cell_type": "code",
   "execution_count": 24,
   "metadata": {},
   "outputs": [],
   "source": [
    "def m_n(x):\n",
    "    if x=='Monday':\n",
    "        g='1'+x\n",
    "    elif x=='Tuesday':\n",
    "        g='2'+x\n",
    "    elif x=='Wednesday':\n",
    "        g='3'+x\n",
    "    elif x=='Thursday':\n",
    "        g='4'+x\n",
    "    elif x=='Friday':\n",
    "        g='5'+x\n",
    "    elif x=='Saturday':\n",
    "        g='6'+x\n",
    "    else:\n",
    "        g='7'+x\n",
    "    return g"
   ]
  },
  {
   "cell_type": "code",
   "execution_count": 25,
   "metadata": {},
   "outputs": [
    {
     "data": {
      "text/html": [
       "<div>\n",
       "<style scoped>\n",
       "    .dataframe tbody tr th:only-of-type {\n",
       "        vertical-align: middle;\n",
       "    }\n",
       "\n",
       "    .dataframe tbody tr th {\n",
       "        vertical-align: top;\n",
       "    }\n",
       "\n",
       "    .dataframe thead th {\n",
       "        text-align: right;\n",
       "    }\n",
       "</style>\n",
       "<table border=\"1\" class=\"dataframe\">\n",
       "  <thead>\n",
       "    <tr style=\"text-align: right;\">\n",
       "      <th></th>\n",
       "      <th>weekday</th>\n",
       "      <th>6parts</th>\n",
       "      <th>count</th>\n",
       "      <th>count_mean</th>\n",
       "      <th>sort_time</th>\n",
       "      <th>weekday_sort</th>\n",
       "    </tr>\n",
       "  </thead>\n",
       "  <tbody>\n",
       "    <tr>\n",
       "      <th>0</th>\n",
       "      <td>Friday</td>\n",
       "      <td>1_12am-4am</td>\n",
       "      <td>1418.615385</td>\n",
       "      <td>1418.62</td>\n",
       "      <td>6</td>\n",
       "      <td>5Friday</td>\n",
       "    </tr>\n",
       "    <tr>\n",
       "      <th>1</th>\n",
       "      <td>Friday</td>\n",
       "      <td>2_4am-8am</td>\n",
       "      <td>2041.538462</td>\n",
       "      <td>2041.54</td>\n",
       "      <td>6</td>\n",
       "      <td>5Friday</td>\n",
       "    </tr>\n",
       "    <tr>\n",
       "      <th>2</th>\n",
       "      <td>Friday</td>\n",
       "      <td>3_8am-12pm</td>\n",
       "      <td>1406.230769</td>\n",
       "      <td>1406.23</td>\n",
       "      <td>6</td>\n",
       "      <td>5Friday</td>\n",
       "    </tr>\n",
       "    <tr>\n",
       "      <th>3</th>\n",
       "      <td>Friday</td>\n",
       "      <td>4_12pm-4pm</td>\n",
       "      <td>996.615385</td>\n",
       "      <td>996.62</td>\n",
       "      <td>6</td>\n",
       "      <td>5Friday</td>\n",
       "    </tr>\n",
       "    <tr>\n",
       "      <th>4</th>\n",
       "      <td>Friday</td>\n",
       "      <td>5_4pm-8pm</td>\n",
       "      <td>1359.769231</td>\n",
       "      <td>1359.77</td>\n",
       "      <td>6</td>\n",
       "      <td>5Friday</td>\n",
       "    </tr>\n",
       "    <tr>\n",
       "      <th>5</th>\n",
       "      <td>Friday</td>\n",
       "      <td>6_8pm-12am</td>\n",
       "      <td>1108.461538</td>\n",
       "      <td>1108.46</td>\n",
       "      <td>6</td>\n",
       "      <td>5Friday</td>\n",
       "    </tr>\n",
       "    <tr>\n",
       "      <th>6</th>\n",
       "      <td>Monday</td>\n",
       "      <td>1_12am-4am</td>\n",
       "      <td>1454.538462</td>\n",
       "      <td>1454.54</td>\n",
       "      <td>6</td>\n",
       "      <td>1Monday</td>\n",
       "    </tr>\n",
       "    <tr>\n",
       "      <th>7</th>\n",
       "      <td>Monday</td>\n",
       "      <td>2_4am-8am</td>\n",
       "      <td>2135.692308</td>\n",
       "      <td>2135.69</td>\n",
       "      <td>6</td>\n",
       "      <td>1Monday</td>\n",
       "    </tr>\n",
       "    <tr>\n",
       "      <th>8</th>\n",
       "      <td>Monday</td>\n",
       "      <td>3_8am-12pm</td>\n",
       "      <td>1393.076923</td>\n",
       "      <td>1393.08</td>\n",
       "      <td>6</td>\n",
       "      <td>1Monday</td>\n",
       "    </tr>\n",
       "    <tr>\n",
       "      <th>9</th>\n",
       "      <td>Monday</td>\n",
       "      <td>4_12pm-4pm</td>\n",
       "      <td>1042.230769</td>\n",
       "      <td>1042.23</td>\n",
       "      <td>6</td>\n",
       "      <td>1Monday</td>\n",
       "    </tr>\n",
       "    <tr>\n",
       "      <th>10</th>\n",
       "      <td>Monday</td>\n",
       "      <td>5_4pm-8pm</td>\n",
       "      <td>1406.538462</td>\n",
       "      <td>1406.54</td>\n",
       "      <td>6</td>\n",
       "      <td>1Monday</td>\n",
       "    </tr>\n",
       "    <tr>\n",
       "      <th>11</th>\n",
       "      <td>Monday</td>\n",
       "      <td>6_8pm-12am</td>\n",
       "      <td>1248.923077</td>\n",
       "      <td>1248.92</td>\n",
       "      <td>6</td>\n",
       "      <td>1Monday</td>\n",
       "    </tr>\n",
       "    <tr>\n",
       "      <th>12</th>\n",
       "      <td>Saturday</td>\n",
       "      <td>1_12am-4am</td>\n",
       "      <td>1259.307692</td>\n",
       "      <td>1259.31</td>\n",
       "      <td>6</td>\n",
       "      <td>6Saturday</td>\n",
       "    </tr>\n",
       "    <tr>\n",
       "      <th>13</th>\n",
       "      <td>Saturday</td>\n",
       "      <td>2_4am-8am</td>\n",
       "      <td>1708.307692</td>\n",
       "      <td>1708.31</td>\n",
       "      <td>6</td>\n",
       "      <td>6Saturday</td>\n",
       "    </tr>\n",
       "    <tr>\n",
       "      <th>14</th>\n",
       "      <td>Saturday</td>\n",
       "      <td>3_8am-12pm</td>\n",
       "      <td>1358.153846</td>\n",
       "      <td>1358.15</td>\n",
       "      <td>6</td>\n",
       "      <td>6Saturday</td>\n",
       "    </tr>\n",
       "    <tr>\n",
       "      <th>15</th>\n",
       "      <td>Saturday</td>\n",
       "      <td>4_12pm-4pm</td>\n",
       "      <td>940.692308</td>\n",
       "      <td>940.69</td>\n",
       "      <td>6</td>\n",
       "      <td>6Saturday</td>\n",
       "    </tr>\n",
       "    <tr>\n",
       "      <th>16</th>\n",
       "      <td>Saturday</td>\n",
       "      <td>5_4pm-8pm</td>\n",
       "      <td>1344.230769</td>\n",
       "      <td>1344.23</td>\n",
       "      <td>6</td>\n",
       "      <td>6Saturday</td>\n",
       "    </tr>\n",
       "    <tr>\n",
       "      <th>17</th>\n",
       "      <td>Saturday</td>\n",
       "      <td>6_8pm-12am</td>\n",
       "      <td>1127.538462</td>\n",
       "      <td>1127.54</td>\n",
       "      <td>6</td>\n",
       "      <td>6Saturday</td>\n",
       "    </tr>\n",
       "    <tr>\n",
       "      <th>18</th>\n",
       "      <td>Sunday</td>\n",
       "      <td>1_12am-4am</td>\n",
       "      <td>1242.153846</td>\n",
       "      <td>1242.15</td>\n",
       "      <td>6</td>\n",
       "      <td>7Sunday</td>\n",
       "    </tr>\n",
       "    <tr>\n",
       "      <th>19</th>\n",
       "      <td>Sunday</td>\n",
       "      <td>2_4am-8am</td>\n",
       "      <td>1659.615385</td>\n",
       "      <td>1659.62</td>\n",
       "      <td>6</td>\n",
       "      <td>7Sunday</td>\n",
       "    </tr>\n",
       "    <tr>\n",
       "      <th>20</th>\n",
       "      <td>Sunday</td>\n",
       "      <td>3_8am-12pm</td>\n",
       "      <td>1339.000000</td>\n",
       "      <td>1339.00</td>\n",
       "      <td>6</td>\n",
       "      <td>7Sunday</td>\n",
       "    </tr>\n",
       "    <tr>\n",
       "      <th>21</th>\n",
       "      <td>Sunday</td>\n",
       "      <td>4_12pm-4pm</td>\n",
       "      <td>952.153846</td>\n",
       "      <td>952.15</td>\n",
       "      <td>6</td>\n",
       "      <td>7Sunday</td>\n",
       "    </tr>\n",
       "    <tr>\n",
       "      <th>22</th>\n",
       "      <td>Sunday</td>\n",
       "      <td>5_4pm-8pm</td>\n",
       "      <td>1391.384615</td>\n",
       "      <td>1391.38</td>\n",
       "      <td>6</td>\n",
       "      <td>7Sunday</td>\n",
       "    </tr>\n",
       "    <tr>\n",
       "      <th>23</th>\n",
       "      <td>Sunday</td>\n",
       "      <td>6_8pm-12am</td>\n",
       "      <td>1226.615385</td>\n",
       "      <td>1226.62</td>\n",
       "      <td>6</td>\n",
       "      <td>7Sunday</td>\n",
       "    </tr>\n",
       "    <tr>\n",
       "      <th>24</th>\n",
       "      <td>Thursday</td>\n",
       "      <td>1_12am-4am</td>\n",
       "      <td>1470.000000</td>\n",
       "      <td>1470.00</td>\n",
       "      <td>6</td>\n",
       "      <td>4Thursday</td>\n",
       "    </tr>\n",
       "    <tr>\n",
       "      <th>25</th>\n",
       "      <td>Thursday</td>\n",
       "      <td>2_4am-8am</td>\n",
       "      <td>2074.076923</td>\n",
       "      <td>2074.08</td>\n",
       "      <td>6</td>\n",
       "      <td>4Thursday</td>\n",
       "    </tr>\n",
       "    <tr>\n",
       "      <th>26</th>\n",
       "      <td>Thursday</td>\n",
       "      <td>3_8am-12pm</td>\n",
       "      <td>1430.538462</td>\n",
       "      <td>1430.54</td>\n",
       "      <td>6</td>\n",
       "      <td>4Thursday</td>\n",
       "    </tr>\n",
       "    <tr>\n",
       "      <th>27</th>\n",
       "      <td>Thursday</td>\n",
       "      <td>4_12pm-4pm</td>\n",
       "      <td>1046.461538</td>\n",
       "      <td>1046.46</td>\n",
       "      <td>6</td>\n",
       "      <td>4Thursday</td>\n",
       "    </tr>\n",
       "    <tr>\n",
       "      <th>28</th>\n",
       "      <td>Thursday</td>\n",
       "      <td>5_4pm-8pm</td>\n",
       "      <td>1453.923077</td>\n",
       "      <td>1453.92</td>\n",
       "      <td>6</td>\n",
       "      <td>4Thursday</td>\n",
       "    </tr>\n",
       "    <tr>\n",
       "      <th>29</th>\n",
       "      <td>Thursday</td>\n",
       "      <td>6_8pm-12am</td>\n",
       "      <td>1246.230769</td>\n",
       "      <td>1246.23</td>\n",
       "      <td>6</td>\n",
       "      <td>4Thursday</td>\n",
       "    </tr>\n",
       "    <tr>\n",
       "      <th>30</th>\n",
       "      <td>Tuesday</td>\n",
       "      <td>1_12am-4am</td>\n",
       "      <td>1491.384615</td>\n",
       "      <td>1491.38</td>\n",
       "      <td>6</td>\n",
       "      <td>2Tuesday</td>\n",
       "    </tr>\n",
       "    <tr>\n",
       "      <th>31</th>\n",
       "      <td>Tuesday</td>\n",
       "      <td>2_4am-8am</td>\n",
       "      <td>2070.384615</td>\n",
       "      <td>2070.38</td>\n",
       "      <td>6</td>\n",
       "      <td>2Tuesday</td>\n",
       "    </tr>\n",
       "    <tr>\n",
       "      <th>32</th>\n",
       "      <td>Tuesday</td>\n",
       "      <td>3_8am-12pm</td>\n",
       "      <td>1449.076923</td>\n",
       "      <td>1449.08</td>\n",
       "      <td>6</td>\n",
       "      <td>2Tuesday</td>\n",
       "    </tr>\n",
       "    <tr>\n",
       "      <th>33</th>\n",
       "      <td>Tuesday</td>\n",
       "      <td>4_12pm-4pm</td>\n",
       "      <td>1069.230769</td>\n",
       "      <td>1069.23</td>\n",
       "      <td>6</td>\n",
       "      <td>2Tuesday</td>\n",
       "    </tr>\n",
       "    <tr>\n",
       "      <th>34</th>\n",
       "      <td>Tuesday</td>\n",
       "      <td>5_4pm-8pm</td>\n",
       "      <td>1439.000000</td>\n",
       "      <td>1439.00</td>\n",
       "      <td>6</td>\n",
       "      <td>2Tuesday</td>\n",
       "    </tr>\n",
       "    <tr>\n",
       "      <th>35</th>\n",
       "      <td>Tuesday</td>\n",
       "      <td>6_8pm-12am</td>\n",
       "      <td>1280.000000</td>\n",
       "      <td>1280.00</td>\n",
       "      <td>6</td>\n",
       "      <td>2Tuesday</td>\n",
       "    </tr>\n",
       "    <tr>\n",
       "      <th>36</th>\n",
       "      <td>Wednesday</td>\n",
       "      <td>1_12am-4am</td>\n",
       "      <td>1456.642857</td>\n",
       "      <td>1456.64</td>\n",
       "      <td>6</td>\n",
       "      <td>3Wednesday</td>\n",
       "    </tr>\n",
       "    <tr>\n",
       "      <th>37</th>\n",
       "      <td>Wednesday</td>\n",
       "      <td>2_4am-8am</td>\n",
       "      <td>2078.714286</td>\n",
       "      <td>2078.71</td>\n",
       "      <td>6</td>\n",
       "      <td>3Wednesday</td>\n",
       "    </tr>\n",
       "    <tr>\n",
       "      <th>38</th>\n",
       "      <td>Wednesday</td>\n",
       "      <td>3_8am-12pm</td>\n",
       "      <td>1433.285714</td>\n",
       "      <td>1433.29</td>\n",
       "      <td>6</td>\n",
       "      <td>3Wednesday</td>\n",
       "    </tr>\n",
       "    <tr>\n",
       "      <th>39</th>\n",
       "      <td>Wednesday</td>\n",
       "      <td>4_12pm-4pm</td>\n",
       "      <td>1077.142857</td>\n",
       "      <td>1077.14</td>\n",
       "      <td>6</td>\n",
       "      <td>3Wednesday</td>\n",
       "    </tr>\n",
       "    <tr>\n",
       "      <th>40</th>\n",
       "      <td>Wednesday</td>\n",
       "      <td>5_4pm-8pm</td>\n",
       "      <td>1417.428571</td>\n",
       "      <td>1417.43</td>\n",
       "      <td>6</td>\n",
       "      <td>3Wednesday</td>\n",
       "    </tr>\n",
       "    <tr>\n",
       "      <th>41</th>\n",
       "      <td>Wednesday</td>\n",
       "      <td>6_8pm-12am</td>\n",
       "      <td>1237.000000</td>\n",
       "      <td>1237.00</td>\n",
       "      <td>6</td>\n",
       "      <td>3Wednesday</td>\n",
       "    </tr>\n",
       "  </tbody>\n",
       "</table>\n",
       "</div>"
      ],
      "text/plain": [
       "      weekday      6parts        count  count_mean  sort_time weekday_sort\n",
       "0      Friday  1_12am-4am  1418.615385     1418.62          6      5Friday\n",
       "1      Friday   2_4am-8am  2041.538462     2041.54          6      5Friday\n",
       "2      Friday  3_8am-12pm  1406.230769     1406.23          6      5Friday\n",
       "3      Friday  4_12pm-4pm   996.615385      996.62          6      5Friday\n",
       "4      Friday   5_4pm-8pm  1359.769231     1359.77          6      5Friday\n",
       "5      Friday  6_8pm-12am  1108.461538     1108.46          6      5Friday\n",
       "6      Monday  1_12am-4am  1454.538462     1454.54          6      1Monday\n",
       "7      Monday   2_4am-8am  2135.692308     2135.69          6      1Monday\n",
       "8      Monday  3_8am-12pm  1393.076923     1393.08          6      1Monday\n",
       "9      Monday  4_12pm-4pm  1042.230769     1042.23          6      1Monday\n",
       "10     Monday   5_4pm-8pm  1406.538462     1406.54          6      1Monday\n",
       "11     Monday  6_8pm-12am  1248.923077     1248.92          6      1Monday\n",
       "12   Saturday  1_12am-4am  1259.307692     1259.31          6    6Saturday\n",
       "13   Saturday   2_4am-8am  1708.307692     1708.31          6    6Saturday\n",
       "14   Saturday  3_8am-12pm  1358.153846     1358.15          6    6Saturday\n",
       "15   Saturday  4_12pm-4pm   940.692308      940.69          6    6Saturday\n",
       "16   Saturday   5_4pm-8pm  1344.230769     1344.23          6    6Saturday\n",
       "17   Saturday  6_8pm-12am  1127.538462     1127.54          6    6Saturday\n",
       "18     Sunday  1_12am-4am  1242.153846     1242.15          6      7Sunday\n",
       "19     Sunday   2_4am-8am  1659.615385     1659.62          6      7Sunday\n",
       "20     Sunday  3_8am-12pm  1339.000000     1339.00          6      7Sunday\n",
       "21     Sunday  4_12pm-4pm   952.153846      952.15          6      7Sunday\n",
       "22     Sunday   5_4pm-8pm  1391.384615     1391.38          6      7Sunday\n",
       "23     Sunday  6_8pm-12am  1226.615385     1226.62          6      7Sunday\n",
       "24   Thursday  1_12am-4am  1470.000000     1470.00          6    4Thursday\n",
       "25   Thursday   2_4am-8am  2074.076923     2074.08          6    4Thursday\n",
       "26   Thursday  3_8am-12pm  1430.538462     1430.54          6    4Thursday\n",
       "27   Thursday  4_12pm-4pm  1046.461538     1046.46          6    4Thursday\n",
       "28   Thursday   5_4pm-8pm  1453.923077     1453.92          6    4Thursday\n",
       "29   Thursday  6_8pm-12am  1246.230769     1246.23          6    4Thursday\n",
       "30    Tuesday  1_12am-4am  1491.384615     1491.38          6     2Tuesday\n",
       "31    Tuesday   2_4am-8am  2070.384615     2070.38          6     2Tuesday\n",
       "32    Tuesday  3_8am-12pm  1449.076923     1449.08          6     2Tuesday\n",
       "33    Tuesday  4_12pm-4pm  1069.230769     1069.23          6     2Tuesday\n",
       "34    Tuesday   5_4pm-8pm  1439.000000     1439.00          6     2Tuesday\n",
       "35    Tuesday  6_8pm-12am  1280.000000     1280.00          6     2Tuesday\n",
       "36  Wednesday  1_12am-4am  1456.642857     1456.64          6   3Wednesday\n",
       "37  Wednesday   2_4am-8am  2078.714286     2078.71          6   3Wednesday\n",
       "38  Wednesday  3_8am-12pm  1433.285714     1433.29          6   3Wednesday\n",
       "39  Wednesday  4_12pm-4pm  1077.142857     1077.14          6   3Wednesday\n",
       "40  Wednesday   5_4pm-8pm  1417.428571     1417.43          6   3Wednesday\n",
       "41  Wednesday  6_8pm-12am  1237.000000     1237.00          6   3Wednesday"
      ]
     },
     "execution_count": 25,
     "metadata": {},
     "output_type": "execute_result"
    }
   ],
   "source": [
    "df_wd_6p=df_d_c[['day','weekday','6parts']]\n",
    "df_wd_6p['count']=1\n",
    "df_wd_6p=df_wd_6p.groupby(['weekday','6parts','day']).count()\n",
    "# df_wd_6p\n",
    "df_wd_6p=df_wd_6p.reset_index()\n",
    "a=df_wd_6p.groupby(['weekday','6parts']).mean()\n",
    "a=a.reset_index()\n",
    "a['count_mean']=a['count'].apply(lambda x: round(x,2))\n",
    "a['sort_time']=a['6parts'].apply(lambda x: sort_time(x))\n",
    "a['weekday_sort']=a['weekday'].apply(lambda x: m_n(x))\n",
    "a"
   ]
  },
  {
   "cell_type": "code",
   "execution_count": 153,
   "metadata": {},
   "outputs": [],
   "source": [
    "a.to_csv('sunburst_t.csv')"
   ]
  },
  {
   "cell_type": "markdown",
   "metadata": {},
   "source": [
    "We tried to sort the sunburst (ie. make it from Mon.-Sun., 12am-4am--8pm-12am)<br>\n",
    "But the output is quite strange (we leave it at the bottom)<br>\n",
    "so we process the data again in the excel"
   ]
  },
  {
   "cell_type": "code",
   "execution_count": 26,
   "metadata": {},
   "outputs": [
    {
     "data": {
      "text/html": [
       "<div>\n",
       "<style scoped>\n",
       "    .dataframe tbody tr th:only-of-type {\n",
       "        vertical-align: middle;\n",
       "    }\n",
       "\n",
       "    .dataframe tbody tr th {\n",
       "        vertical-align: top;\n",
       "    }\n",
       "\n",
       "    .dataframe thead th {\n",
       "        text-align: right;\n",
       "    }\n",
       "</style>\n",
       "<table border=\"1\" class=\"dataframe\">\n",
       "  <thead>\n",
       "    <tr style=\"text-align: right;\">\n",
       "      <th></th>\n",
       "      <th>Unnamed: 0</th>\n",
       "      <th>6parts_sort</th>\n",
       "      <th>count</th>\n",
       "      <th>count_mean</th>\n",
       "      <th>weekday_sort</th>\n",
       "      <th>ids</th>\n",
       "      <th>6parts</th>\n",
       "      <th>weekday</th>\n",
       "    </tr>\n",
       "  </thead>\n",
       "  <tbody>\n",
       "    <tr>\n",
       "      <th>0</th>\n",
       "      <td>0</td>\n",
       "      <td>1_12am-4am</td>\n",
       "      <td>1418.615385</td>\n",
       "      <td>1418.62</td>\n",
       "      <td>5Friday</td>\n",
       "      <td>12am-4amFriday</td>\n",
       "      <td>12am-4am</td>\n",
       "      <td>Friday</td>\n",
       "    </tr>\n",
       "    <tr>\n",
       "      <th>1</th>\n",
       "      <td>1</td>\n",
       "      <td>2_4am-8am</td>\n",
       "      <td>2041.538462</td>\n",
       "      <td>2041.54</td>\n",
       "      <td>5Friday</td>\n",
       "      <td>4am-8amFriday</td>\n",
       "      <td>4am-8am</td>\n",
       "      <td>Friday</td>\n",
       "    </tr>\n",
       "    <tr>\n",
       "      <th>2</th>\n",
       "      <td>2</td>\n",
       "      <td>3_8am-12pm</td>\n",
       "      <td>1406.230769</td>\n",
       "      <td>1406.23</td>\n",
       "      <td>5Friday</td>\n",
       "      <td>8am-12pmFriday</td>\n",
       "      <td>8am-12pm</td>\n",
       "      <td>Friday</td>\n",
       "    </tr>\n",
       "    <tr>\n",
       "      <th>3</th>\n",
       "      <td>3</td>\n",
       "      <td>4_12pm-4pm</td>\n",
       "      <td>996.615385</td>\n",
       "      <td>996.62</td>\n",
       "      <td>5Friday</td>\n",
       "      <td>12pm-4pmFriday</td>\n",
       "      <td>12pm-4pm</td>\n",
       "      <td>Friday</td>\n",
       "    </tr>\n",
       "    <tr>\n",
       "      <th>4</th>\n",
       "      <td>4</td>\n",
       "      <td>5_4pm-8pm</td>\n",
       "      <td>1359.769231</td>\n",
       "      <td>1359.77</td>\n",
       "      <td>5Friday</td>\n",
       "      <td>4pm-8pmFriday</td>\n",
       "      <td>4pm-8pm</td>\n",
       "      <td>Friday</td>\n",
       "    </tr>\n",
       "    <tr>\n",
       "      <th>5</th>\n",
       "      <td>5</td>\n",
       "      <td>6_8pm-12am</td>\n",
       "      <td>1108.461538</td>\n",
       "      <td>1108.46</td>\n",
       "      <td>5Friday</td>\n",
       "      <td>8pm-12amFriday</td>\n",
       "      <td>8pm-12am</td>\n",
       "      <td>Friday</td>\n",
       "    </tr>\n",
       "    <tr>\n",
       "      <th>6</th>\n",
       "      <td>6</td>\n",
       "      <td>5Friday</td>\n",
       "      <td>8331.230769</td>\n",
       "      <td>8331.23</td>\n",
       "      <td>Week</td>\n",
       "      <td>Friday</td>\n",
       "      <td>Friday</td>\n",
       "      <td>Week</td>\n",
       "    </tr>\n",
       "    <tr>\n",
       "      <th>7</th>\n",
       "      <td>7</td>\n",
       "      <td>1_12am-4am</td>\n",
       "      <td>1454.538462</td>\n",
       "      <td>1454.54</td>\n",
       "      <td>1Monday</td>\n",
       "      <td>12am-4amMonday</td>\n",
       "      <td>12am-4am</td>\n",
       "      <td>Monday</td>\n",
       "    </tr>\n",
       "    <tr>\n",
       "      <th>8</th>\n",
       "      <td>8</td>\n",
       "      <td>2_4am-8am</td>\n",
       "      <td>2135.692308</td>\n",
       "      <td>2135.69</td>\n",
       "      <td>1Monday</td>\n",
       "      <td>4am-8amMonday</td>\n",
       "      <td>4am-8am</td>\n",
       "      <td>Monday</td>\n",
       "    </tr>\n",
       "    <tr>\n",
       "      <th>9</th>\n",
       "      <td>9</td>\n",
       "      <td>3_8am-12pm</td>\n",
       "      <td>1393.076923</td>\n",
       "      <td>1393.08</td>\n",
       "      <td>1Monday</td>\n",
       "      <td>8am-12pmMonday</td>\n",
       "      <td>8am-12pm</td>\n",
       "      <td>Monday</td>\n",
       "    </tr>\n",
       "    <tr>\n",
       "      <th>10</th>\n",
       "      <td>10</td>\n",
       "      <td>4_12pm-4pm</td>\n",
       "      <td>1042.230769</td>\n",
       "      <td>1042.23</td>\n",
       "      <td>1Monday</td>\n",
       "      <td>12pm-4pmMonday</td>\n",
       "      <td>12pm-4pm</td>\n",
       "      <td>Monday</td>\n",
       "    </tr>\n",
       "    <tr>\n",
       "      <th>11</th>\n",
       "      <td>11</td>\n",
       "      <td>5_4pm-8pm</td>\n",
       "      <td>1406.538462</td>\n",
       "      <td>1406.54</td>\n",
       "      <td>1Monday</td>\n",
       "      <td>4pm-8pmMonday</td>\n",
       "      <td>4pm-8pm</td>\n",
       "      <td>Monday</td>\n",
       "    </tr>\n",
       "    <tr>\n",
       "      <th>12</th>\n",
       "      <td>12</td>\n",
       "      <td>6_8pm-12am</td>\n",
       "      <td>1248.923077</td>\n",
       "      <td>1248.92</td>\n",
       "      <td>1Monday</td>\n",
       "      <td>8pm-12amMonday</td>\n",
       "      <td>8pm-12am</td>\n",
       "      <td>Monday</td>\n",
       "    </tr>\n",
       "    <tr>\n",
       "      <th>13</th>\n",
       "      <td>13</td>\n",
       "      <td>1Monday</td>\n",
       "      <td>8681.000000</td>\n",
       "      <td>8681.00</td>\n",
       "      <td>Week</td>\n",
       "      <td>Monday</td>\n",
       "      <td>Monday</td>\n",
       "      <td>Week</td>\n",
       "    </tr>\n",
       "    <tr>\n",
       "      <th>14</th>\n",
       "      <td>14</td>\n",
       "      <td>1_12am-4am</td>\n",
       "      <td>1259.307692</td>\n",
       "      <td>1259.31</td>\n",
       "      <td>6Saturday</td>\n",
       "      <td>12am-4amSaturday</td>\n",
       "      <td>12am-4am</td>\n",
       "      <td>Saturday</td>\n",
       "    </tr>\n",
       "    <tr>\n",
       "      <th>15</th>\n",
       "      <td>15</td>\n",
       "      <td>2_4am-8am</td>\n",
       "      <td>1708.307692</td>\n",
       "      <td>1708.31</td>\n",
       "      <td>6Saturday</td>\n",
       "      <td>4am-8amSaturday</td>\n",
       "      <td>4am-8am</td>\n",
       "      <td>Saturday</td>\n",
       "    </tr>\n",
       "    <tr>\n",
       "      <th>16</th>\n",
       "      <td>16</td>\n",
       "      <td>3_8am-12pm</td>\n",
       "      <td>1358.153846</td>\n",
       "      <td>1358.15</td>\n",
       "      <td>6Saturday</td>\n",
       "      <td>8am-12pmSaturday</td>\n",
       "      <td>8am-12pm</td>\n",
       "      <td>Saturday</td>\n",
       "    </tr>\n",
       "    <tr>\n",
       "      <th>17</th>\n",
       "      <td>17</td>\n",
       "      <td>4_12pm-4pm</td>\n",
       "      <td>940.692308</td>\n",
       "      <td>940.69</td>\n",
       "      <td>6Saturday</td>\n",
       "      <td>12pm-4pmSaturday</td>\n",
       "      <td>12pm-4pm</td>\n",
       "      <td>Saturday</td>\n",
       "    </tr>\n",
       "    <tr>\n",
       "      <th>18</th>\n",
       "      <td>18</td>\n",
       "      <td>5_4pm-8pm</td>\n",
       "      <td>1344.230769</td>\n",
       "      <td>1344.23</td>\n",
       "      <td>6Saturday</td>\n",
       "      <td>4pm-8pmSaturday</td>\n",
       "      <td>4pm-8pm</td>\n",
       "      <td>Saturday</td>\n",
       "    </tr>\n",
       "    <tr>\n",
       "      <th>19</th>\n",
       "      <td>19</td>\n",
       "      <td>6_8pm-12am</td>\n",
       "      <td>1127.538462</td>\n",
       "      <td>1127.54</td>\n",
       "      <td>6Saturday</td>\n",
       "      <td>8pm-12amSaturday</td>\n",
       "      <td>8pm-12am</td>\n",
       "      <td>Saturday</td>\n",
       "    </tr>\n",
       "    <tr>\n",
       "      <th>20</th>\n",
       "      <td>20</td>\n",
       "      <td>6Saturday</td>\n",
       "      <td>7738.230769</td>\n",
       "      <td>7738.23</td>\n",
       "      <td>Week</td>\n",
       "      <td>Saturday</td>\n",
       "      <td>Saturday</td>\n",
       "      <td>Week</td>\n",
       "    </tr>\n",
       "    <tr>\n",
       "      <th>21</th>\n",
       "      <td>21</td>\n",
       "      <td>1_12am-4am</td>\n",
       "      <td>1242.153846</td>\n",
       "      <td>1242.15</td>\n",
       "      <td>7Sunday</td>\n",
       "      <td>12am-4amSunday</td>\n",
       "      <td>12am-4am</td>\n",
       "      <td>Sunday</td>\n",
       "    </tr>\n",
       "    <tr>\n",
       "      <th>22</th>\n",
       "      <td>22</td>\n",
       "      <td>2_4am-8am</td>\n",
       "      <td>1659.615385</td>\n",
       "      <td>1659.62</td>\n",
       "      <td>7Sunday</td>\n",
       "      <td>4am-8amSunday</td>\n",
       "      <td>4am-8am</td>\n",
       "      <td>Sunday</td>\n",
       "    </tr>\n",
       "    <tr>\n",
       "      <th>23</th>\n",
       "      <td>23</td>\n",
       "      <td>3_8am-12pm</td>\n",
       "      <td>1339.000000</td>\n",
       "      <td>1339.00</td>\n",
       "      <td>7Sunday</td>\n",
       "      <td>8am-12pmSunday</td>\n",
       "      <td>8am-12pm</td>\n",
       "      <td>Sunday</td>\n",
       "    </tr>\n",
       "    <tr>\n",
       "      <th>24</th>\n",
       "      <td>24</td>\n",
       "      <td>4_12pm-4pm</td>\n",
       "      <td>952.153846</td>\n",
       "      <td>952.15</td>\n",
       "      <td>7Sunday</td>\n",
       "      <td>12pm-4pmSunday</td>\n",
       "      <td>12pm-4pm</td>\n",
       "      <td>Sunday</td>\n",
       "    </tr>\n",
       "    <tr>\n",
       "      <th>25</th>\n",
       "      <td>25</td>\n",
       "      <td>5_4pm-8pm</td>\n",
       "      <td>1391.384615</td>\n",
       "      <td>1391.38</td>\n",
       "      <td>7Sunday</td>\n",
       "      <td>4pm-8pmSunday</td>\n",
       "      <td>4pm-8pm</td>\n",
       "      <td>Sunday</td>\n",
       "    </tr>\n",
       "    <tr>\n",
       "      <th>26</th>\n",
       "      <td>26</td>\n",
       "      <td>6_8pm-12am</td>\n",
       "      <td>1226.615385</td>\n",
       "      <td>1226.62</td>\n",
       "      <td>7Sunday</td>\n",
       "      <td>8pm-12amSunday</td>\n",
       "      <td>8pm-12am</td>\n",
       "      <td>Sunday</td>\n",
       "    </tr>\n",
       "    <tr>\n",
       "      <th>27</th>\n",
       "      <td>27</td>\n",
       "      <td>7Sunday</td>\n",
       "      <td>7810.923077</td>\n",
       "      <td>7810.92</td>\n",
       "      <td>Week</td>\n",
       "      <td>Sunday</td>\n",
       "      <td>Sunday</td>\n",
       "      <td>Week</td>\n",
       "    </tr>\n",
       "    <tr>\n",
       "      <th>28</th>\n",
       "      <td>28</td>\n",
       "      <td>1_12am-4am</td>\n",
       "      <td>1470.000000</td>\n",
       "      <td>1470.00</td>\n",
       "      <td>4Thursday</td>\n",
       "      <td>12am-4amThursday</td>\n",
       "      <td>12am-4am</td>\n",
       "      <td>Thursday</td>\n",
       "    </tr>\n",
       "    <tr>\n",
       "      <th>29</th>\n",
       "      <td>29</td>\n",
       "      <td>2_4am-8am</td>\n",
       "      <td>2074.076923</td>\n",
       "      <td>2074.08</td>\n",
       "      <td>4Thursday</td>\n",
       "      <td>4am-8amThursday</td>\n",
       "      <td>4am-8am</td>\n",
       "      <td>Thursday</td>\n",
       "    </tr>\n",
       "    <tr>\n",
       "      <th>30</th>\n",
       "      <td>30</td>\n",
       "      <td>3_8am-12pm</td>\n",
       "      <td>1430.538462</td>\n",
       "      <td>1430.54</td>\n",
       "      <td>4Thursday</td>\n",
       "      <td>8am-12pmThursday</td>\n",
       "      <td>8am-12pm</td>\n",
       "      <td>Thursday</td>\n",
       "    </tr>\n",
       "    <tr>\n",
       "      <th>31</th>\n",
       "      <td>31</td>\n",
       "      <td>4_12pm-4pm</td>\n",
       "      <td>1046.461538</td>\n",
       "      <td>1046.46</td>\n",
       "      <td>4Thursday</td>\n",
       "      <td>12pm-4pmThursday</td>\n",
       "      <td>12pm-4pm</td>\n",
       "      <td>Thursday</td>\n",
       "    </tr>\n",
       "    <tr>\n",
       "      <th>32</th>\n",
       "      <td>32</td>\n",
       "      <td>5_4pm-8pm</td>\n",
       "      <td>1453.923077</td>\n",
       "      <td>1453.92</td>\n",
       "      <td>4Thursday</td>\n",
       "      <td>4pm-8pmThursday</td>\n",
       "      <td>4pm-8pm</td>\n",
       "      <td>Thursday</td>\n",
       "    </tr>\n",
       "    <tr>\n",
       "      <th>33</th>\n",
       "      <td>33</td>\n",
       "      <td>6_8pm-12am</td>\n",
       "      <td>1246.230769</td>\n",
       "      <td>1246.23</td>\n",
       "      <td>4Thursday</td>\n",
       "      <td>8pm-12amThursday</td>\n",
       "      <td>8pm-12am</td>\n",
       "      <td>Thursday</td>\n",
       "    </tr>\n",
       "    <tr>\n",
       "      <th>34</th>\n",
       "      <td>34</td>\n",
       "      <td>4Thursday</td>\n",
       "      <td>8721.230769</td>\n",
       "      <td>8721.23</td>\n",
       "      <td>Week</td>\n",
       "      <td>Thursday</td>\n",
       "      <td>Thursday</td>\n",
       "      <td>Week</td>\n",
       "    </tr>\n",
       "    <tr>\n",
       "      <th>35</th>\n",
       "      <td>35</td>\n",
       "      <td>1_12am-4am</td>\n",
       "      <td>1491.384615</td>\n",
       "      <td>1491.38</td>\n",
       "      <td>2Tuesday</td>\n",
       "      <td>12am-4amTuesday</td>\n",
       "      <td>12am-4am</td>\n",
       "      <td>Tuesday</td>\n",
       "    </tr>\n",
       "    <tr>\n",
       "      <th>36</th>\n",
       "      <td>36</td>\n",
       "      <td>2_4am-8am</td>\n",
       "      <td>2070.384615</td>\n",
       "      <td>2070.38</td>\n",
       "      <td>2Tuesday</td>\n",
       "      <td>4am-8amTuesday</td>\n",
       "      <td>4am-8am</td>\n",
       "      <td>Tuesday</td>\n",
       "    </tr>\n",
       "    <tr>\n",
       "      <th>37</th>\n",
       "      <td>37</td>\n",
       "      <td>3_8am-12pm</td>\n",
       "      <td>1449.076923</td>\n",
       "      <td>1449.08</td>\n",
       "      <td>2Tuesday</td>\n",
       "      <td>8am-12pmTuesday</td>\n",
       "      <td>8am-12pm</td>\n",
       "      <td>Tuesday</td>\n",
       "    </tr>\n",
       "    <tr>\n",
       "      <th>38</th>\n",
       "      <td>38</td>\n",
       "      <td>4_12pm-4pm</td>\n",
       "      <td>1069.230769</td>\n",
       "      <td>1069.23</td>\n",
       "      <td>2Tuesday</td>\n",
       "      <td>12pm-4pmTuesday</td>\n",
       "      <td>12pm-4pm</td>\n",
       "      <td>Tuesday</td>\n",
       "    </tr>\n",
       "    <tr>\n",
       "      <th>39</th>\n",
       "      <td>39</td>\n",
       "      <td>5_4pm-8pm</td>\n",
       "      <td>1439.000000</td>\n",
       "      <td>1439.00</td>\n",
       "      <td>2Tuesday</td>\n",
       "      <td>4pm-8pmTuesday</td>\n",
       "      <td>4pm-8pm</td>\n",
       "      <td>Tuesday</td>\n",
       "    </tr>\n",
       "    <tr>\n",
       "      <th>40</th>\n",
       "      <td>40</td>\n",
       "      <td>6_8pm-12am</td>\n",
       "      <td>1280.000000</td>\n",
       "      <td>1280.00</td>\n",
       "      <td>2Tuesday</td>\n",
       "      <td>8pm-12amTuesday</td>\n",
       "      <td>8pm-12am</td>\n",
       "      <td>Tuesday</td>\n",
       "    </tr>\n",
       "    <tr>\n",
       "      <th>41</th>\n",
       "      <td>41</td>\n",
       "      <td>2Tuesday</td>\n",
       "      <td>8799.076923</td>\n",
       "      <td>8799.08</td>\n",
       "      <td>Week</td>\n",
       "      <td>Tuesday</td>\n",
       "      <td>Tuesday</td>\n",
       "      <td>Week</td>\n",
       "    </tr>\n",
       "    <tr>\n",
       "      <th>42</th>\n",
       "      <td>42</td>\n",
       "      <td>1_12am-4am</td>\n",
       "      <td>1456.642857</td>\n",
       "      <td>1456.64</td>\n",
       "      <td>3Wednesday</td>\n",
       "      <td>12am-4amWednesday</td>\n",
       "      <td>12am-4am</td>\n",
       "      <td>Wednesday</td>\n",
       "    </tr>\n",
       "    <tr>\n",
       "      <th>43</th>\n",
       "      <td>43</td>\n",
       "      <td>2_4am-8am</td>\n",
       "      <td>2078.714286</td>\n",
       "      <td>2078.71</td>\n",
       "      <td>3Wednesday</td>\n",
       "      <td>4am-8amWednesday</td>\n",
       "      <td>4am-8am</td>\n",
       "      <td>Wednesday</td>\n",
       "    </tr>\n",
       "    <tr>\n",
       "      <th>44</th>\n",
       "      <td>44</td>\n",
       "      <td>3_8am-12pm</td>\n",
       "      <td>1433.285714</td>\n",
       "      <td>1433.29</td>\n",
       "      <td>3Wednesday</td>\n",
       "      <td>8am-12pmWednesday</td>\n",
       "      <td>8am-12pm</td>\n",
       "      <td>Wednesday</td>\n",
       "    </tr>\n",
       "    <tr>\n",
       "      <th>45</th>\n",
       "      <td>45</td>\n",
       "      <td>4_12pm-4pm</td>\n",
       "      <td>1077.142857</td>\n",
       "      <td>1077.14</td>\n",
       "      <td>3Wednesday</td>\n",
       "      <td>12pm-4pmWednesday</td>\n",
       "      <td>12pm-4pm</td>\n",
       "      <td>Wednesday</td>\n",
       "    </tr>\n",
       "    <tr>\n",
       "      <th>46</th>\n",
       "      <td>46</td>\n",
       "      <td>5_4pm-8pm</td>\n",
       "      <td>1417.428571</td>\n",
       "      <td>1417.43</td>\n",
       "      <td>3Wednesday</td>\n",
       "      <td>4pm-8pmWednesday</td>\n",
       "      <td>4pm-8pm</td>\n",
       "      <td>Wednesday</td>\n",
       "    </tr>\n",
       "    <tr>\n",
       "      <th>47</th>\n",
       "      <td>47</td>\n",
       "      <td>6_8pm-12am</td>\n",
       "      <td>1237.000000</td>\n",
       "      <td>1237.00</td>\n",
       "      <td>3Wednesday</td>\n",
       "      <td>8pm-12amWednesday</td>\n",
       "      <td>8pm-12am</td>\n",
       "      <td>Wednesday</td>\n",
       "    </tr>\n",
       "    <tr>\n",
       "      <th>48</th>\n",
       "      <td>48</td>\n",
       "      <td>3Wednesday</td>\n",
       "      <td>8700.214286</td>\n",
       "      <td>8700.21</td>\n",
       "      <td>Week</td>\n",
       "      <td>Wednesday</td>\n",
       "      <td>Wednesday</td>\n",
       "      <td>Week</td>\n",
       "    </tr>\n",
       "  </tbody>\n",
       "</table>\n",
       "</div>"
      ],
      "text/plain": [
       "    Unnamed: 0 6parts_sort        count  count_mean weekday_sort  \\\n",
       "0            0  1_12am-4am  1418.615385     1418.62      5Friday   \n",
       "1            1   2_4am-8am  2041.538462     2041.54      5Friday   \n",
       "2            2  3_8am-12pm  1406.230769     1406.23      5Friday   \n",
       "3            3  4_12pm-4pm   996.615385      996.62      5Friday   \n",
       "4            4   5_4pm-8pm  1359.769231     1359.77      5Friday   \n",
       "5            5  6_8pm-12am  1108.461538     1108.46      5Friday   \n",
       "6            6     5Friday  8331.230769     8331.23         Week   \n",
       "7            7  1_12am-4am  1454.538462     1454.54      1Monday   \n",
       "8            8   2_4am-8am  2135.692308     2135.69      1Monday   \n",
       "9            9  3_8am-12pm  1393.076923     1393.08      1Monday   \n",
       "10          10  4_12pm-4pm  1042.230769     1042.23      1Monday   \n",
       "11          11   5_4pm-8pm  1406.538462     1406.54      1Monday   \n",
       "12          12  6_8pm-12am  1248.923077     1248.92      1Monday   \n",
       "13          13     1Monday  8681.000000     8681.00         Week   \n",
       "14          14  1_12am-4am  1259.307692     1259.31    6Saturday   \n",
       "15          15   2_4am-8am  1708.307692     1708.31    6Saturday   \n",
       "16          16  3_8am-12pm  1358.153846     1358.15    6Saturday   \n",
       "17          17  4_12pm-4pm   940.692308      940.69    6Saturday   \n",
       "18          18   5_4pm-8pm  1344.230769     1344.23    6Saturday   \n",
       "19          19  6_8pm-12am  1127.538462     1127.54    6Saturday   \n",
       "20          20   6Saturday  7738.230769     7738.23         Week   \n",
       "21          21  1_12am-4am  1242.153846     1242.15      7Sunday   \n",
       "22          22   2_4am-8am  1659.615385     1659.62      7Sunday   \n",
       "23          23  3_8am-12pm  1339.000000     1339.00      7Sunday   \n",
       "24          24  4_12pm-4pm   952.153846      952.15      7Sunday   \n",
       "25          25   5_4pm-8pm  1391.384615     1391.38      7Sunday   \n",
       "26          26  6_8pm-12am  1226.615385     1226.62      7Sunday   \n",
       "27          27     7Sunday  7810.923077     7810.92         Week   \n",
       "28          28  1_12am-4am  1470.000000     1470.00    4Thursday   \n",
       "29          29   2_4am-8am  2074.076923     2074.08    4Thursday   \n",
       "30          30  3_8am-12pm  1430.538462     1430.54    4Thursday   \n",
       "31          31  4_12pm-4pm  1046.461538     1046.46    4Thursday   \n",
       "32          32   5_4pm-8pm  1453.923077     1453.92    4Thursday   \n",
       "33          33  6_8pm-12am  1246.230769     1246.23    4Thursday   \n",
       "34          34   4Thursday  8721.230769     8721.23         Week   \n",
       "35          35  1_12am-4am  1491.384615     1491.38     2Tuesday   \n",
       "36          36   2_4am-8am  2070.384615     2070.38     2Tuesday   \n",
       "37          37  3_8am-12pm  1449.076923     1449.08     2Tuesday   \n",
       "38          38  4_12pm-4pm  1069.230769     1069.23     2Tuesday   \n",
       "39          39   5_4pm-8pm  1439.000000     1439.00     2Tuesday   \n",
       "40          40  6_8pm-12am  1280.000000     1280.00     2Tuesday   \n",
       "41          41    2Tuesday  8799.076923     8799.08         Week   \n",
       "42          42  1_12am-4am  1456.642857     1456.64   3Wednesday   \n",
       "43          43   2_4am-8am  2078.714286     2078.71   3Wednesday   \n",
       "44          44  3_8am-12pm  1433.285714     1433.29   3Wednesday   \n",
       "45          45  4_12pm-4pm  1077.142857     1077.14   3Wednesday   \n",
       "46          46   5_4pm-8pm  1417.428571     1417.43   3Wednesday   \n",
       "47          47  6_8pm-12am  1237.000000     1237.00   3Wednesday   \n",
       "48          48  3Wednesday  8700.214286     8700.21         Week   \n",
       "\n",
       "                  ids     6parts    weekday  \n",
       "0      12am-4amFriday   12am-4am     Friday  \n",
       "1       4am-8amFriday    4am-8am     Friday  \n",
       "2      8am-12pmFriday   8am-12pm     Friday  \n",
       "3      12pm-4pmFriday   12pm-4pm     Friday  \n",
       "4       4pm-8pmFriday    4pm-8pm     Friday  \n",
       "5      8pm-12amFriday   8pm-12am     Friday  \n",
       "6              Friday     Friday       Week  \n",
       "7      12am-4amMonday   12am-4am     Monday  \n",
       "8       4am-8amMonday    4am-8am     Monday  \n",
       "9      8am-12pmMonday   8am-12pm     Monday  \n",
       "10     12pm-4pmMonday   12pm-4pm     Monday  \n",
       "11      4pm-8pmMonday    4pm-8pm     Monday  \n",
       "12     8pm-12amMonday   8pm-12am     Monday  \n",
       "13             Monday     Monday       Week  \n",
       "14   12am-4amSaturday   12am-4am   Saturday  \n",
       "15    4am-8amSaturday    4am-8am   Saturday  \n",
       "16   8am-12pmSaturday   8am-12pm   Saturday  \n",
       "17   12pm-4pmSaturday   12pm-4pm   Saturday  \n",
       "18    4pm-8pmSaturday    4pm-8pm   Saturday  \n",
       "19   8pm-12amSaturday   8pm-12am   Saturday  \n",
       "20           Saturday   Saturday       Week  \n",
       "21     12am-4amSunday   12am-4am     Sunday  \n",
       "22      4am-8amSunday    4am-8am     Sunday  \n",
       "23     8am-12pmSunday   8am-12pm     Sunday  \n",
       "24     12pm-4pmSunday   12pm-4pm     Sunday  \n",
       "25      4pm-8pmSunday    4pm-8pm     Sunday  \n",
       "26     8pm-12amSunday   8pm-12am     Sunday  \n",
       "27             Sunday     Sunday       Week  \n",
       "28   12am-4amThursday   12am-4am   Thursday  \n",
       "29    4am-8amThursday    4am-8am   Thursday  \n",
       "30   8am-12pmThursday   8am-12pm   Thursday  \n",
       "31   12pm-4pmThursday   12pm-4pm   Thursday  \n",
       "32    4pm-8pmThursday    4pm-8pm   Thursday  \n",
       "33   8pm-12amThursday   8pm-12am   Thursday  \n",
       "34           Thursday   Thursday       Week  \n",
       "35    12am-4amTuesday   12am-4am    Tuesday  \n",
       "36     4am-8amTuesday    4am-8am    Tuesday  \n",
       "37    8am-12pmTuesday   8am-12pm    Tuesday  \n",
       "38    12pm-4pmTuesday   12pm-4pm    Tuesday  \n",
       "39     4pm-8pmTuesday    4pm-8pm    Tuesday  \n",
       "40    8pm-12amTuesday   8pm-12am    Tuesday  \n",
       "41            Tuesday    Tuesday       Week  \n",
       "42  12am-4amWednesday   12am-4am  Wednesday  \n",
       "43   4am-8amWednesday    4am-8am  Wednesday  \n",
       "44  8am-12pmWednesday   8am-12pm  Wednesday  \n",
       "45  12pm-4pmWednesday   12pm-4pm  Wednesday  \n",
       "46   4pm-8pmWednesday    4pm-8pm  Wednesday  \n",
       "47  8pm-12amWednesday   8pm-12am  Wednesday  \n",
       "48          Wednesday  Wednesday       Week  "
      ]
     },
     "execution_count": 26,
     "metadata": {},
     "output_type": "execute_result"
    }
   ],
   "source": [
    "a=pd.read_csv('data/sunburst_t.csv')\n",
    "a"
   ]
  },
  {
   "cell_type": "code",
   "execution_count": 29,
   "metadata": {},
   "outputs": [
    {
     "data": {
      "application/vnd.plotly.v1+json": {
       "config": {
        "plotlyServerURL": "https://plot.ly"
       },
       "data": [
        {
         "branchvalues": "total",
         "customdata": [
          [
           1418.62,
           "12am-4amFriday",
           "12am-4am",
           "Friday"
          ],
          [
           2041.54,
           "4am-8amFriday",
           "4am-8am",
           "Friday"
          ],
          [
           1406.23,
           "8am-12pmFriday",
           "8am-12pm",
           "Friday"
          ],
          [
           996.62,
           "12pm-4pmFriday",
           "12pm-4pm",
           "Friday"
          ],
          [
           1359.77,
           "4pm-8pmFriday",
           "4pm-8pm",
           "Friday"
          ],
          [
           1108.46,
           "8pm-12amFriday",
           "8pm-12am",
           "Friday"
          ],
          [
           8331.23,
           "Friday",
           "Friday",
           "Week"
          ],
          [
           1454.54,
           "12am-4amMonday",
           "12am-4am",
           "Monday"
          ],
          [
           2135.69,
           "4am-8amMonday",
           "4am-8am",
           "Monday"
          ],
          [
           1393.08,
           "8am-12pmMonday",
           "8am-12pm",
           "Monday"
          ],
          [
           1042.23,
           "12pm-4pmMonday",
           "12pm-4pm",
           "Monday"
          ],
          [
           1406.54,
           "4pm-8pmMonday",
           "4pm-8pm",
           "Monday"
          ],
          [
           1248.92,
           "8pm-12amMonday",
           "8pm-12am",
           "Monday"
          ],
          [
           8681,
           "Monday",
           "Monday",
           "Week"
          ],
          [
           1259.31,
           "12am-4amSaturday",
           "12am-4am",
           "Saturday"
          ],
          [
           1708.31,
           "4am-8amSaturday",
           "4am-8am",
           "Saturday"
          ],
          [
           1358.15,
           "8am-12pmSaturday",
           "8am-12pm",
           "Saturday"
          ],
          [
           940.69,
           "12pm-4pmSaturday",
           "12pm-4pm",
           "Saturday"
          ],
          [
           1344.23,
           "4pm-8pmSaturday",
           "4pm-8pm",
           "Saturday"
          ],
          [
           1127.54,
           "8pm-12amSaturday",
           "8pm-12am",
           "Saturday"
          ],
          [
           7738.23,
           "Saturday",
           "Saturday",
           "Week"
          ],
          [
           1242.15,
           "12am-4amSunday",
           "12am-4am",
           "Sunday"
          ],
          [
           1659.62,
           "4am-8amSunday",
           "4am-8am",
           "Sunday"
          ],
          [
           1339,
           "8am-12pmSunday",
           "8am-12pm",
           "Sunday"
          ],
          [
           952.15,
           "12pm-4pmSunday",
           "12pm-4pm",
           "Sunday"
          ],
          [
           1391.38,
           "4pm-8pmSunday",
           "4pm-8pm",
           "Sunday"
          ],
          [
           1226.62,
           "8pm-12amSunday",
           "8pm-12am",
           "Sunday"
          ],
          [
           7810.92,
           "Sunday",
           "Sunday",
           "Week"
          ],
          [
           1470,
           "12am-4amThursday",
           "12am-4am",
           "Thursday"
          ],
          [
           2074.08,
           "4am-8amThursday",
           "4am-8am",
           "Thursday"
          ],
          [
           1430.54,
           "8am-12pmThursday",
           "8am-12pm",
           "Thursday"
          ],
          [
           1046.46,
           "12pm-4pmThursday",
           "12pm-4pm",
           "Thursday"
          ],
          [
           1453.92,
           "4pm-8pmThursday",
           "4pm-8pm",
           "Thursday"
          ],
          [
           1246.23,
           "8pm-12amThursday",
           "8pm-12am",
           "Thursday"
          ],
          [
           8721.23,
           "Thursday",
           "Thursday",
           "Week"
          ],
          [
           1491.38,
           "12am-4amTuesday",
           "12am-4am",
           "Tuesday"
          ],
          [
           2070.38,
           "4am-8amTuesday",
           "4am-8am",
           "Tuesday"
          ],
          [
           1449.08,
           "8am-12pmTuesday",
           "8am-12pm",
           "Tuesday"
          ],
          [
           1069.23,
           "12pm-4pmTuesday",
           "12pm-4pm",
           "Tuesday"
          ],
          [
           1439,
           "4pm-8pmTuesday",
           "4pm-8pm",
           "Tuesday"
          ],
          [
           1280,
           "8pm-12amTuesday",
           "8pm-12am",
           "Tuesday"
          ],
          [
           8799.08,
           "Tuesday",
           "Tuesday",
           "Week"
          ],
          [
           1456.64,
           "12am-4amWednesday",
           "12am-4am",
           "Wednesday"
          ],
          [
           2078.71,
           "4am-8amWednesday",
           "4am-8am",
           "Wednesday"
          ],
          [
           1433.29,
           "8am-12pmWednesday",
           "8am-12pm",
           "Wednesday"
          ],
          [
           1077.14,
           "12pm-4pmWednesday",
           "12pm-4pm",
           "Wednesday"
          ],
          [
           1417.43,
           "4pm-8pmWednesday",
           "4pm-8pm",
           "Wednesday"
          ],
          [
           1237,
           "8pm-12amWednesday",
           "8pm-12am",
           "Wednesday"
          ],
          [
           8700.21,
           "Wednesday",
           "Wednesday",
           "Week"
          ]
         ],
         "domain": {
          "x": [
           0,
           1
          ],
          "y": [
           0,
           1
          ]
         },
         "hovertemplate": "%{customdata[1]} <br>Count_Mean: %{customdata[0]}",
         "ids": [
          "12am-4amFriday",
          "4am-8amFriday",
          "8am-12pmFriday",
          "12pm-4pmFriday",
          "4pm-8pmFriday",
          "8pm-12amFriday",
          "Friday",
          "12am-4amMonday",
          "4am-8amMonday",
          "8am-12pmMonday",
          "12pm-4pmMonday",
          "4pm-8pmMonday",
          "8pm-12amMonday",
          "Monday",
          "12am-4amSaturday",
          "4am-8amSaturday",
          "8am-12pmSaturday",
          "12pm-4pmSaturday",
          "4pm-8pmSaturday",
          "8pm-12amSaturday",
          "Saturday",
          "12am-4amSunday",
          "4am-8amSunday",
          "8am-12pmSunday",
          "12pm-4pmSunday",
          "4pm-8pmSunday",
          "8pm-12amSunday",
          "Sunday",
          "12am-4amThursday",
          "4am-8amThursday",
          "8am-12pmThursday",
          "12pm-4pmThursday",
          "4pm-8pmThursday",
          "8pm-12amThursday",
          "Thursday",
          "12am-4amTuesday",
          "4am-8amTuesday",
          "8am-12pmTuesday",
          "12pm-4pmTuesday",
          "4pm-8pmTuesday",
          "8pm-12amTuesday",
          "Tuesday",
          "12am-4amWednesday",
          "4am-8amWednesday",
          "8am-12pmWednesday",
          "12pm-4pmWednesday",
          "4pm-8pmWednesday",
          "8pm-12amWednesday",
          "Wednesday"
         ],
         "labels": [
          "12am-4am",
          "4am-8am",
          "8am-12pm",
          "12pm-4pm",
          "4pm-8pm",
          "8pm-12am",
          "Friday",
          "12am-4am",
          "4am-8am",
          "8am-12pm",
          "12pm-4pm",
          "4pm-8pm",
          "8pm-12am",
          "Monday",
          "12am-4am",
          "4am-8am",
          "8am-12pm",
          "12pm-4pm",
          "4pm-8pm",
          "8pm-12am",
          "Saturday",
          "12am-4am",
          "4am-8am",
          "8am-12pm",
          "12pm-4pm",
          "4pm-8pm",
          "8pm-12am",
          "Sunday",
          "12am-4am",
          "4am-8am",
          "8am-12pm",
          "12pm-4pm",
          "4pm-8pm",
          "8pm-12am",
          "Thursday",
          "12am-4am",
          "4am-8am",
          "8am-12pm",
          "12pm-4pm",
          "4pm-8pm",
          "8pm-12am",
          "Tuesday",
          "12am-4am",
          "4am-8am",
          "8am-12pm",
          "12pm-4pm",
          "4pm-8pm",
          "8pm-12am",
          "Wednesday"
         ],
         "marker": {
          "coloraxis": "coloraxis",
          "colors": [
           1418.62,
           2041.54,
           1406.23,
           996.62,
           1359.77,
           1108.46,
           8331.23,
           1454.54,
           2135.69,
           1393.08,
           1042.23,
           1406.54,
           1248.92,
           8681,
           1259.31,
           1708.31,
           1358.15,
           940.69,
           1344.23,
           1127.54,
           7738.23,
           1242.15,
           1659.62,
           1339,
           952.15,
           1391.38,
           1226.62,
           7810.92,
           1470,
           2074.08,
           1430.54,
           1046.46,
           1453.92,
           1246.23,
           8721.23,
           1491.38,
           2070.38,
           1449.08,
           1069.23,
           1439,
           1280,
           8799.08,
           1456.64,
           2078.71,
           1433.29,
           1077.14,
           1417.43,
           1237,
           8700.21
          ]
         },
         "name": "",
         "parents": [
          "Friday",
          "Friday",
          "Friday",
          "Friday",
          "Friday",
          "Friday",
          "Week",
          "Monday",
          "Monday",
          "Monday",
          "Monday",
          "Monday",
          "Monday",
          "Week",
          "Saturday",
          "Saturday",
          "Saturday",
          "Saturday",
          "Saturday",
          "Saturday",
          "Week",
          "Sunday",
          "Sunday",
          "Sunday",
          "Sunday",
          "Sunday",
          "Sunday",
          "Week",
          "Thursday",
          "Thursday",
          "Thursday",
          "Thursday",
          "Thursday",
          "Thursday",
          "Week",
          "Tuesday",
          "Tuesday",
          "Tuesday",
          "Tuesday",
          "Tuesday",
          "Tuesday",
          "Week",
          "Wednesday",
          "Wednesday",
          "Wednesday",
          "Wednesday",
          "Wednesday",
          "Wednesday",
          "Week"
         ],
         "sort": false,
         "type": "sunburst",
         "values": [
          1418.615385,
          2041.538462,
          1406.230769,
          996.6153846,
          1359.769231,
          1108.461538,
          8331.230769,
          1454.538462,
          2135.692308,
          1393.076923,
          1042.230769,
          1406.538462,
          1248.923077,
          8681,
          1259.307692,
          1708.307692,
          1358.153846,
          940.6923077,
          1344.230769,
          1127.538462,
          7738.230769,
          1242.153846,
          1659.615385,
          1339,
          952.1538462,
          1391.384615,
          1226.615385,
          7810.923077,
          1470,
          2074.076923,
          1430.538462,
          1046.461538,
          1453.923077,
          1246.230769,
          8721.230769,
          1491.384615,
          2070.384615,
          1449.076923,
          1069.230769,
          1439,
          1280,
          8799.076923,
          1456.642857,
          2078.714286,
          1433.285714,
          1077.142857,
          1417.428571,
          1237,
          8700.214286
         ]
        }
       ],
       "layout": {
        "coloraxis": {
         "colorbar": {
          "title": {
           "text": "count_mean"
          }
         },
         "colorscale": [
          [
           0,
           "rgb(247,251,255)"
          ],
          [
           0.125,
           "rgb(222,235,247)"
          ],
          [
           0.25,
           "rgb(198,219,239)"
          ],
          [
           0.375,
           "rgb(158,202,225)"
          ],
          [
           0.5,
           "rgb(107,174,214)"
          ],
          [
           0.625,
           "rgb(66,146,198)"
          ],
          [
           0.75,
           "rgb(33,113,181)"
          ],
          [
           0.875,
           "rgb(8,81,156)"
          ],
          [
           1,
           "rgb(8,48,107)"
          ]
         ]
        },
        "legend": {
         "tracegroupgap": 0
        },
        "paper_bgcolor": "rgba(0,0,0,0)",
        "plot_bgcolor": "rgba(0,0,0,0)",
        "template": {
         "data": {
          "bar": [
           {
            "error_x": {
             "color": "#2a3f5f"
            },
            "error_y": {
             "color": "#2a3f5f"
            },
            "marker": {
             "line": {
              "color": "#E5ECF6",
              "width": 0.5
             },
             "pattern": {
              "fillmode": "overlay",
              "size": 10,
              "solidity": 0.2
             }
            },
            "type": "bar"
           }
          ],
          "barpolar": [
           {
            "marker": {
             "line": {
              "color": "#E5ECF6",
              "width": 0.5
             },
             "pattern": {
              "fillmode": "overlay",
              "size": 10,
              "solidity": 0.2
             }
            },
            "type": "barpolar"
           }
          ],
          "carpet": [
           {
            "aaxis": {
             "endlinecolor": "#2a3f5f",
             "gridcolor": "white",
             "linecolor": "white",
             "minorgridcolor": "white",
             "startlinecolor": "#2a3f5f"
            },
            "baxis": {
             "endlinecolor": "#2a3f5f",
             "gridcolor": "white",
             "linecolor": "white",
             "minorgridcolor": "white",
             "startlinecolor": "#2a3f5f"
            },
            "type": "carpet"
           }
          ],
          "choropleth": [
           {
            "colorbar": {
             "outlinewidth": 0,
             "ticks": ""
            },
            "type": "choropleth"
           }
          ],
          "contour": [
           {
            "colorbar": {
             "outlinewidth": 0,
             "ticks": ""
            },
            "colorscale": [
             [
              0,
              "#0d0887"
             ],
             [
              0.1111111111111111,
              "#46039f"
             ],
             [
              0.2222222222222222,
              "#7201a8"
             ],
             [
              0.3333333333333333,
              "#9c179e"
             ],
             [
              0.4444444444444444,
              "#bd3786"
             ],
             [
              0.5555555555555556,
              "#d8576b"
             ],
             [
              0.6666666666666666,
              "#ed7953"
             ],
             [
              0.7777777777777778,
              "#fb9f3a"
             ],
             [
              0.8888888888888888,
              "#fdca26"
             ],
             [
              1,
              "#f0f921"
             ]
            ],
            "type": "contour"
           }
          ],
          "contourcarpet": [
           {
            "colorbar": {
             "outlinewidth": 0,
             "ticks": ""
            },
            "type": "contourcarpet"
           }
          ],
          "heatmap": [
           {
            "colorbar": {
             "outlinewidth": 0,
             "ticks": ""
            },
            "colorscale": [
             [
              0,
              "#0d0887"
             ],
             [
              0.1111111111111111,
              "#46039f"
             ],
             [
              0.2222222222222222,
              "#7201a8"
             ],
             [
              0.3333333333333333,
              "#9c179e"
             ],
             [
              0.4444444444444444,
              "#bd3786"
             ],
             [
              0.5555555555555556,
              "#d8576b"
             ],
             [
              0.6666666666666666,
              "#ed7953"
             ],
             [
              0.7777777777777778,
              "#fb9f3a"
             ],
             [
              0.8888888888888888,
              "#fdca26"
             ],
             [
              1,
              "#f0f921"
             ]
            ],
            "type": "heatmap"
           }
          ],
          "heatmapgl": [
           {
            "colorbar": {
             "outlinewidth": 0,
             "ticks": ""
            },
            "colorscale": [
             [
              0,
              "#0d0887"
             ],
             [
              0.1111111111111111,
              "#46039f"
             ],
             [
              0.2222222222222222,
              "#7201a8"
             ],
             [
              0.3333333333333333,
              "#9c179e"
             ],
             [
              0.4444444444444444,
              "#bd3786"
             ],
             [
              0.5555555555555556,
              "#d8576b"
             ],
             [
              0.6666666666666666,
              "#ed7953"
             ],
             [
              0.7777777777777778,
              "#fb9f3a"
             ],
             [
              0.8888888888888888,
              "#fdca26"
             ],
             [
              1,
              "#f0f921"
             ]
            ],
            "type": "heatmapgl"
           }
          ],
          "histogram": [
           {
            "marker": {
             "pattern": {
              "fillmode": "overlay",
              "size": 10,
              "solidity": 0.2
             }
            },
            "type": "histogram"
           }
          ],
          "histogram2d": [
           {
            "colorbar": {
             "outlinewidth": 0,
             "ticks": ""
            },
            "colorscale": [
             [
              0,
              "#0d0887"
             ],
             [
              0.1111111111111111,
              "#46039f"
             ],
             [
              0.2222222222222222,
              "#7201a8"
             ],
             [
              0.3333333333333333,
              "#9c179e"
             ],
             [
              0.4444444444444444,
              "#bd3786"
             ],
             [
              0.5555555555555556,
              "#d8576b"
             ],
             [
              0.6666666666666666,
              "#ed7953"
             ],
             [
              0.7777777777777778,
              "#fb9f3a"
             ],
             [
              0.8888888888888888,
              "#fdca26"
             ],
             [
              1,
              "#f0f921"
             ]
            ],
            "type": "histogram2d"
           }
          ],
          "histogram2dcontour": [
           {
            "colorbar": {
             "outlinewidth": 0,
             "ticks": ""
            },
            "colorscale": [
             [
              0,
              "#0d0887"
             ],
             [
              0.1111111111111111,
              "#46039f"
             ],
             [
              0.2222222222222222,
              "#7201a8"
             ],
             [
              0.3333333333333333,
              "#9c179e"
             ],
             [
              0.4444444444444444,
              "#bd3786"
             ],
             [
              0.5555555555555556,
              "#d8576b"
             ],
             [
              0.6666666666666666,
              "#ed7953"
             ],
             [
              0.7777777777777778,
              "#fb9f3a"
             ],
             [
              0.8888888888888888,
              "#fdca26"
             ],
             [
              1,
              "#f0f921"
             ]
            ],
            "type": "histogram2dcontour"
           }
          ],
          "mesh3d": [
           {
            "colorbar": {
             "outlinewidth": 0,
             "ticks": ""
            },
            "type": "mesh3d"
           }
          ],
          "parcoords": [
           {
            "line": {
             "colorbar": {
              "outlinewidth": 0,
              "ticks": ""
             }
            },
            "type": "parcoords"
           }
          ],
          "pie": [
           {
            "automargin": true,
            "type": "pie"
           }
          ],
          "scatter": [
           {
            "fillpattern": {
             "fillmode": "overlay",
             "size": 10,
             "solidity": 0.2
            },
            "type": "scatter"
           }
          ],
          "scatter3d": [
           {
            "line": {
             "colorbar": {
              "outlinewidth": 0,
              "ticks": ""
             }
            },
            "marker": {
             "colorbar": {
              "outlinewidth": 0,
              "ticks": ""
             }
            },
            "type": "scatter3d"
           }
          ],
          "scattercarpet": [
           {
            "marker": {
             "colorbar": {
              "outlinewidth": 0,
              "ticks": ""
             }
            },
            "type": "scattercarpet"
           }
          ],
          "scattergeo": [
           {
            "marker": {
             "colorbar": {
              "outlinewidth": 0,
              "ticks": ""
             }
            },
            "type": "scattergeo"
           }
          ],
          "scattergl": [
           {
            "marker": {
             "colorbar": {
              "outlinewidth": 0,
              "ticks": ""
             }
            },
            "type": "scattergl"
           }
          ],
          "scattermapbox": [
           {
            "marker": {
             "colorbar": {
              "outlinewidth": 0,
              "ticks": ""
             }
            },
            "type": "scattermapbox"
           }
          ],
          "scatterpolar": [
           {
            "marker": {
             "colorbar": {
              "outlinewidth": 0,
              "ticks": ""
             }
            },
            "type": "scatterpolar"
           }
          ],
          "scatterpolargl": [
           {
            "marker": {
             "colorbar": {
              "outlinewidth": 0,
              "ticks": ""
             }
            },
            "type": "scatterpolargl"
           }
          ],
          "scatterternary": [
           {
            "marker": {
             "colorbar": {
              "outlinewidth": 0,
              "ticks": ""
             }
            },
            "type": "scatterternary"
           }
          ],
          "surface": [
           {
            "colorbar": {
             "outlinewidth": 0,
             "ticks": ""
            },
            "colorscale": [
             [
              0,
              "#0d0887"
             ],
             [
              0.1111111111111111,
              "#46039f"
             ],
             [
              0.2222222222222222,
              "#7201a8"
             ],
             [
              0.3333333333333333,
              "#9c179e"
             ],
             [
              0.4444444444444444,
              "#bd3786"
             ],
             [
              0.5555555555555556,
              "#d8576b"
             ],
             [
              0.6666666666666666,
              "#ed7953"
             ],
             [
              0.7777777777777778,
              "#fb9f3a"
             ],
             [
              0.8888888888888888,
              "#fdca26"
             ],
             [
              1,
              "#f0f921"
             ]
            ],
            "type": "surface"
           }
          ],
          "table": [
           {
            "cells": {
             "fill": {
              "color": "#EBF0F8"
             },
             "line": {
              "color": "white"
             }
            },
            "header": {
             "fill": {
              "color": "#C8D4E3"
             },
             "line": {
              "color": "white"
             }
            },
            "type": "table"
           }
          ]
         },
         "layout": {
          "annotationdefaults": {
           "arrowcolor": "#2a3f5f",
           "arrowhead": 0,
           "arrowwidth": 1
          },
          "autotypenumbers": "strict",
          "coloraxis": {
           "colorbar": {
            "outlinewidth": 0,
            "ticks": ""
           }
          },
          "colorscale": {
           "diverging": [
            [
             0,
             "#8e0152"
            ],
            [
             0.1,
             "#c51b7d"
            ],
            [
             0.2,
             "#de77ae"
            ],
            [
             0.3,
             "#f1b6da"
            ],
            [
             0.4,
             "#fde0ef"
            ],
            [
             0.5,
             "#f7f7f7"
            ],
            [
             0.6,
             "#e6f5d0"
            ],
            [
             0.7,
             "#b8e186"
            ],
            [
             0.8,
             "#7fbc41"
            ],
            [
             0.9,
             "#4d9221"
            ],
            [
             1,
             "#276419"
            ]
           ],
           "sequential": [
            [
             0,
             "#0d0887"
            ],
            [
             0.1111111111111111,
             "#46039f"
            ],
            [
             0.2222222222222222,
             "#7201a8"
            ],
            [
             0.3333333333333333,
             "#9c179e"
            ],
            [
             0.4444444444444444,
             "#bd3786"
            ],
            [
             0.5555555555555556,
             "#d8576b"
            ],
            [
             0.6666666666666666,
             "#ed7953"
            ],
            [
             0.7777777777777778,
             "#fb9f3a"
            ],
            [
             0.8888888888888888,
             "#fdca26"
            ],
            [
             1,
             "#f0f921"
            ]
           ],
           "sequentialminus": [
            [
             0,
             "#0d0887"
            ],
            [
             0.1111111111111111,
             "#46039f"
            ],
            [
             0.2222222222222222,
             "#7201a8"
            ],
            [
             0.3333333333333333,
             "#9c179e"
            ],
            [
             0.4444444444444444,
             "#bd3786"
            ],
            [
             0.5555555555555556,
             "#d8576b"
            ],
            [
             0.6666666666666666,
             "#ed7953"
            ],
            [
             0.7777777777777778,
             "#fb9f3a"
            ],
            [
             0.8888888888888888,
             "#fdca26"
            ],
            [
             1,
             "#f0f921"
            ]
           ]
          },
          "colorway": [
           "#636efa",
           "#EF553B",
           "#00cc96",
           "#ab63fa",
           "#FFA15A",
           "#19d3f3",
           "#FF6692",
           "#B6E880",
           "#FF97FF",
           "#FECB52"
          ],
          "font": {
           "color": "#2a3f5f"
          },
          "geo": {
           "bgcolor": "white",
           "lakecolor": "white",
           "landcolor": "#E5ECF6",
           "showlakes": true,
           "showland": true,
           "subunitcolor": "white"
          },
          "hoverlabel": {
           "align": "left"
          },
          "hovermode": "closest",
          "mapbox": {
           "style": "light"
          },
          "paper_bgcolor": "white",
          "plot_bgcolor": "#E5ECF6",
          "polar": {
           "angularaxis": {
            "gridcolor": "white",
            "linecolor": "white",
            "ticks": ""
           },
           "bgcolor": "#E5ECF6",
           "radialaxis": {
            "gridcolor": "white",
            "linecolor": "white",
            "ticks": ""
           }
          },
          "scene": {
           "xaxis": {
            "backgroundcolor": "#E5ECF6",
            "gridcolor": "white",
            "gridwidth": 2,
            "linecolor": "white",
            "showbackground": true,
            "ticks": "",
            "zerolinecolor": "white"
           },
           "yaxis": {
            "backgroundcolor": "#E5ECF6",
            "gridcolor": "white",
            "gridwidth": 2,
            "linecolor": "white",
            "showbackground": true,
            "ticks": "",
            "zerolinecolor": "white"
           },
           "zaxis": {
            "backgroundcolor": "#E5ECF6",
            "gridcolor": "white",
            "gridwidth": 2,
            "linecolor": "white",
            "showbackground": true,
            "ticks": "",
            "zerolinecolor": "white"
           }
          },
          "shapedefaults": {
           "line": {
            "color": "#2a3f5f"
           }
          },
          "ternary": {
           "aaxis": {
            "gridcolor": "white",
            "linecolor": "white",
            "ticks": ""
           },
           "baxis": {
            "gridcolor": "white",
            "linecolor": "white",
            "ticks": ""
           },
           "bgcolor": "#E5ECF6",
           "caxis": {
            "gridcolor": "white",
            "linecolor": "white",
            "ticks": ""
           }
          },
          "title": {
           "x": 0.05
          },
          "xaxis": {
           "automargin": true,
           "gridcolor": "white",
           "linecolor": "white",
           "ticks": "",
           "title": {
            "standoff": 15
           },
           "zerolinecolor": "white",
           "zerolinewidth": 2
          },
          "yaxis": {
           "automargin": true,
           "gridcolor": "white",
           "linecolor": "white",
           "ticks": "",
           "title": {
            "standoff": 15
           },
           "zerolinecolor": "white",
           "zerolinewidth": 2
          }
         }
        },
        "title": {
         "text": "Periodic Pattern of Sleepless Users"
        }
       }
      }
     },
     "metadata": {},
     "output_type": "display_data"
    }
   ],
   "source": [
    "fig = px.sunburst(a, names='6parts', values='count', parents='weekday', ids='ids', title='Periodic Pattern of Sleepless Users', \n",
    "                  color='count_mean',\n",
    "                  color_continuous_scale='Blues', \n",
    "                  branchvalues='total')\n",
    "fig.update_traces(sort=False, selector=dict(type='sunburst')) \n",
    "fig.update_layout({\n",
    "    'plot_bgcolor': 'rgba(0,0,0,0)',\n",
    "    'paper_bgcolor': 'rgba(0,0,0,0)'\n",
    "})\n",
    "fig.update_traces(customdata=a[['count_mean','ids','6parts','weekday']],\n",
    "                  hovertemplate=\"%{customdata[1]} <br>Count_Mean: %{customdata[0]}\")\n",
    "fig.show()"
   ]
  },
  {
   "cell_type": "code",
   "execution_count": 15,
   "metadata": {},
   "outputs": [],
   "source": [
    "fig.write_html('sunburst_new.html')"
   ]
  },
  {
   "cell_type": "code",
   "execution_count": 82,
   "metadata": {},
   "outputs": [
    {
     "data": {
      "application/vnd.plotly.v1+json": {
       "config": {
        "plotlyServerURL": "https://plot.ly"
       },
       "data": [
        {
         "branchvalues": "total",
         "customdata": [
          [
           1454.54
          ],
          [
           1491.38
          ],
          [
           1456.6399999999999
          ],
          [
           1470
          ],
          [
           1418.62
          ],
          [
           1259.31
          ],
          [
           1242.15
          ],
          [
           2135.69
          ],
          [
           2070.38
          ],
          [
           2078.71
          ],
          [
           2074.08
          ],
          [
           2041.54
          ],
          [
           1708.31
          ],
          [
           1659.62
          ],
          [
           1393.08
          ],
          [
           1449.08
          ],
          [
           1433.29
          ],
          [
           1430.54
          ],
          [
           10571.92
          ],
          [
           1358.15
          ],
          [
           1339
          ],
          [
           1042.23
          ],
          [
           1069.23
          ],
          [
           1077.14
          ],
          [
           1046.46
          ],
          [
           996.62
          ],
          [
           940.6900000000002
          ],
          [
           952.15
          ],
          [
           1406.54
          ],
          [
           1439
          ],
          [
           1417.43
          ],
          [
           1453.92
          ],
          [
           1359.77
          ],
          [
           1344.23
          ],
          [
           1391.38
          ],
          [
           1248.92
          ],
          [
           1280
          ],
          [
           1237
          ],
          [
           1246.23
          ],
          [
           1108.46
          ],
          [
           1127.54
          ],
          [
           1226.62
          ],
          [
           1525.3921881119688
          ],
          [
           1530.0360479118817
          ],
          [
           1516.8211988331316
          ],
          [
           1521.7123787470346
          ],
          [
           6973.610239699193
          ],
          [
           1332.598614321363
          ],
          [
           1336.247294582456
          ]
         ],
         "domain": {
          "x": [
           0,
           1
          ],
          "y": [
           0,
           1
          ]
         },
         "hovertemplate": "labels=%{label}<br>count_mean_sum=%{value}<br>parent=%{parent}<br>id=%{id}<br>count_mean=%{color}<extra></extra>",
         "ids": [
          "1Monday/1_12am-4am",
          "2Tuesday/1_12am-4am",
          "3Wednesday/1_12am-4am",
          "4Thursday/1_12am-4am",
          "5Friday/1_12am-4am",
          "6Saturday/1_12am-4am",
          "7Sunday/1_12am-4am",
          "1Monday/2_4am-8am",
          "2Tuesday/2_4am-8am",
          "3Wednesday/2_4am-8am",
          "4Thursday/2_4am-8am",
          "5Friday/2_4am-8am",
          "6Saturday/2_4am-8am",
          "7Sunday/2_4am-8am",
          "1Monday/3_8am-12pm",
          "2Tuesday/3_8am-12pm",
          "3Wednesday/3_8am-12pm",
          "4Thursday/3_8am-12pm",
          "5Friday/3_8am-12pm",
          "6Saturday/3_8am-12pm",
          "7Sunday/3_8am-12pm",
          "1Monday/4_12pm-4pm",
          "2Tuesday/4_12pm-4pm",
          "3Wednesday/4_12pm-4pm",
          "4Thursday/4_12pm-4pm",
          "5Friday/4_12pm-4pm",
          "6Saturday/4_12pm-4pm",
          "7Sunday/4_12pm-4pm",
          "1Monday/5_4pm-8pm",
          "2Tuesday/5_4pm-8pm",
          "3Wednesday/5_4pm-8pm",
          "4Thursday/5_4pm-8pm",
          "5Friday/5_4pm-8pm",
          "6Saturday/5_4pm-8pm",
          "7Sunday/5_4pm-8pm",
          "1Monday/6_8pm-12am",
          "2Tuesday/6_8pm-12am",
          "3Wednesday/6_8pm-12am",
          "4Thursday/6_8pm-12am",
          "5Friday/6_8pm-12am",
          "6Saturday/6_8pm-12am",
          "7Sunday/6_8pm-12am",
          "1Monday",
          "2Tuesday",
          "3Wednesday",
          "4Thursday",
          "5Friday",
          "6Saturday",
          "7Sunday"
         ],
         "labels": [
          "1_12am-4am",
          "1_12am-4am",
          "1_12am-4am",
          "1_12am-4am",
          "1_12am-4am",
          "1_12am-4am",
          "1_12am-4am",
          "2_4am-8am",
          "2_4am-8am",
          "2_4am-8am",
          "2_4am-8am",
          "2_4am-8am",
          "2_4am-8am",
          "2_4am-8am",
          "3_8am-12pm",
          "3_8am-12pm",
          "3_8am-12pm",
          "3_8am-12pm",
          "3_8am-12pm",
          "3_8am-12pm",
          "3_8am-12pm",
          "4_12pm-4pm",
          "4_12pm-4pm",
          "4_12pm-4pm",
          "4_12pm-4pm",
          "4_12pm-4pm",
          "4_12pm-4pm",
          "4_12pm-4pm",
          "5_4pm-8pm",
          "5_4pm-8pm",
          "5_4pm-8pm",
          "5_4pm-8pm",
          "5_4pm-8pm",
          "5_4pm-8pm",
          "5_4pm-8pm",
          "6_8pm-12am",
          "6_8pm-12am",
          "6_8pm-12am",
          "6_8pm-12am",
          "6_8pm-12am",
          "6_8pm-12am",
          "6_8pm-12am",
          "1Monday",
          "2Tuesday",
          "3Wednesday",
          "4Thursday",
          "5Friday",
          "6Saturday",
          "7Sunday"
         ],
         "marker": {
          "coloraxis": "coloraxis",
          "colors": [
           1454.54,
           1491.38,
           1456.6399999999999,
           1470,
           1418.62,
           1259.31,
           1242.15,
           2135.69,
           2070.38,
           2078.71,
           2074.08,
           2041.54,
           1708.31,
           1659.62,
           1393.08,
           1449.08,
           1433.29,
           1430.54,
           10571.92,
           1358.15,
           1339,
           1042.23,
           1069.23,
           1077.14,
           1046.46,
           996.62,
           940.6900000000002,
           952.15,
           1406.54,
           1439,
           1417.43,
           1453.92,
           1359.77,
           1344.23,
           1391.38,
           1248.92,
           1280,
           1237,
           1246.23,
           1108.46,
           1127.54,
           1226.62,
           1525.3921881119688,
           1530.0360479118817,
           1516.8211988331316,
           1521.7123787470346,
           6973.610239699193,
           1332.598614321363,
           1336.247294582456
          ]
         },
         "name": "",
         "parents": [
          "1Monday",
          "2Tuesday",
          "3Wednesday",
          "4Thursday",
          "5Friday",
          "6Saturday",
          "7Sunday",
          "1Monday",
          "2Tuesday",
          "3Wednesday",
          "4Thursday",
          "5Friday",
          "6Saturday",
          "7Sunday",
          "1Monday",
          "2Tuesday",
          "3Wednesday",
          "4Thursday",
          "5Friday",
          "6Saturday",
          "7Sunday",
          "1Monday",
          "2Tuesday",
          "3Wednesday",
          "4Thursday",
          "5Friday",
          "6Saturday",
          "7Sunday",
          "1Monday",
          "2Tuesday",
          "3Wednesday",
          "4Thursday",
          "5Friday",
          "6Saturday",
          "7Sunday",
          "1Monday",
          "2Tuesday",
          "3Wednesday",
          "4Thursday",
          "5Friday",
          "6Saturday",
          "7Sunday",
          "",
          "",
          "",
          "",
          "",
          "",
          ""
         ],
         "sort": false,
         "type": "sunburst",
         "values": [
          1454.54,
          1491.38,
          1456.64,
          1470,
          1418.62,
          1259.31,
          1242.15,
          2135.69,
          2070.38,
          2078.71,
          2074.08,
          2041.54,
          1708.31,
          1659.62,
          1393.08,
          1449.08,
          1433.29,
          1430.54,
          10571.92,
          1358.15,
          1339,
          1042.23,
          1069.23,
          1077.14,
          1046.46,
          996.62,
          940.69,
          952.15,
          1406.54,
          1439,
          1417.43,
          1453.92,
          1359.77,
          1344.23,
          1391.38,
          1248.92,
          1280,
          1237,
          1246.23,
          1108.46,
          1127.54,
          1226.62,
          8681,
          8799.07,
          8700.210000000001,
          8721.23,
          17496.93,
          7738.23,
          7810.92
         ]
        }
       ],
       "layout": {
        "coloraxis": {
         "colorbar": {
          "title": {
           "text": "count_mean"
          }
         },
         "colorscale": [
          [
           0,
           "rgb(247,252,240)"
          ],
          [
           0.125,
           "rgb(224,243,219)"
          ],
          [
           0.25,
           "rgb(204,235,197)"
          ],
          [
           0.375,
           "rgb(168,221,181)"
          ],
          [
           0.5,
           "rgb(123,204,196)"
          ],
          [
           0.625,
           "rgb(78,179,211)"
          ],
          [
           0.75,
           "rgb(43,140,190)"
          ],
          [
           0.875,
           "rgb(8,104,172)"
          ],
          [
           1,
           "rgb(8,64,129)"
          ]
         ]
        },
        "legend": {
         "tracegroupgap": 0
        },
        "margin": {
         "t": 60
        },
        "paper_bgcolor": "rgba(0,0,0,0)",
        "plot_bgcolor": "rgba(0,0,0,0)",
        "template": {
         "data": {
          "bar": [
           {
            "error_x": {
             "color": "#2a3f5f"
            },
            "error_y": {
             "color": "#2a3f5f"
            },
            "marker": {
             "line": {
              "color": "#E5ECF6",
              "width": 0.5
             },
             "pattern": {
              "fillmode": "overlay",
              "size": 10,
              "solidity": 0.2
             }
            },
            "type": "bar"
           }
          ],
          "barpolar": [
           {
            "marker": {
             "line": {
              "color": "#E5ECF6",
              "width": 0.5
             },
             "pattern": {
              "fillmode": "overlay",
              "size": 10,
              "solidity": 0.2
             }
            },
            "type": "barpolar"
           }
          ],
          "carpet": [
           {
            "aaxis": {
             "endlinecolor": "#2a3f5f",
             "gridcolor": "white",
             "linecolor": "white",
             "minorgridcolor": "white",
             "startlinecolor": "#2a3f5f"
            },
            "baxis": {
             "endlinecolor": "#2a3f5f",
             "gridcolor": "white",
             "linecolor": "white",
             "minorgridcolor": "white",
             "startlinecolor": "#2a3f5f"
            },
            "type": "carpet"
           }
          ],
          "choropleth": [
           {
            "colorbar": {
             "outlinewidth": 0,
             "ticks": ""
            },
            "type": "choropleth"
           }
          ],
          "contour": [
           {
            "colorbar": {
             "outlinewidth": 0,
             "ticks": ""
            },
            "colorscale": [
             [
              0,
              "#0d0887"
             ],
             [
              0.1111111111111111,
              "#46039f"
             ],
             [
              0.2222222222222222,
              "#7201a8"
             ],
             [
              0.3333333333333333,
              "#9c179e"
             ],
             [
              0.4444444444444444,
              "#bd3786"
             ],
             [
              0.5555555555555556,
              "#d8576b"
             ],
             [
              0.6666666666666666,
              "#ed7953"
             ],
             [
              0.7777777777777778,
              "#fb9f3a"
             ],
             [
              0.8888888888888888,
              "#fdca26"
             ],
             [
              1,
              "#f0f921"
             ]
            ],
            "type": "contour"
           }
          ],
          "contourcarpet": [
           {
            "colorbar": {
             "outlinewidth": 0,
             "ticks": ""
            },
            "type": "contourcarpet"
           }
          ],
          "heatmap": [
           {
            "colorbar": {
             "outlinewidth": 0,
             "ticks": ""
            },
            "colorscale": [
             [
              0,
              "#0d0887"
             ],
             [
              0.1111111111111111,
              "#46039f"
             ],
             [
              0.2222222222222222,
              "#7201a8"
             ],
             [
              0.3333333333333333,
              "#9c179e"
             ],
             [
              0.4444444444444444,
              "#bd3786"
             ],
             [
              0.5555555555555556,
              "#d8576b"
             ],
             [
              0.6666666666666666,
              "#ed7953"
             ],
             [
              0.7777777777777778,
              "#fb9f3a"
             ],
             [
              0.8888888888888888,
              "#fdca26"
             ],
             [
              1,
              "#f0f921"
             ]
            ],
            "type": "heatmap"
           }
          ],
          "heatmapgl": [
           {
            "colorbar": {
             "outlinewidth": 0,
             "ticks": ""
            },
            "colorscale": [
             [
              0,
              "#0d0887"
             ],
             [
              0.1111111111111111,
              "#46039f"
             ],
             [
              0.2222222222222222,
              "#7201a8"
             ],
             [
              0.3333333333333333,
              "#9c179e"
             ],
             [
              0.4444444444444444,
              "#bd3786"
             ],
             [
              0.5555555555555556,
              "#d8576b"
             ],
             [
              0.6666666666666666,
              "#ed7953"
             ],
             [
              0.7777777777777778,
              "#fb9f3a"
             ],
             [
              0.8888888888888888,
              "#fdca26"
             ],
             [
              1,
              "#f0f921"
             ]
            ],
            "type": "heatmapgl"
           }
          ],
          "histogram": [
           {
            "marker": {
             "pattern": {
              "fillmode": "overlay",
              "size": 10,
              "solidity": 0.2
             }
            },
            "type": "histogram"
           }
          ],
          "histogram2d": [
           {
            "colorbar": {
             "outlinewidth": 0,
             "ticks": ""
            },
            "colorscale": [
             [
              0,
              "#0d0887"
             ],
             [
              0.1111111111111111,
              "#46039f"
             ],
             [
              0.2222222222222222,
              "#7201a8"
             ],
             [
              0.3333333333333333,
              "#9c179e"
             ],
             [
              0.4444444444444444,
              "#bd3786"
             ],
             [
              0.5555555555555556,
              "#d8576b"
             ],
             [
              0.6666666666666666,
              "#ed7953"
             ],
             [
              0.7777777777777778,
              "#fb9f3a"
             ],
             [
              0.8888888888888888,
              "#fdca26"
             ],
             [
              1,
              "#f0f921"
             ]
            ],
            "type": "histogram2d"
           }
          ],
          "histogram2dcontour": [
           {
            "colorbar": {
             "outlinewidth": 0,
             "ticks": ""
            },
            "colorscale": [
             [
              0,
              "#0d0887"
             ],
             [
              0.1111111111111111,
              "#46039f"
             ],
             [
              0.2222222222222222,
              "#7201a8"
             ],
             [
              0.3333333333333333,
              "#9c179e"
             ],
             [
              0.4444444444444444,
              "#bd3786"
             ],
             [
              0.5555555555555556,
              "#d8576b"
             ],
             [
              0.6666666666666666,
              "#ed7953"
             ],
             [
              0.7777777777777778,
              "#fb9f3a"
             ],
             [
              0.8888888888888888,
              "#fdca26"
             ],
             [
              1,
              "#f0f921"
             ]
            ],
            "type": "histogram2dcontour"
           }
          ],
          "mesh3d": [
           {
            "colorbar": {
             "outlinewidth": 0,
             "ticks": ""
            },
            "type": "mesh3d"
           }
          ],
          "parcoords": [
           {
            "line": {
             "colorbar": {
              "outlinewidth": 0,
              "ticks": ""
             }
            },
            "type": "parcoords"
           }
          ],
          "pie": [
           {
            "automargin": true,
            "type": "pie"
           }
          ],
          "scatter": [
           {
            "fillpattern": {
             "fillmode": "overlay",
             "size": 10,
             "solidity": 0.2
            },
            "type": "scatter"
           }
          ],
          "scatter3d": [
           {
            "line": {
             "colorbar": {
              "outlinewidth": 0,
              "ticks": ""
             }
            },
            "marker": {
             "colorbar": {
              "outlinewidth": 0,
              "ticks": ""
             }
            },
            "type": "scatter3d"
           }
          ],
          "scattercarpet": [
           {
            "marker": {
             "colorbar": {
              "outlinewidth": 0,
              "ticks": ""
             }
            },
            "type": "scattercarpet"
           }
          ],
          "scattergeo": [
           {
            "marker": {
             "colorbar": {
              "outlinewidth": 0,
              "ticks": ""
             }
            },
            "type": "scattergeo"
           }
          ],
          "scattergl": [
           {
            "marker": {
             "colorbar": {
              "outlinewidth": 0,
              "ticks": ""
             }
            },
            "type": "scattergl"
           }
          ],
          "scattermapbox": [
           {
            "marker": {
             "colorbar": {
              "outlinewidth": 0,
              "ticks": ""
             }
            },
            "type": "scattermapbox"
           }
          ],
          "scatterpolar": [
           {
            "marker": {
             "colorbar": {
              "outlinewidth": 0,
              "ticks": ""
             }
            },
            "type": "scatterpolar"
           }
          ],
          "scatterpolargl": [
           {
            "marker": {
             "colorbar": {
              "outlinewidth": 0,
              "ticks": ""
             }
            },
            "type": "scatterpolargl"
           }
          ],
          "scatterternary": [
           {
            "marker": {
             "colorbar": {
              "outlinewidth": 0,
              "ticks": ""
             }
            },
            "type": "scatterternary"
           }
          ],
          "surface": [
           {
            "colorbar": {
             "outlinewidth": 0,
             "ticks": ""
            },
            "colorscale": [
             [
              0,
              "#0d0887"
             ],
             [
              0.1111111111111111,
              "#46039f"
             ],
             [
              0.2222222222222222,
              "#7201a8"
             ],
             [
              0.3333333333333333,
              "#9c179e"
             ],
             [
              0.4444444444444444,
              "#bd3786"
             ],
             [
              0.5555555555555556,
              "#d8576b"
             ],
             [
              0.6666666666666666,
              "#ed7953"
             ],
             [
              0.7777777777777778,
              "#fb9f3a"
             ],
             [
              0.8888888888888888,
              "#fdca26"
             ],
             [
              1,
              "#f0f921"
             ]
            ],
            "type": "surface"
           }
          ],
          "table": [
           {
            "cells": {
             "fill": {
              "color": "#EBF0F8"
             },
             "line": {
              "color": "white"
             }
            },
            "header": {
             "fill": {
              "color": "#C8D4E3"
             },
             "line": {
              "color": "white"
             }
            },
            "type": "table"
           }
          ]
         },
         "layout": {
          "annotationdefaults": {
           "arrowcolor": "#2a3f5f",
           "arrowhead": 0,
           "arrowwidth": 1
          },
          "autotypenumbers": "strict",
          "coloraxis": {
           "colorbar": {
            "outlinewidth": 0,
            "ticks": ""
           }
          },
          "colorscale": {
           "diverging": [
            [
             0,
             "#8e0152"
            ],
            [
             0.1,
             "#c51b7d"
            ],
            [
             0.2,
             "#de77ae"
            ],
            [
             0.3,
             "#f1b6da"
            ],
            [
             0.4,
             "#fde0ef"
            ],
            [
             0.5,
             "#f7f7f7"
            ],
            [
             0.6,
             "#e6f5d0"
            ],
            [
             0.7,
             "#b8e186"
            ],
            [
             0.8,
             "#7fbc41"
            ],
            [
             0.9,
             "#4d9221"
            ],
            [
             1,
             "#276419"
            ]
           ],
           "sequential": [
            [
             0,
             "#0d0887"
            ],
            [
             0.1111111111111111,
             "#46039f"
            ],
            [
             0.2222222222222222,
             "#7201a8"
            ],
            [
             0.3333333333333333,
             "#9c179e"
            ],
            [
             0.4444444444444444,
             "#bd3786"
            ],
            [
             0.5555555555555556,
             "#d8576b"
            ],
            [
             0.6666666666666666,
             "#ed7953"
            ],
            [
             0.7777777777777778,
             "#fb9f3a"
            ],
            [
             0.8888888888888888,
             "#fdca26"
            ],
            [
             1,
             "#f0f921"
            ]
           ],
           "sequentialminus": [
            [
             0,
             "#0d0887"
            ],
            [
             0.1111111111111111,
             "#46039f"
            ],
            [
             0.2222222222222222,
             "#7201a8"
            ],
            [
             0.3333333333333333,
             "#9c179e"
            ],
            [
             0.4444444444444444,
             "#bd3786"
            ],
            [
             0.5555555555555556,
             "#d8576b"
            ],
            [
             0.6666666666666666,
             "#ed7953"
            ],
            [
             0.7777777777777778,
             "#fb9f3a"
            ],
            [
             0.8888888888888888,
             "#fdca26"
            ],
            [
             1,
             "#f0f921"
            ]
           ]
          },
          "colorway": [
           "#636efa",
           "#EF553B",
           "#00cc96",
           "#ab63fa",
           "#FFA15A",
           "#19d3f3",
           "#FF6692",
           "#B6E880",
           "#FF97FF",
           "#FECB52"
          ],
          "font": {
           "color": "#2a3f5f"
          },
          "geo": {
           "bgcolor": "white",
           "lakecolor": "white",
           "landcolor": "#E5ECF6",
           "showlakes": true,
           "showland": true,
           "subunitcolor": "white"
          },
          "hoverlabel": {
           "align": "left"
          },
          "hovermode": "closest",
          "mapbox": {
           "style": "light"
          },
          "paper_bgcolor": "white",
          "plot_bgcolor": "#E5ECF6",
          "polar": {
           "angularaxis": {
            "gridcolor": "white",
            "linecolor": "white",
            "ticks": ""
           },
           "bgcolor": "#E5ECF6",
           "radialaxis": {
            "gridcolor": "white",
            "linecolor": "white",
            "ticks": ""
           }
          },
          "scene": {
           "xaxis": {
            "backgroundcolor": "#E5ECF6",
            "gridcolor": "white",
            "gridwidth": 2,
            "linecolor": "white",
            "showbackground": true,
            "ticks": "",
            "zerolinecolor": "white"
           },
           "yaxis": {
            "backgroundcolor": "#E5ECF6",
            "gridcolor": "white",
            "gridwidth": 2,
            "linecolor": "white",
            "showbackground": true,
            "ticks": "",
            "zerolinecolor": "white"
           },
           "zaxis": {
            "backgroundcolor": "#E5ECF6",
            "gridcolor": "white",
            "gridwidth": 2,
            "linecolor": "white",
            "showbackground": true,
            "ticks": "",
            "zerolinecolor": "white"
           }
          },
          "shapedefaults": {
           "line": {
            "color": "#2a3f5f"
           }
          },
          "ternary": {
           "aaxis": {
            "gridcolor": "white",
            "linecolor": "white",
            "ticks": ""
           },
           "baxis": {
            "gridcolor": "white",
            "linecolor": "white",
            "ticks": ""
           },
           "bgcolor": "#E5ECF6",
           "caxis": {
            "gridcolor": "white",
            "linecolor": "white",
            "ticks": ""
           }
          },
          "title": {
           "x": 0.05
          },
          "xaxis": {
           "automargin": true,
           "gridcolor": "white",
           "linecolor": "white",
           "ticks": "",
           "title": {
            "standoff": 15
           },
           "zerolinecolor": "white",
           "zerolinewidth": 2
          },
          "yaxis": {
           "automargin": true,
           "gridcolor": "white",
           "linecolor": "white",
           "ticks": "",
           "title": {
            "standoff": 15
           },
           "zerolinecolor": "white",
           "zerolinewidth": 2
          }
         }
        }
       }
      }
     },
     "metadata": {},
     "output_type": "display_data"
    }
   ],
   "source": [
    "#the sorted version, but the area has something wrong\n",
    "fig = px.sunburst(a, \n",
    "                  values='count_mean',\n",
    "                  path=['weekday_sort','6parts'],\n",
    "                  # parents='weekday',\n",
    "                  # ids='6parts', \n",
    "                  color='count_mean', \n",
    "                  # hover_data=['count_mean'],\n",
    "                  color_continuous_scale='GnBu',\n",
    "                  # color_continuous_midpoint=np.average(a['count_mean'])\n",
    "                )\n",
    "fig.update_layout({\n",
    "    'plot_bgcolor': 'rgba(0,0,0,0)',\n",
    "    'paper_bgcolor': 'rgba(0,0,0,0)'\n",
    "})\n",
    "fig.update_traces(sort=False, selector=dict(type='sunburst')) \n",
    "# fig.update_traces(customdata=map[['state','count/pop(K)','count']],\n",
    "                #   hovertemplate=\"%{customdata[0]} <br>Count: %{customdata[2]} <br>Count/Pop(K): %{customdata[1]} \")\n",
    "# fig.update_layout(margin = dict(t=0, l=0, r=0, b=0))\n",
    "fig.show()"
   ]
  },
  {
   "cell_type": "code",
   "execution_count": null,
   "metadata": {},
   "outputs": [],
   "source": []
  }
 ],
 "metadata": {
  "interpreter": {
   "hash": "65fd10f61045ca2763c99ce429a6c808c1c59ad5629180c76d54a8288caaad4e"
  },
  "kernelspec": {
   "display_name": "Python 3.8.13 64-bit",
   "language": "python",
   "name": "python3"
  },
  "language_info": {
   "codemirror_mode": {
    "name": "ipython",
    "version": 3
   },
   "file_extension": ".py",
   "mimetype": "text/x-python",
   "name": "python",
   "nbconvert_exporter": "python",
   "pygments_lexer": "ipython3",
   "version": "3.8.13"
  },
  "orig_nbformat": 4
 },
 "nbformat": 4,
 "nbformat_minor": 2
}
