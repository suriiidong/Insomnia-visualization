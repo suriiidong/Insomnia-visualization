{
 "cells": [
  {
   "cell_type": "code",
   "execution_count": 1,
   "metadata": {},
   "outputs": [],
   "source": [
    "import pandas as pd\n",
    "import numpy as np\n",
    "import snscrape.modules.twitter as sntwitter\n",
    "import snscrape.modules.twitter\n",
    "import warnings\n",
    "warnings.filterwarnings(\"ignore\")"
   ]
  },
  {
   "cell_type": "markdown",
   "metadata": {},
   "source": [
    "## Scrape Data"
   ]
  },
  {
   "cell_type": "code",
   "execution_count": null,
   "metadata": {},
   "outputs": [],
   "source": [
    "cant_sleep_l = []\n",
    "for i, tweet in enumerate(sntwitter.TwitterSearchScraper('\"can\\'t sleep\" since:2022-06-01 until:2022-09-01').get_items()):\n",
    "    cant_sleep_l.append([tweet.date, tweet.content, tweet.user.id, tweet.user.location, tweet.lang])\n",
    "cant_sleep_l = pd.DataFrame(cant_sleep_l, columns=['Date', 'Content', 'User\\'s id', 'User\\'s location', 'language'])\n",
    "cant_sleep_l.to_csv('cant_sleep.csv')"
   ]
  },
  {
   "cell_type": "code",
   "execution_count": null,
   "metadata": {},
   "outputs": [],
   "source": [
    "ambien_l = []\n",
    "for i, tweet in enumerate(sntwitter.TwitterSearchScraper('\"ambien\" since:2022-06-01 until:2022-09-01').get_items()):\n",
    "    ambien_l.append([tweet.date, tweet.content, tweet.user.id, tweet.user.location])\n",
    "ambien_l = pd.DataFrame(ambien_l, columns=['Date', 'Content', 'User\\'s id', 'User\\'s location', 'language'])\n",
    "ambien_l.to_csv('ambien.csv')"
   ]
  },
  {
   "cell_type": "code",
   "execution_count": null,
   "metadata": {},
   "outputs": [],
   "source": [
    "sleep_aid_l = []\n",
    "for i, tweet in enumerate(sntwitter.TwitterSearchScraper('\"sleep_aid\" since:2022-06-01 until:2022-09-01').get_items()):\n",
    "    sleep_aid_l.append([tweet.date, tweet.content, tweet.user.id, tweet.user.location])\n",
    "sleep_aid_l = pd.DataFrame(sleep_aid_l, columns=['Date', 'Content', 'userid', 'User\\'s location', 'language'])\n",
    "sleep_aid_l.to_csv('sleep_aid.csv')"
   ]
  },
  {
   "cell_type": "code",
   "execution_count": null,
   "metadata": {},
   "outputs": [],
   "source": [
    "melatonin_l = []\n",
    "for i, tweet in enumerate(sntwitter.TwitterSearchScraper('\"melatonin\" since:2022-06-01 until:2022-09-01').get_items()):\n",
    "    melatonin_l.append([tweet.date, tweet.content, tweet.user.id, tweet.user.location, tweet.lang])\n",
    "melatonin_l = pd.DataFrame(melatonin_l, columns=['Date', 'Content', 'userid', 'User\\'s location', 'language'])\n",
    "melatonin_l.to_csv('melatonin.csv')"
   ]
  },
  {
   "cell_type": "code",
   "execution_count": null,
   "metadata": {},
   "outputs": [],
   "source": [
    "TeamNoSleep = []\n",
    "for i, tweet in enumerate(sntwitter.TwitterSearchScraper('#TeamNoSleep since:2022-06-01 until:2022-09-01').get_items()):\n",
    "    TeamNoSleep.append([tweet.date,  tweet.content, tweet.user.location, tweet.user.id,tweet.lang])\n",
    "TeamNoSleep_df = pd.DataFrame(TeamNoSleep, columns=['Date', 'Content', 'User\\'s location', 'userid','language'])\n",
    "TeamNoSleep_df.to_csv('TeamNoSleep.csv')"
   ]
  },
  {
   "cell_type": "code",
   "execution_count": null,
   "metadata": {},
   "outputs": [],
   "source": [
    "insomnia = []\n",
    "for i, tweet in enumerate(sntwitter.TwitterSearchScraper('insomnia since:2022-06-01 until:2022-09-01').get_items()):\n",
    "    insomnia.append([tweet.date,  tweet.content, tweet.user.location, tweet.user.id,tweet.lang])\n",
    "insomnia_df = pd.DataFrame(insomnia, columns=['Date', 'Content', 'User\\'s location', 'userid','language'])\n",
    "insomnia_df.to_csv('Insomnia.csv')"
   ]
  }
 ],
 "metadata": {
  "interpreter": {
   "hash": "65fd10f61045ca2763c99ce429a6c808c1c59ad5629180c76d54a8288caaad4e"
  },
  "kernelspec": {
   "display_name": "Python 3.8.13 64-bit",
   "language": "python",
   "name": "python3"
  },
  "language_info": {
   "codemirror_mode": {
    "name": "ipython",
    "version": 3
   },
   "file_extension": ".py",
   "mimetype": "text/x-python",
   "name": "python",
   "nbconvert_exporter": "python",
   "pygments_lexer": "ipython3",
   "version": "3.8.13"
  },
  "orig_nbformat": 4
 },
 "nbformat": 4,
 "nbformat_minor": 2
}
