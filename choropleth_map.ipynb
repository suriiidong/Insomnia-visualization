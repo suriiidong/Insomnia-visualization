{
 "cells": [
  {
   "cell_type": "code",
   "execution_count": 1,
   "metadata": {},
   "outputs": [],
   "source": [
    "import pandas as pd\n",
    "import numpy as np\n",
    "from geopy.geocoders import Nominatim\n",
    "from geopy.extra.rate_limiter import RateLimiter\n",
    "import plotly.express as px\n",
    "import plotly \n",
    "import warnings\n",
    "warnings.filterwarnings(\"ignore\")\n",
    "import re"
   ]
  },
  {
   "cell_type": "markdown",
   "metadata": {},
   "source": [
    "## Spatial Distribution"
   ]
  },
  {
   "cell_type": "markdown",
   "metadata": {},
   "source": [
    "#### Data processing"
   ]
  },
  {
   "cell_type": "code",
   "execution_count": 2,
   "metadata": {},
   "outputs": [
    {
     "data": {
      "text/html": [
       "<div>\n",
       "<style scoped>\n",
       "    .dataframe tbody tr th:only-of-type {\n",
       "        vertical-align: middle;\n",
       "    }\n",
       "\n",
       "    .dataframe tbody tr th {\n",
       "        vertical-align: top;\n",
       "    }\n",
       "\n",
       "    .dataframe thead th {\n",
       "        text-align: right;\n",
       "    }\n",
       "</style>\n",
       "<table border=\"1\" class=\"dataframe\">\n",
       "  <thead>\n",
       "    <tr style=\"text-align: right;\">\n",
       "      <th></th>\n",
       "      <th>Date</th>\n",
       "      <th>Content</th>\n",
       "      <th>User's location</th>\n",
       "      <th>userid</th>\n",
       "    </tr>\n",
       "  </thead>\n",
       "  <tbody>\n",
       "    <tr>\n",
       "      <th>8</th>\n",
       "      <td>2022-08-31 20:07:09+00:00</td>\n",
       "      <td>#BBNaija me just waiting for Daniella to break...</td>\n",
       "      <td>Pimville Soweto, South Africa</td>\n",
       "      <td>4.472969e+08</td>\n",
       "    </tr>\n",
       "    <tr>\n",
       "      <th>11</th>\n",
       "      <td>2022-08-31 18:29:22+00:00</td>\n",
       "      <td>Exhausted 🥱 no sleep since yesterday, I needs ...</td>\n",
       "      <td>Philadelphia, PA</td>\n",
       "      <td>2.432277e+09</td>\n",
       "    </tr>\n",
       "    <tr>\n",
       "      <th>12</th>\n",
       "      <td>2022-08-31 15:02:00+00:00</td>\n",
       "      <td>ICYMI: Lil' Miss #TeamNoSleep finally gets a f...</td>\n",
       "      <td>Myrtle Beach, South Carolina</td>\n",
       "      <td>8.699900e+08</td>\n",
       "    </tr>\n",
       "    <tr>\n",
       "      <th>14</th>\n",
       "      <td>2022-08-31 12:22:23+00:00</td>\n",
       "      <td>I think I’m super-delirious. I do believe I ne...</td>\n",
       "      <td>California, USA</td>\n",
       "      <td>1.801410e+07</td>\n",
       "    </tr>\n",
       "    <tr>\n",
       "      <th>16</th>\n",
       "      <td>2022-08-31 11:17:41+00:00</td>\n",
       "      <td>Budget Kraber is a must have in my load out 😘\\...</td>\n",
       "      <td>Olympus</td>\n",
       "      <td>1.218736e+18</td>\n",
       "    </tr>\n",
       "    <tr>\n",
       "      <th>...</th>\n",
       "      <td>...</td>\n",
       "      <td>...</td>\n",
       "      <td>...</td>\n",
       "      <td>...</td>\n",
       "    </tr>\n",
       "    <tr>\n",
       "      <th>892019</th>\n",
       "      <td>2022-06-01 02:40:54+00:00</td>\n",
       "      <td>2010s revisionist westerns AKA the world's mos...</td>\n",
       "      <td>Chicago, IL</td>\n",
       "      <td>6.332248e+08</td>\n",
       "    </tr>\n",
       "    <tr>\n",
       "      <th>892020</th>\n",
       "      <td>2022-06-01 02:35:57+00:00</td>\n",
       "      <td>Ight I took my sleep aid medicine I’ll be KO I...</td>\n",
       "      <td>Atlanta, GA</td>\n",
       "      <td>4.524712e+08</td>\n",
       "    </tr>\n",
       "    <tr>\n",
       "      <th>892021</th>\n",
       "      <td>2022-06-01 02:25:48+00:00</td>\n",
       "      <td>@SpiroAgnewGhost What’s her next segment “Why ...</td>\n",
       "      <td>Hopping Time Zones in my G6</td>\n",
       "      <td>1.427527e+18</td>\n",
       "    </tr>\n",
       "    <tr>\n",
       "      <th>892022</th>\n",
       "      <td>2022-06-01 01:41:36+00:00</td>\n",
       "      <td>Having trouble sleeping? \\n\\nRogue Shop sleep ...</td>\n",
       "      <td>Chapel Hill, NC</td>\n",
       "      <td>2.686267e+08</td>\n",
       "    </tr>\n",
       "    <tr>\n",
       "      <th>892023</th>\n",
       "      <td>2022-06-01 00:52:36+00:00</td>\n",
       "      <td>@azaehanla I suggest trying an over the counte...</td>\n",
       "      <td>British Columbia, Canada</td>\n",
       "      <td>7.882513e+08</td>\n",
       "    </tr>\n",
       "  </tbody>\n",
       "</table>\n",
       "<p>538192 rows × 4 columns</p>\n",
       "</div>"
      ],
      "text/plain": [
       "                             Date  \\\n",
       "8       2022-08-31 20:07:09+00:00   \n",
       "11      2022-08-31 18:29:22+00:00   \n",
       "12      2022-08-31 15:02:00+00:00   \n",
       "14      2022-08-31 12:22:23+00:00   \n",
       "16      2022-08-31 11:17:41+00:00   \n",
       "...                           ...   \n",
       "892019  2022-06-01 02:40:54+00:00   \n",
       "892020  2022-06-01 02:35:57+00:00   \n",
       "892021  2022-06-01 02:25:48+00:00   \n",
       "892022  2022-06-01 01:41:36+00:00   \n",
       "892023  2022-06-01 00:52:36+00:00   \n",
       "\n",
       "                                                  Content  \\\n",
       "8       #BBNaija me just waiting for Daniella to break...   \n",
       "11      Exhausted 🥱 no sleep since yesterday, I needs ...   \n",
       "12      ICYMI: Lil' Miss #TeamNoSleep finally gets a f...   \n",
       "14      I think I’m super-delirious. I do believe I ne...   \n",
       "16      Budget Kraber is a must have in my load out 😘\\...   \n",
       "...                                                   ...   \n",
       "892019  2010s revisionist westerns AKA the world's mos...   \n",
       "892020  Ight I took my sleep aid medicine I’ll be KO I...   \n",
       "892021  @SpiroAgnewGhost What’s her next segment “Why ...   \n",
       "892022  Having trouble sleeping? \\n\\nRogue Shop sleep ...   \n",
       "892023  @azaehanla I suggest trying an over the counte...   \n",
       "\n",
       "                      User's location        userid  \n",
       "8       Pimville Soweto, South Africa  4.472969e+08  \n",
       "11                   Philadelphia, PA  2.432277e+09  \n",
       "12       Myrtle Beach, South Carolina  8.699900e+08  \n",
       "14                    California, USA  1.801410e+07  \n",
       "16                            Olympus  1.218736e+18  \n",
       "...                               ...           ...  \n",
       "892019                    Chicago, IL  6.332248e+08  \n",
       "892020                    Atlanta, GA  4.524712e+08  \n",
       "892021    Hopping Time Zones in my G6  1.427527e+18  \n",
       "892022                Chapel Hill, NC  2.686267e+08  \n",
       "892023       British Columbia, Canada  7.882513e+08  \n",
       "\n",
       "[538192 rows x 4 columns]"
      ]
     },
     "execution_count": 2,
     "metadata": {},
     "output_type": "execute_result"
    }
   ],
   "source": [
    "df=pd.read_csv('data/all_keywords.csv')\n",
    "df=df[['Date', 'Content', \"User's location\", 'userid']]\n",
    "df=df.dropna()\n",
    "df"
   ]
  },
  {
   "cell_type": "markdown",
   "metadata": {},
   "source": [
    "map the user's location to concise location <br>\n",
    "We separate to 3 parts"
   ]
  },
  {
   "cell_type": "code",
   "execution_count": 4,
   "metadata": {},
   "outputs": [],
   "source": [
    "geolocator = Nominatim(user_agent = \"my_request\")\n",
    "for i in range(len(df)):\n",
    "    try:\n",
    "        location = geolocator.geocode(df[\"User's location\"][i])\n",
    "        map.append(location.address)\n",
    "    except: \n",
    "        continue\n",
    "map = pd.DataFrame(map)"
   ]
  },
  {
   "cell_type": "markdown",
   "metadata": {},
   "source": [
    "This mapping needs extremely long time to run. <br>\n",
    "The second part crashed accidentally. <br>\n",
    "We got the result of the first part and tried to visualize it in the world scale <br>\n",
    "But we found that the US part has too many tweets <br>\n",
    "So we decided to visualize the map only in US area. <br>\n",
    "Therefore, we apply the brutal search for the second part to find the US locations."
   ]
  },
  {
   "cell_type": "code",
   "execution_count": 3,
   "metadata": {},
   "outputs": [],
   "source": [
    "#US, state complete name to state abbrev. Dictionary\n",
    "us_state_to_abbrev = {\n",
    "    \"Alabama\": \"AL\",\n",
    "    \"Alaska\": \"AK\",\n",
    "    \"Arizona\": \"AZ\",\n",
    "    \"Arkansas\": \"AR\",\n",
    "    \"California\": \"CA\",\n",
    "    \"Colorado\": \"CO\",\n",
    "    \"Connecticut\": \"CT\",\n",
    "    \"Delaware\": \"DE\",\n",
    "    \"Florida\": \"FL\",\n",
    "    \"Georgia\": \"GA\",\n",
    "    \"Hawaii\": \"HI\",\n",
    "    \"Idaho\": \"ID\",\n",
    "    \"Illinois\": \"IL\",\n",
    "    \"Indiana\": \"IN\",\n",
    "    \"Iowa\": \"IA\",\n",
    "    \"Kansas\": \"KS\",\n",
    "    \"Kentucky\": \"KY\",\n",
    "    \"Louisiana\": \"LA\",\n",
    "    \"Maine\": \"ME\",\n",
    "    \"Maryland\": \"MD\",\n",
    "    \"Massachusetts\": \"MA\",\n",
    "    \"Michigan\": \"MI\",\n",
    "    \"Minnesota\": \"MN\",\n",
    "    \"Mississippi\": \"MS\",\n",
    "    \"Missouri\": \"MO\",\n",
    "    \"Montana\": \"MT\",\n",
    "    \"Nebraska\": \"NE\",\n",
    "    \"Nevada\": \"NV\",\n",
    "    \"N.Nevada\": \"NV\",\n",
    "    \"New Hampshire\": \"NH\",\n",
    "    \"New Jersey\": \"NJ\",\n",
    "    \"New Mexico\": \"NM\",\n",
    "    \"New York\": \"NY\",\n",
    "    \"North Carolina\": \"NC\",\n",
    "    \"North Dakota\": \"ND\",\n",
    "    \"Ohio\": \"OH\",\n",
    "    \"Oklahoma\": \"OK\",\n",
    "    \"Oregon\": \"OR\",\n",
    "    \"Pennsylvania\": \"PA\",\n",
    "    \"Rhode Island\": \"RI\",\n",
    "    \"South Carolina\": \"SC\",\n",
    "    \"South Dakota\": \"SD\",\n",
    "    \"Tennessee\": \"TN\",\n",
    "    \"Texas\": \"TX\",\n",
    "    \"Utah\": \"UT\",\n",
    "    \"Vermont\": \"VT\",\n",
    "    \"Virginia\": \"VA\",\n",
    "    \"Washington\": \"WA\",\n",
    "    \"West Virginia\": \"WV\",\n",
    "    \"Wisconsin\": \"WI\",\n",
    "    \"Wyoming\": \"WY\",\n",
    "    \"District of Columbia\": \"DC\",\n",
    "    \"American Samoa\": \"AS\",\n",
    "    \"Guam\": \"GU\",\n",
    "    \"Northern Mariana Islands\": \"MP\",\n",
    "    \"Puerto Rico\": \"PR\",\n",
    "    \"United States Minor Outlying Islands\": \"UM\",\n",
    "    \"U.S. Virgin Islands\": \"VI\",\n",
    "    \"United States Virgin Islands\":  \"VI\",\n",
    "    'British Columbia': \"BC\"\n",
    "}"
   ]
  },
  {
   "cell_type": "code",
   "execution_count": 4,
   "metadata": {},
   "outputs": [],
   "source": [
    "#US, state complete name to state abbrev. List\n",
    "us_state = [\n",
    "    \"Alabama\", \"AL\",\n",
    "    \"Alaska\", \"AK\",\n",
    "    \"Arizona\",\"AZ\",\n",
    "    \"Arkansas\", \"AR\",\n",
    "    \"California\", \"CA\",\n",
    "    \"Colorado\", \"CO\",\n",
    "    \"Connecticut\", \"CT\",\n",
    "    \"Delaware\", \"DE\",\n",
    "    \"Florida\", \"FL\",\n",
    "    \"Georgia\", \"GA\",\n",
    "    \"Hawaii\", \"HI\",\n",
    "    \"Idaho\", \"ID\",\n",
    "    \"Illinois\", \"IL\",\n",
    "    \"Indiana\", \"IN\",\n",
    "    \"Iowa\", \"IA\",\n",
    "    \"Kansas\", \"KS\",\n",
    "    \"Kentucky\", \"KY\",\n",
    "    \"Louisiana\", \"LA\",\n",
    "    \"Maine\", \"ME\",\n",
    "    \"Maryland\", \"MD\",\n",
    "    \"Massachusetts\", \"MA\",\n",
    "    \"Michigan\", \"MI\",\n",
    "    \"Minnesota\", \"MN\",\n",
    "    \"Mississippi\", \"MS\",\n",
    "    \"Missouri\", \"MO\",\n",
    "    \"Montana\", \"MT\",\n",
    "    \"Nebraska\", \"NE\",\n",
    "    \"Nevada\", \"NV\",\n",
    "    'N.Nevada',\n",
    "    \"New Hampshire\", \"NH\",\n",
    "    \"New Jersey\", \"NJ\",\n",
    "    \"New Mexico\", \"NM\",\n",
    "    \"New York\", \"NY\",\n",
    "    \"North Carolina\", \"NC\",\n",
    "    \"North Dakota\", \"ND\",\n",
    "    \"Ohio\", \"OH\",\n",
    "    \"Oklahoma\", \"OK\",\n",
    "    \"Oregon\", \"OR\",\n",
    "    \"Pennsylvania\", \"PA\",\n",
    "    \"Rhode Island\", \"RI\",\n",
    "    \"South Carolina\", \"SC\",\n",
    "    \"South Dakota\", \"SD\",\n",
    "    \"Tennessee\", \"TN\",\n",
    "    \"Texas\", \"TX\",\n",
    "    \"Utah\", \"UT\",\n",
    "    \"Vermont\", \"VT\",\n",
    "    \"Virginia\", \"VA\",\n",
    "    \"Washington\", \"WA\",\n",
    "    \"West Virginia\", \"WV\",\n",
    "    \"Wisconsin\", \"WI\",\n",
    "    \"Wyoming\", \"WY\",\n",
    "    \"District of Columbia\", \"DC\",\n",
    "    \"American Samoa\", \"AS\",\n",
    "    \"Guam\", \"GU\",\n",
    "    \"Northern Mariana Islands\", \"MP\",\n",
    "    \"Puerto Rico\", \"PR\",\n",
    "    \"United States Minor Outlying Islands\", \"UM\",\n",
    "    \"U.S. Virgin Islands\", \"VI\",\n",
    "    'United States Virgin Islands',\n",
    "    'British Columbia', \"BC\"\n",
    "]"
   ]
  },
  {
   "cell_type": "code",
   "execution_count": 5,
   "metadata": {},
   "outputs": [],
   "source": [
    "def uson(s):\n",
    "    if ('US' in s) or ('USA' in s) or ('United States' in s):\n",
    "        return s\n",
    "    else:\n",
    "        for x in s:\n",
    "            if x in us_state:\n",
    "                return s\n",
    "                break\n",
    "        return 'not_US'"
   ]
  },
  {
   "cell_type": "code",
   "execution_count": 6,
   "metadata": {},
   "outputs": [
    {
     "data": {
      "text/html": [
       "<div>\n",
       "<style scoped>\n",
       "    .dataframe tbody tr th:only-of-type {\n",
       "        vertical-align: middle;\n",
       "    }\n",
       "\n",
       "    .dataframe tbody tr th {\n",
       "        vertical-align: top;\n",
       "    }\n",
       "\n",
       "    .dataframe thead th {\n",
       "        text-align: right;\n",
       "    }\n",
       "</style>\n",
       "<table border=\"1\" class=\"dataframe\">\n",
       "  <thead>\n",
       "    <tr style=\"text-align: right;\">\n",
       "      <th></th>\n",
       "      <th>Date</th>\n",
       "      <th>Content</th>\n",
       "      <th>User's location</th>\n",
       "      <th>userid</th>\n",
       "      <th>loc_l</th>\n",
       "      <th>judge</th>\n",
       "    </tr>\n",
       "  </thead>\n",
       "  <tbody>\n",
       "    <tr>\n",
       "      <th>262929</th>\n",
       "      <td>2022-07-11 18:12:21+00:00</td>\n",
       "      <td>i drink coffee too late and now i can’t sleep</td>\n",
       "      <td>Nevada, USA</td>\n",
       "      <td>9.161833e+17</td>\n",
       "      <td>[Nevada,  USA]</td>\n",
       "      <td>[Nevada,  USA]</td>\n",
       "    </tr>\n",
       "    <tr>\n",
       "      <th>262960</th>\n",
       "      <td>2022-07-11 18:04:50+00:00</td>\n",
       "      <td>@Ondoism I can't sleep at 67 unfortunately.  I...</td>\n",
       "      <td>Montana, US</td>\n",
       "      <td>7.865693e+08</td>\n",
       "      <td>[Montana,  US]</td>\n",
       "      <td>[Montana,  US]</td>\n",
       "    </tr>\n",
       "    <tr>\n",
       "      <th>263025</th>\n",
       "      <td>2022-07-11 17:52:50+00:00</td>\n",
       "      <td>Poor Kevin I so understand this tho, I have to...</td>\n",
       "      <td>New York, USA</td>\n",
       "      <td>2.163728e+09</td>\n",
       "      <td>[New York,  USA]</td>\n",
       "      <td>[New York,  USA]</td>\n",
       "    </tr>\n",
       "    <tr>\n",
       "      <th>263034</th>\n",
       "      <td>2022-07-11 17:49:15+00:00</td>\n",
       "      <td>@snowanaya1 @RAGGEDYROYAL Yes!! The worst. Lik...</td>\n",
       "      <td>United States</td>\n",
       "      <td>2.669940e+08</td>\n",
       "      <td>[United States]</td>\n",
       "      <td>[United States]</td>\n",
       "    </tr>\n",
       "    <tr>\n",
       "      <th>263093</th>\n",
       "      <td>2022-07-11 17:34:46+00:00</td>\n",
       "      <td>idk what time zone my body is in anymore 😭 i'v...</td>\n",
       "      <td>Florida, USA</td>\n",
       "      <td>1.165915e+08</td>\n",
       "      <td>[Florida,  USA]</td>\n",
       "      <td>[Florida,  USA]</td>\n",
       "    </tr>\n",
       "    <tr>\n",
       "      <th>...</th>\n",
       "      <td>...</td>\n",
       "      <td>...</td>\n",
       "      <td>...</td>\n",
       "      <td>...</td>\n",
       "      <td>...</td>\n",
       "      <td>...</td>\n",
       "    </tr>\n",
       "    <tr>\n",
       "      <th>521666</th>\n",
       "      <td>2022-08-04 15:06:49+00:00</td>\n",
       "      <td>That peach Red Bull is good asf but don’t keep...</td>\n",
       "      <td>California, USA</td>\n",
       "      <td>1.321507e+09</td>\n",
       "      <td>[California,  USA]</td>\n",
       "      <td>[California,  USA]</td>\n",
       "    </tr>\n",
       "    <tr>\n",
       "      <th>521676</th>\n",
       "      <td>2022-08-04 15:00:33+00:00</td>\n",
       "      <td>I can't imagine telling someone else what they...</td>\n",
       "      <td>Maine, USA</td>\n",
       "      <td>1.418103e+18</td>\n",
       "      <td>[Maine,  USA]</td>\n",
       "      <td>[Maine,  USA]</td>\n",
       "    </tr>\n",
       "    <tr>\n",
       "      <th>521691</th>\n",
       "      <td>2022-08-04 14:49:41+00:00</td>\n",
       "      <td>@DevGruGamer All good brother! If i had Insomn...</td>\n",
       "      <td>Utah</td>\n",
       "      <td>1.347804e+18</td>\n",
       "      <td>[Utah]</td>\n",
       "      <td>[Utah]</td>\n",
       "    </tr>\n",
       "    <tr>\n",
       "      <th>521693</th>\n",
       "      <td>2022-08-04 14:47:35+00:00</td>\n",
       "      <td>I hate it when I do insomnia Wordle and then d...</td>\n",
       "      <td>Maryland</td>\n",
       "      <td>4.557160e+08</td>\n",
       "      <td>[Maryland]</td>\n",
       "      <td>[Maryland]</td>\n",
       "    </tr>\n",
       "    <tr>\n",
       "      <th>521696</th>\n",
       "      <td>2022-08-04 14:45:43+00:00</td>\n",
       "      <td>Sensi Star is an Aghani, indica-dominant strai...</td>\n",
       "      <td>British Columbia, Canada</td>\n",
       "      <td>1.138901e+18</td>\n",
       "      <td>[British Columbia,  Canada]</td>\n",
       "      <td>[British Columbia,  Canada]</td>\n",
       "    </tr>\n",
       "  </tbody>\n",
       "</table>\n",
       "<p>13429 rows × 6 columns</p>\n",
       "</div>"
      ],
      "text/plain": [
       "                             Date  \\\n",
       "262929  2022-07-11 18:12:21+00:00   \n",
       "262960  2022-07-11 18:04:50+00:00   \n",
       "263025  2022-07-11 17:52:50+00:00   \n",
       "263034  2022-07-11 17:49:15+00:00   \n",
       "263093  2022-07-11 17:34:46+00:00   \n",
       "...                           ...   \n",
       "521666  2022-08-04 15:06:49+00:00   \n",
       "521676  2022-08-04 15:00:33+00:00   \n",
       "521691  2022-08-04 14:49:41+00:00   \n",
       "521693  2022-08-04 14:47:35+00:00   \n",
       "521696  2022-08-04 14:45:43+00:00   \n",
       "\n",
       "                                                  Content  \\\n",
       "262929      i drink coffee too late and now i can’t sleep   \n",
       "262960  @Ondoism I can't sleep at 67 unfortunately.  I...   \n",
       "263025  Poor Kevin I so understand this tho, I have to...   \n",
       "263034  @snowanaya1 @RAGGEDYROYAL Yes!! The worst. Lik...   \n",
       "263093  idk what time zone my body is in anymore 😭 i'v...   \n",
       "...                                                   ...   \n",
       "521666  That peach Red Bull is good asf but don’t keep...   \n",
       "521676  I can't imagine telling someone else what they...   \n",
       "521691  @DevGruGamer All good brother! If i had Insomn...   \n",
       "521693  I hate it when I do insomnia Wordle and then d...   \n",
       "521696  Sensi Star is an Aghani, indica-dominant strai...   \n",
       "\n",
       "                 User's location        userid                        loc_l  \\\n",
       "262929               Nevada, USA  9.161833e+17               [Nevada,  USA]   \n",
       "262960               Montana, US  7.865693e+08               [Montana,  US]   \n",
       "263025             New York, USA  2.163728e+09             [New York,  USA]   \n",
       "263034             United States  2.669940e+08              [United States]   \n",
       "263093              Florida, USA  1.165915e+08              [Florida,  USA]   \n",
       "...                          ...           ...                          ...   \n",
       "521666           California, USA  1.321507e+09           [California,  USA]   \n",
       "521676                Maine, USA  1.418103e+18                [Maine,  USA]   \n",
       "521691                      Utah  1.347804e+18                       [Utah]   \n",
       "521693                  Maryland  4.557160e+08                   [Maryland]   \n",
       "521696  British Columbia, Canada  1.138901e+18  [British Columbia,  Canada]   \n",
       "\n",
       "                              judge  \n",
       "262929               [Nevada,  USA]  \n",
       "262960               [Montana,  US]  \n",
       "263025             [New York,  USA]  \n",
       "263034              [United States]  \n",
       "263093              [Florida,  USA]  \n",
       "...                             ...  \n",
       "521666           [California,  USA]  \n",
       "521676                [Maine,  USA]  \n",
       "521691                       [Utah]  \n",
       "521693                   [Maryland]  \n",
       "521696  [British Columbia,  Canada]  \n",
       "\n",
       "[13429 rows x 6 columns]"
      ]
     },
     "execution_count": 6,
     "metadata": {},
     "output_type": "execute_result"
    }
   ],
   "source": [
    "df_t=df.iloc[180000:360000,:]\n",
    "df_t['loc_l']=df_t[\"User's location\"].apply(lambda x: x.split(','))\n",
    "df_t['judge']=df_t['loc_l'].apply(lambda x: uson(x))\n",
    "df_t=df_t.loc[df_t['judge']!='not_US']\n",
    "df_t"
   ]
  },
  {
   "cell_type": "code",
   "execution_count": 7,
   "metadata": {},
   "outputs": [],
   "source": [
    "def extract_us_state(x):\n",
    "    if 'United Kingdom' in x:\n",
    "        return 'not US'\n",
    "    else:\n",
    "        l=x.split(',')\n",
    "        if len(l)<=1:\n",
    "            if ('US' in l) or ('USA' in l) or ('United States' in l):\n",
    "                return \"USA\"\n",
    "            elif l[0] in us_state:\n",
    "                if l[0] in us_state_to_abbrev.keys():\n",
    "                    return us_state_to_abbrev[l[0]]\n",
    "                else:\n",
    "                    return l[0]\n",
    "            else:\n",
    "                return 'not_us'\n",
    "        else:\n",
    "            s1=l[-1].strip()\n",
    "            if ('US' in s1) or ('USA' in s1) or ('United States' in s1):\n",
    "                s2=l[-2].strip()\n",
    "                if s2 in us_state:\n",
    "                    if s2 in us_state_to_abbrev.keys():\n",
    "                        return us_state_to_abbrev[s2]\n",
    "                    else:\n",
    "                        return s2\n",
    "                elif bool(re.search('[0-9]+',s2))==True:\n",
    "                    if len(l)>2:\n",
    "                        for a in l[:-2]:\n",
    "                            a=a.strip()\n",
    "                            if a in us_state:\n",
    "                                if a in us_state_to_abbrev.keys():\n",
    "                                    return us_state_to_abbrev[a]\n",
    "                                    break\n",
    "                                else:\n",
    "                                    continue\n",
    "                        return \"zip\"+s2+\" nfs\"\n",
    "                elif s2=='New England':\n",
    "                    return \"\"+s2+' nfs'\n",
    "                else:\n",
    "                    return 'US'\n",
    "            else:\n",
    "                return 'not_us'"
   ]
  },
  {
   "cell_type": "code",
   "execution_count": 8,
   "metadata": {},
   "outputs": [
    {
     "data": {
      "text/html": [
       "<div>\n",
       "<style scoped>\n",
       "    .dataframe tbody tr th:only-of-type {\n",
       "        vertical-align: middle;\n",
       "    }\n",
       "\n",
       "    .dataframe tbody tr th {\n",
       "        vertical-align: top;\n",
       "    }\n",
       "\n",
       "    .dataframe thead th {\n",
       "        text-align: right;\n",
       "    }\n",
       "</style>\n",
       "<table border=\"1\" class=\"dataframe\">\n",
       "  <thead>\n",
       "    <tr style=\"text-align: right;\">\n",
       "      <th></th>\n",
       "      <th>loca_us</th>\n",
       "      <th>state</th>\n",
       "    </tr>\n",
       "  </thead>\n",
       "  <tbody>\n",
       "    <tr>\n",
       "      <th>1</th>\n",
       "      <td>Philadelphia, Philadelphia County, Pennsylvani...</td>\n",
       "      <td>PA</td>\n",
       "    </tr>\n",
       "    <tr>\n",
       "      <th>2</th>\n",
       "      <td>Myrtle Beach, Horry County, South Carolina, 29...</td>\n",
       "      <td>SC</td>\n",
       "    </tr>\n",
       "    <tr>\n",
       "      <th>3</th>\n",
       "      <td>California, United States</td>\n",
       "      <td>CA</td>\n",
       "    </tr>\n",
       "    <tr>\n",
       "      <th>6</th>\n",
       "      <td>Myrtle Beach, Horry County, South Carolina, 29...</td>\n",
       "      <td>SC</td>\n",
       "    </tr>\n",
       "    <tr>\n",
       "      <th>7</th>\n",
       "      <td>Tampa, Hillsborough County, Florida, United St...</td>\n",
       "      <td>FL</td>\n",
       "    </tr>\n",
       "    <tr>\n",
       "      <th>...</th>\n",
       "      <td>...</td>\n",
       "      <td>...</td>\n",
       "    </tr>\n",
       "    <tr>\n",
       "      <th>64709</th>\n",
       "      <td>17, Alviso, San Jose, Santa Clara County, Cali...</td>\n",
       "      <td>CA</td>\n",
       "    </tr>\n",
       "    <tr>\n",
       "      <th>64724</th>\n",
       "      <td>Money Ruins Everything, 713, South Los Angeles...</td>\n",
       "      <td>CA</td>\n",
       "    </tr>\n",
       "    <tr>\n",
       "      <th>64727</th>\n",
       "      <td>Catland, 987, Flushing Avenue, Brooklyn, Kings...</td>\n",
       "      <td>NY</td>\n",
       "    </tr>\n",
       "    <tr>\n",
       "      <th>64738</th>\n",
       "      <td>California, United States</td>\n",
       "      <td>CA</td>\n",
       "    </tr>\n",
       "    <tr>\n",
       "      <th>64749</th>\n",
       "      <td>City of New York, New York, United States</td>\n",
       "      <td>NY</td>\n",
       "    </tr>\n",
       "  </tbody>\n",
       "</table>\n",
       "<p>31051 rows × 2 columns</p>\n",
       "</div>"
      ],
      "text/plain": [
       "                                                 loca_us state\n",
       "1      Philadelphia, Philadelphia County, Pennsylvani...    PA\n",
       "2      Myrtle Beach, Horry County, South Carolina, 29...    SC\n",
       "3                              California, United States    CA\n",
       "6      Myrtle Beach, Horry County, South Carolina, 29...    SC\n",
       "7      Tampa, Hillsborough County, Florida, United St...    FL\n",
       "...                                                  ...   ...\n",
       "64709  17, Alviso, San Jose, Santa Clara County, Cali...    CA\n",
       "64724  Money Ruins Everything, 713, South Los Angeles...    CA\n",
       "64727  Catland, 987, Flushing Avenue, Brooklyn, Kings...    NY\n",
       "64738                          California, United States    CA\n",
       "64749          City of New York, New York, United States    NY\n",
       "\n",
       "[31051 rows x 2 columns]"
      ]
     },
     "execution_count": 8,
     "metadata": {},
     "output_type": "execute_result"
    }
   ],
   "source": [
    "df_1_18=pd.read_csv('data/map_location_p1.csv')\n",
    "df_1_18=df_1_18[['0']]\n",
    "df_1_18=df_1_18.rename(columns={\"0\":'loc_all'})\n",
    "df_1_18['loca_us']=df_1_18['loc_all'].apply(lambda x: uson(x))\n",
    "df_1_18_us=df_1_18.loc[df_1_18['loca_us']!='not_US']\n",
    "df_1_18_us=df_1_18_us[['loca_us']]\n",
    "df_1_18_us['state']=df_1_18_us['loca_us'].apply(lambda x: extract_us_state(x))\n",
    "df_1_18_us"
   ]
  },
  {
   "cell_type": "code",
   "execution_count": 9,
   "metadata": {},
   "outputs": [],
   "source": [
    "def find_q(x):\n",
    "    if \"nfs\" in x:\n",
    "        return x\n",
    "    else:\n",
    "        return 'no'"
   ]
  },
  {
   "cell_type": "code",
   "execution_count": 10,
   "metadata": {},
   "outputs": [
    {
     "data": {
      "text/html": [
       "<div>\n",
       "<style scoped>\n",
       "    .dataframe tbody tr th:only-of-type {\n",
       "        vertical-align: middle;\n",
       "    }\n",
       "\n",
       "    .dataframe tbody tr th {\n",
       "        vertical-align: top;\n",
       "    }\n",
       "\n",
       "    .dataframe thead th {\n",
       "        text-align: right;\n",
       "    }\n",
       "</style>\n",
       "<table border=\"1\" class=\"dataframe\">\n",
       "  <thead>\n",
       "    <tr style=\"text-align: right;\">\n",
       "      <th></th>\n",
       "      <th>loca_us</th>\n",
       "      <th>state</th>\n",
       "      <th>State_Q</th>\n",
       "    </tr>\n",
       "  </thead>\n",
       "  <tbody>\n",
       "    <tr>\n",
       "      <th>1719</th>\n",
       "      <td>New England, United States</td>\n",
       "      <td>New England nfs</td>\n",
       "      <td>New England nfs</td>\n",
       "    </tr>\n",
       "    <tr>\n",
       "      <th>2134</th>\n",
       "      <td>New England, United States</td>\n",
       "      <td>New England nfs</td>\n",
       "      <td>New England nfs</td>\n",
       "    </tr>\n",
       "    <tr>\n",
       "      <th>2348</th>\n",
       "      <td>New England, United States</td>\n",
       "      <td>New England nfs</td>\n",
       "      <td>New England nfs</td>\n",
       "    </tr>\n",
       "    <tr>\n",
       "      <th>2694</th>\n",
       "      <td>Wabash River, 46750, United States</td>\n",
       "      <td>zip46750 nfs</td>\n",
       "      <td>zip46750 nfs</td>\n",
       "    </tr>\n",
       "    <tr>\n",
       "      <th>2701</th>\n",
       "      <td>New England, United States</td>\n",
       "      <td>New England nfs</td>\n",
       "      <td>New England nfs</td>\n",
       "    </tr>\n",
       "    <tr>\n",
       "      <th>2812</th>\n",
       "      <td>New England, United States</td>\n",
       "      <td>New England nfs</td>\n",
       "      <td>New England nfs</td>\n",
       "    </tr>\n",
       "    <tr>\n",
       "      <th>2981</th>\n",
       "      <td>New England, United States</td>\n",
       "      <td>New England nfs</td>\n",
       "      <td>New England nfs</td>\n",
       "    </tr>\n",
       "    <tr>\n",
       "      <th>3279</th>\n",
       "      <td>New England, United States</td>\n",
       "      <td>New England nfs</td>\n",
       "      <td>New England nfs</td>\n",
       "    </tr>\n",
       "    <tr>\n",
       "      <th>3486</th>\n",
       "      <td>New England, United States</td>\n",
       "      <td>New England nfs</td>\n",
       "      <td>New England nfs</td>\n",
       "    </tr>\n",
       "    <tr>\n",
       "      <th>3652</th>\n",
       "      <td>New England, United States</td>\n",
       "      <td>New England nfs</td>\n",
       "      <td>New England nfs</td>\n",
       "    </tr>\n",
       "    <tr>\n",
       "      <th>3839</th>\n",
       "      <td>New England, United States</td>\n",
       "      <td>New England nfs</td>\n",
       "      <td>New England nfs</td>\n",
       "    </tr>\n",
       "    <tr>\n",
       "      <th>4143</th>\n",
       "      <td>Wabash River, 46750, United States</td>\n",
       "      <td>zip46750 nfs</td>\n",
       "      <td>zip46750 nfs</td>\n",
       "    </tr>\n",
       "    <tr>\n",
       "      <th>4165</th>\n",
       "      <td>Wabash River, 46750, United States</td>\n",
       "      <td>zip46750 nfs</td>\n",
       "      <td>zip46750 nfs</td>\n",
       "    </tr>\n",
       "    <tr>\n",
       "      <th>4600</th>\n",
       "      <td>New England, United States</td>\n",
       "      <td>New England nfs</td>\n",
       "      <td>New England nfs</td>\n",
       "    </tr>\n",
       "    <tr>\n",
       "      <th>4686</th>\n",
       "      <td>New England, United States</td>\n",
       "      <td>New England nfs</td>\n",
       "      <td>New England nfs</td>\n",
       "    </tr>\n",
       "    <tr>\n",
       "      <th>5132</th>\n",
       "      <td>New England, United States</td>\n",
       "      <td>New England nfs</td>\n",
       "      <td>New England nfs</td>\n",
       "    </tr>\n",
       "    <tr>\n",
       "      <th>5209</th>\n",
       "      <td>New England, United States</td>\n",
       "      <td>New England nfs</td>\n",
       "      <td>New England nfs</td>\n",
       "    </tr>\n",
       "    <tr>\n",
       "      <th>10842</th>\n",
       "      <td>New England, United States</td>\n",
       "      <td>New England nfs</td>\n",
       "      <td>New England nfs</td>\n",
       "    </tr>\n",
       "    <tr>\n",
       "      <th>10853</th>\n",
       "      <td>New England, United States</td>\n",
       "      <td>New England nfs</td>\n",
       "      <td>New England nfs</td>\n",
       "    </tr>\n",
       "    <tr>\n",
       "      <th>11620</th>\n",
       "      <td>New England, United States</td>\n",
       "      <td>New England nfs</td>\n",
       "      <td>New England nfs</td>\n",
       "    </tr>\n",
       "    <tr>\n",
       "      <th>11743</th>\n",
       "      <td>New England, United States</td>\n",
       "      <td>New England nfs</td>\n",
       "      <td>New England nfs</td>\n",
       "    </tr>\n",
       "    <tr>\n",
       "      <th>17572</th>\n",
       "      <td>New England, United States</td>\n",
       "      <td>New England nfs</td>\n",
       "      <td>New England nfs</td>\n",
       "    </tr>\n",
       "    <tr>\n",
       "      <th>19143</th>\n",
       "      <td>New England, United States</td>\n",
       "      <td>New England nfs</td>\n",
       "      <td>New England nfs</td>\n",
       "    </tr>\n",
       "    <tr>\n",
       "      <th>21790</th>\n",
       "      <td>New England, United States</td>\n",
       "      <td>New England nfs</td>\n",
       "      <td>New England nfs</td>\n",
       "    </tr>\n",
       "    <tr>\n",
       "      <th>37465</th>\n",
       "      <td>New England, United States</td>\n",
       "      <td>New England nfs</td>\n",
       "      <td>New England nfs</td>\n",
       "    </tr>\n",
       "    <tr>\n",
       "      <th>39310</th>\n",
       "      <td>New England, United States</td>\n",
       "      <td>New England nfs</td>\n",
       "      <td>New England nfs</td>\n",
       "    </tr>\n",
       "    <tr>\n",
       "      <th>45346</th>\n",
       "      <td>New England, United States</td>\n",
       "      <td>New England nfs</td>\n",
       "      <td>New England nfs</td>\n",
       "    </tr>\n",
       "    <tr>\n",
       "      <th>51399</th>\n",
       "      <td>New England, United States</td>\n",
       "      <td>New England nfs</td>\n",
       "      <td>New England nfs</td>\n",
       "    </tr>\n",
       "    <tr>\n",
       "      <th>52913</th>\n",
       "      <td>New England, United States</td>\n",
       "      <td>New England nfs</td>\n",
       "      <td>New England nfs</td>\n",
       "    </tr>\n",
       "    <tr>\n",
       "      <th>53076</th>\n",
       "      <td>New England, United States</td>\n",
       "      <td>New England nfs</td>\n",
       "      <td>New England nfs</td>\n",
       "    </tr>\n",
       "    <tr>\n",
       "      <th>53199</th>\n",
       "      <td>New England, United States</td>\n",
       "      <td>New England nfs</td>\n",
       "      <td>New England nfs</td>\n",
       "    </tr>\n",
       "    <tr>\n",
       "      <th>59221</th>\n",
       "      <td>New England, United States</td>\n",
       "      <td>New England nfs</td>\n",
       "      <td>New England nfs</td>\n",
       "    </tr>\n",
       "    <tr>\n",
       "      <th>59638</th>\n",
       "      <td>New England, United States</td>\n",
       "      <td>New England nfs</td>\n",
       "      <td>New England nfs</td>\n",
       "    </tr>\n",
       "  </tbody>\n",
       "</table>\n",
       "</div>"
      ],
      "text/plain": [
       "                                  loca_us            state          State_Q\n",
       "1719           New England, United States  New England nfs  New England nfs\n",
       "2134           New England, United States  New England nfs  New England nfs\n",
       "2348           New England, United States  New England nfs  New England nfs\n",
       "2694   Wabash River, 46750, United States     zip46750 nfs     zip46750 nfs\n",
       "2701           New England, United States  New England nfs  New England nfs\n",
       "2812           New England, United States  New England nfs  New England nfs\n",
       "2981           New England, United States  New England nfs  New England nfs\n",
       "3279           New England, United States  New England nfs  New England nfs\n",
       "3486           New England, United States  New England nfs  New England nfs\n",
       "3652           New England, United States  New England nfs  New England nfs\n",
       "3839           New England, United States  New England nfs  New England nfs\n",
       "4143   Wabash River, 46750, United States     zip46750 nfs     zip46750 nfs\n",
       "4165   Wabash River, 46750, United States     zip46750 nfs     zip46750 nfs\n",
       "4600           New England, United States  New England nfs  New England nfs\n",
       "4686           New England, United States  New England nfs  New England nfs\n",
       "5132           New England, United States  New England nfs  New England nfs\n",
       "5209           New England, United States  New England nfs  New England nfs\n",
       "10842          New England, United States  New England nfs  New England nfs\n",
       "10853          New England, United States  New England nfs  New England nfs\n",
       "11620          New England, United States  New England nfs  New England nfs\n",
       "11743          New England, United States  New England nfs  New England nfs\n",
       "17572          New England, United States  New England nfs  New England nfs\n",
       "19143          New England, United States  New England nfs  New England nfs\n",
       "21790          New England, United States  New England nfs  New England nfs\n",
       "37465          New England, United States  New England nfs  New England nfs\n",
       "39310          New England, United States  New England nfs  New England nfs\n",
       "45346          New England, United States  New England nfs  New England nfs\n",
       "51399          New England, United States  New England nfs  New England nfs\n",
       "52913          New England, United States  New England nfs  New England nfs\n",
       "53076          New England, United States  New England nfs  New England nfs\n",
       "53199          New England, United States  New England nfs  New England nfs\n",
       "59221          New England, United States  New England nfs  New England nfs\n",
       "59638          New England, United States  New England nfs  New England nfs"
      ]
     },
     "execution_count": 10,
     "metadata": {},
     "output_type": "execute_result"
    }
   ],
   "source": [
    "df_1_18_us['State_Q']=df_1_18_us[\"state\"].apply(lambda x: find_q(x))\n",
    "df_1_18_us[df_1_18_us['State_Q']!='no']"
   ]
  },
  {
   "cell_type": "code",
   "execution_count": 11,
   "metadata": {},
   "outputs": [
    {
     "data": {
      "text/html": [
       "<div>\n",
       "<style scoped>\n",
       "    .dataframe tbody tr th:only-of-type {\n",
       "        vertical-align: middle;\n",
       "    }\n",
       "\n",
       "    .dataframe tbody tr th {\n",
       "        vertical-align: top;\n",
       "    }\n",
       "\n",
       "    .dataframe thead th {\n",
       "        text-align: right;\n",
       "    }\n",
       "</style>\n",
       "<table border=\"1\" class=\"dataframe\">\n",
       "  <thead>\n",
       "    <tr style=\"text-align: right;\">\n",
       "      <th></th>\n",
       "      <th>loca_us</th>\n",
       "      <th>state</th>\n",
       "      <th>State_Q</th>\n",
       "    </tr>\n",
       "  </thead>\n",
       "  <tbody>\n",
       "    <tr>\n",
       "      <th>1</th>\n",
       "      <td>Philadelphia, Philadelphia County, Pennsylvani...</td>\n",
       "      <td>PA</td>\n",
       "      <td>no</td>\n",
       "    </tr>\n",
       "    <tr>\n",
       "      <th>2</th>\n",
       "      <td>Myrtle Beach, Horry County, South Carolina, 29...</td>\n",
       "      <td>SC</td>\n",
       "      <td>no</td>\n",
       "    </tr>\n",
       "    <tr>\n",
       "      <th>3</th>\n",
       "      <td>California, United States</td>\n",
       "      <td>CA</td>\n",
       "      <td>no</td>\n",
       "    </tr>\n",
       "    <tr>\n",
       "      <th>6</th>\n",
       "      <td>Myrtle Beach, Horry County, South Carolina, 29...</td>\n",
       "      <td>SC</td>\n",
       "      <td>no</td>\n",
       "    </tr>\n",
       "    <tr>\n",
       "      <th>7</th>\n",
       "      <td>Tampa, Hillsborough County, Florida, United St...</td>\n",
       "      <td>FL</td>\n",
       "      <td>no</td>\n",
       "    </tr>\n",
       "    <tr>\n",
       "      <th>...</th>\n",
       "      <td>...</td>\n",
       "      <td>...</td>\n",
       "      <td>...</td>\n",
       "    </tr>\n",
       "    <tr>\n",
       "      <th>64709</th>\n",
       "      <td>17, Alviso, San Jose, Santa Clara County, Cali...</td>\n",
       "      <td>CA</td>\n",
       "      <td>no</td>\n",
       "    </tr>\n",
       "    <tr>\n",
       "      <th>64724</th>\n",
       "      <td>Money Ruins Everything, 713, South Los Angeles...</td>\n",
       "      <td>CA</td>\n",
       "      <td>no</td>\n",
       "    </tr>\n",
       "    <tr>\n",
       "      <th>64727</th>\n",
       "      <td>Catland, 987, Flushing Avenue, Brooklyn, Kings...</td>\n",
       "      <td>NY</td>\n",
       "      <td>no</td>\n",
       "    </tr>\n",
       "    <tr>\n",
       "      <th>64738</th>\n",
       "      <td>California, United States</td>\n",
       "      <td>CA</td>\n",
       "      <td>no</td>\n",
       "    </tr>\n",
       "    <tr>\n",
       "      <th>64749</th>\n",
       "      <td>City of New York, New York, United States</td>\n",
       "      <td>NY</td>\n",
       "      <td>no</td>\n",
       "    </tr>\n",
       "  </tbody>\n",
       "</table>\n",
       "<p>31018 rows × 3 columns</p>\n",
       "</div>"
      ],
      "text/plain": [
       "                                                 loca_us state State_Q\n",
       "1      Philadelphia, Philadelphia County, Pennsylvani...    PA      no\n",
       "2      Myrtle Beach, Horry County, South Carolina, 29...    SC      no\n",
       "3                              California, United States    CA      no\n",
       "6      Myrtle Beach, Horry County, South Carolina, 29...    SC      no\n",
       "7      Tampa, Hillsborough County, Florida, United St...    FL      no\n",
       "...                                                  ...   ...     ...\n",
       "64709  17, Alviso, San Jose, Santa Clara County, Cali...    CA      no\n",
       "64724  Money Ruins Everything, 713, South Los Angeles...    CA      no\n",
       "64727  Catland, 987, Flushing Avenue, Brooklyn, Kings...    NY      no\n",
       "64738                          California, United States    CA      no\n",
       "64749          City of New York, New York, United States    NY      no\n",
       "\n",
       "[31018 rows x 3 columns]"
      ]
     },
     "execution_count": 11,
     "metadata": {},
     "output_type": "execute_result"
    }
   ],
   "source": [
    "df_1_18_us=df_1_18_us[df_1_18_us['State_Q']=='no']\n",
    "df_1_18_us"
   ]
  },
  {
   "cell_type": "code",
   "execution_count": 12,
   "metadata": {},
   "outputs": [
    {
     "data": {
      "text/html": [
       "<div>\n",
       "<style scoped>\n",
       "    .dataframe tbody tr th:only-of-type {\n",
       "        vertical-align: middle;\n",
       "    }\n",
       "\n",
       "    .dataframe tbody tr th {\n",
       "        vertical-align: top;\n",
       "    }\n",
       "\n",
       "    .dataframe thead th {\n",
       "        text-align: right;\n",
       "    }\n",
       "</style>\n",
       "<table border=\"1\" class=\"dataframe\">\n",
       "  <thead>\n",
       "    <tr style=\"text-align: right;\">\n",
       "      <th></th>\n",
       "      <th>loca_us</th>\n",
       "      <th>state</th>\n",
       "    </tr>\n",
       "  </thead>\n",
       "  <tbody>\n",
       "    <tr>\n",
       "      <th>262929</th>\n",
       "      <td>Nevada, USA</td>\n",
       "      <td>NV</td>\n",
       "    </tr>\n",
       "    <tr>\n",
       "      <th>262960</th>\n",
       "      <td>Montana, US</td>\n",
       "      <td>MT</td>\n",
       "    </tr>\n",
       "    <tr>\n",
       "      <th>263025</th>\n",
       "      <td>New York, USA</td>\n",
       "      <td>NY</td>\n",
       "    </tr>\n",
       "    <tr>\n",
       "      <th>263034</th>\n",
       "      <td>United States</td>\n",
       "      <td>USA</td>\n",
       "    </tr>\n",
       "    <tr>\n",
       "      <th>263093</th>\n",
       "      <td>Florida, USA</td>\n",
       "      <td>FL</td>\n",
       "    </tr>\n",
       "    <tr>\n",
       "      <th>...</th>\n",
       "      <td>...</td>\n",
       "      <td>...</td>\n",
       "    </tr>\n",
       "    <tr>\n",
       "      <th>521666</th>\n",
       "      <td>California, USA</td>\n",
       "      <td>CA</td>\n",
       "    </tr>\n",
       "    <tr>\n",
       "      <th>521676</th>\n",
       "      <td>Maine, USA</td>\n",
       "      <td>ME</td>\n",
       "    </tr>\n",
       "    <tr>\n",
       "      <th>521691</th>\n",
       "      <td>Utah</td>\n",
       "      <td>UT</td>\n",
       "    </tr>\n",
       "    <tr>\n",
       "      <th>521693</th>\n",
       "      <td>Maryland</td>\n",
       "      <td>MD</td>\n",
       "    </tr>\n",
       "    <tr>\n",
       "      <th>521696</th>\n",
       "      <td>British Columbia, Canada</td>\n",
       "      <td>not_us</td>\n",
       "    </tr>\n",
       "  </tbody>\n",
       "</table>\n",
       "<p>13429 rows × 2 columns</p>\n",
       "</div>"
      ],
      "text/plain": [
       "                         loca_us   state\n",
       "262929               Nevada, USA      NV\n",
       "262960               Montana, US      MT\n",
       "263025             New York, USA      NY\n",
       "263034             United States     USA\n",
       "263093              Florida, USA      FL\n",
       "...                          ...     ...\n",
       "521666           California, USA      CA\n",
       "521676                Maine, USA      ME\n",
       "521691                      Utah      UT\n",
       "521693                  Maryland      MD\n",
       "521696  British Columbia, Canada  not_us\n",
       "\n",
       "[13429 rows x 2 columns]"
      ]
     },
     "execution_count": 12,
     "metadata": {},
     "output_type": "execute_result"
    }
   ],
   "source": [
    "df_18_36=df_t\n",
    "df_18_36_us=df_18_36[[\"User's location\"]]\n",
    "df_18_36_us=df_18_36_us.rename(columns={\"User's location\":'loca_us'})\n",
    "df_18_36_us['state']=df_18_36_us['loca_us'].apply(lambda x: extract_us_state(x))\n",
    "df_18_36_us"
   ]
  },
  {
   "cell_type": "code",
   "execution_count": 13,
   "metadata": {},
   "outputs": [
    {
     "data": {
      "text/html": [
       "<div>\n",
       "<style scoped>\n",
       "    .dataframe tbody tr th:only-of-type {\n",
       "        vertical-align: middle;\n",
       "    }\n",
       "\n",
       "    .dataframe tbody tr th {\n",
       "        vertical-align: top;\n",
       "    }\n",
       "\n",
       "    .dataframe thead th {\n",
       "        text-align: right;\n",
       "    }\n",
       "</style>\n",
       "<table border=\"1\" class=\"dataframe\">\n",
       "  <thead>\n",
       "    <tr style=\"text-align: right;\">\n",
       "      <th></th>\n",
       "      <th>loca_us</th>\n",
       "      <th>state</th>\n",
       "    </tr>\n",
       "  </thead>\n",
       "  <tbody>\n",
       "  </tbody>\n",
       "</table>\n",
       "</div>"
      ],
      "text/plain": [
       "Empty DataFrame\n",
       "Columns: [loca_us, state]\n",
       "Index: []"
      ]
     },
     "execution_count": 13,
     "metadata": {},
     "output_type": "execute_result"
    }
   ],
   "source": [
    "df_18_36_us[df_18_36_us['state'].isna()]"
   ]
  },
  {
   "cell_type": "code",
   "execution_count": 14,
   "metadata": {},
   "outputs": [
    {
     "data": {
      "text/html": [
       "<div>\n",
       "<style scoped>\n",
       "    .dataframe tbody tr th:only-of-type {\n",
       "        vertical-align: middle;\n",
       "    }\n",
       "\n",
       "    .dataframe tbody tr th {\n",
       "        vertical-align: top;\n",
       "    }\n",
       "\n",
       "    .dataframe thead th {\n",
       "        text-align: right;\n",
       "    }\n",
       "</style>\n",
       "<table border=\"1\" class=\"dataframe\">\n",
       "  <thead>\n",
       "    <tr style=\"text-align: right;\">\n",
       "      <th></th>\n",
       "      <th>loca_us</th>\n",
       "      <th>state</th>\n",
       "      <th>State_Q</th>\n",
       "    </tr>\n",
       "  </thead>\n",
       "  <tbody>\n",
       "  </tbody>\n",
       "</table>\n",
       "</div>"
      ],
      "text/plain": [
       "Empty DataFrame\n",
       "Columns: [loca_us, state, State_Q]\n",
       "Index: []"
      ]
     },
     "execution_count": 14,
     "metadata": {},
     "output_type": "execute_result"
    }
   ],
   "source": [
    "df_18_36_us['State_Q']=df_18_36_us['state'].apply(lambda x: find_q(x))\n",
    "df_18_36_us[df_18_36_us['State_Q']!='no']"
   ]
  },
  {
   "cell_type": "code",
   "execution_count": 15,
   "metadata": {},
   "outputs": [
    {
     "data": {
      "text/html": [
       "<div>\n",
       "<style scoped>\n",
       "    .dataframe tbody tr th:only-of-type {\n",
       "        vertical-align: middle;\n",
       "    }\n",
       "\n",
       "    .dataframe tbody tr th {\n",
       "        vertical-align: top;\n",
       "    }\n",
       "\n",
       "    .dataframe thead th {\n",
       "        text-align: right;\n",
       "    }\n",
       "</style>\n",
       "<table border=\"1\" class=\"dataframe\">\n",
       "  <thead>\n",
       "    <tr style=\"text-align: right;\">\n",
       "      <th></th>\n",
       "      <th>loca_us</th>\n",
       "      <th>state</th>\n",
       "    </tr>\n",
       "  </thead>\n",
       "  <tbody>\n",
       "    <tr>\n",
       "      <th>2</th>\n",
       "      <td>Sunbeam, Jacksonville, Duval County, Florida, ...</td>\n",
       "      <td>FL</td>\n",
       "    </tr>\n",
       "    <tr>\n",
       "      <th>5</th>\n",
       "      <td>Wellesley, Norfolk County, Massachusetts, Unit...</td>\n",
       "      <td>MA</td>\n",
       "    </tr>\n",
       "    <tr>\n",
       "      <th>14</th>\n",
       "      <td>Grand Rapids, Kent County, Michigan, United St...</td>\n",
       "      <td>MI</td>\n",
       "    </tr>\n",
       "    <tr>\n",
       "      <th>16</th>\n",
       "      <td>Virginia, United States</td>\n",
       "      <td>VA</td>\n",
       "    </tr>\n",
       "    <tr>\n",
       "      <th>17</th>\n",
       "      <td>Devils Den, Town of Greenfield, Saratoga Count...</td>\n",
       "      <td>NY</td>\n",
       "    </tr>\n",
       "    <tr>\n",
       "      <th>...</th>\n",
       "      <td>...</td>\n",
       "      <td>...</td>\n",
       "    </tr>\n",
       "    <tr>\n",
       "      <th>121391</th>\n",
       "      <td>Texas, United States</td>\n",
       "      <td>TX</td>\n",
       "    </tr>\n",
       "    <tr>\n",
       "      <th>121392</th>\n",
       "      <td>Madison, Dane County, Wisconsin, United States</td>\n",
       "      <td>WI</td>\n",
       "    </tr>\n",
       "    <tr>\n",
       "      <th>121394</th>\n",
       "      <td>Chicago, Cook County, Illinois, United States</td>\n",
       "      <td>IL</td>\n",
       "    </tr>\n",
       "    <tr>\n",
       "      <th>121395</th>\n",
       "      <td>Atlanta, Fulton County, Georgia, 30303, United...</td>\n",
       "      <td>GA</td>\n",
       "    </tr>\n",
       "    <tr>\n",
       "      <th>121396</th>\n",
       "      <td>Chapel Hill, Orange County, North Carolina, Un...</td>\n",
       "      <td>NC</td>\n",
       "    </tr>\n",
       "  </tbody>\n",
       "</table>\n",
       "<p>63463 rows × 2 columns</p>\n",
       "</div>"
      ],
      "text/plain": [
       "                                                  loca_us state\n",
       "2       Sunbeam, Jacksonville, Duval County, Florida, ...    FL\n",
       "5       Wellesley, Norfolk County, Massachusetts, Unit...    MA\n",
       "14      Grand Rapids, Kent County, Michigan, United St...    MI\n",
       "16                                Virginia, United States    VA\n",
       "17      Devils Den, Town of Greenfield, Saratoga Count...    NY\n",
       "...                                                   ...   ...\n",
       "121391                               Texas, United States    TX\n",
       "121392     Madison, Dane County, Wisconsin, United States    WI\n",
       "121394      Chicago, Cook County, Illinois, United States    IL\n",
       "121395  Atlanta, Fulton County, Georgia, 30303, United...    GA\n",
       "121396  Chapel Hill, Orange County, North Carolina, Un...    NC\n",
       "\n",
       "[63463 rows x 2 columns]"
      ]
     },
     "execution_count": 15,
     "metadata": {},
     "output_type": "execute_result"
    }
   ],
   "source": [
    "df_36_54=pd.read_csv('data/map_location_p3.csv')\n",
    "df_36_54['loca_us']=df_36_54['location'].apply(lambda x: uson(x))\n",
    "df_36_54_us=df_36_54.loc[df_36_54['loca_us']!='not_US']\n",
    "df_36_54_us=df_36_54_us[['loca_us']]\n",
    "df_36_54_us['state']=df_36_54_us['loca_us'].apply(lambda x: extract_us_state(x))\n",
    "df_36_54_us"
   ]
  },
  {
   "cell_type": "code",
   "execution_count": 16,
   "metadata": {},
   "outputs": [
    {
     "data": {
      "text/html": [
       "<div>\n",
       "<style scoped>\n",
       "    .dataframe tbody tr th:only-of-type {\n",
       "        vertical-align: middle;\n",
       "    }\n",
       "\n",
       "    .dataframe tbody tr th {\n",
       "        vertical-align: top;\n",
       "    }\n",
       "\n",
       "    .dataframe thead th {\n",
       "        text-align: right;\n",
       "    }\n",
       "</style>\n",
       "<table border=\"1\" class=\"dataframe\">\n",
       "  <thead>\n",
       "    <tr style=\"text-align: right;\">\n",
       "      <th></th>\n",
       "      <th>loca_us</th>\n",
       "      <th>state</th>\n",
       "      <th>State_Q</th>\n",
       "    </tr>\n",
       "  </thead>\n",
       "  <tbody>\n",
       "    <tr>\n",
       "      <th>1386</th>\n",
       "      <td>New England, United States</td>\n",
       "      <td>New England nfs</td>\n",
       "      <td>New England nfs</td>\n",
       "    </tr>\n",
       "    <tr>\n",
       "      <th>3302</th>\n",
       "      <td>New England, United States</td>\n",
       "      <td>New England nfs</td>\n",
       "      <td>New England nfs</td>\n",
       "    </tr>\n",
       "    <tr>\n",
       "      <th>4956</th>\n",
       "      <td>New England, United States</td>\n",
       "      <td>New England nfs</td>\n",
       "      <td>New England nfs</td>\n",
       "    </tr>\n",
       "    <tr>\n",
       "      <th>5129</th>\n",
       "      <td>New England, United States</td>\n",
       "      <td>New England nfs</td>\n",
       "      <td>New England nfs</td>\n",
       "    </tr>\n",
       "    <tr>\n",
       "      <th>8517</th>\n",
       "      <td>New England, United States</td>\n",
       "      <td>New England nfs</td>\n",
       "      <td>New England nfs</td>\n",
       "    </tr>\n",
       "    <tr>\n",
       "      <th>...</th>\n",
       "      <td>...</td>\n",
       "      <td>...</td>\n",
       "      <td>...</td>\n",
       "    </tr>\n",
       "    <tr>\n",
       "      <th>117900</th>\n",
       "      <td>New England, United States</td>\n",
       "      <td>New England nfs</td>\n",
       "      <td>New England nfs</td>\n",
       "    </tr>\n",
       "    <tr>\n",
       "      <th>119865</th>\n",
       "      <td>New England, United States</td>\n",
       "      <td>New England nfs</td>\n",
       "      <td>New England nfs</td>\n",
       "    </tr>\n",
       "    <tr>\n",
       "      <th>120354</th>\n",
       "      <td>New England, United States</td>\n",
       "      <td>New England nfs</td>\n",
       "      <td>New England nfs</td>\n",
       "    </tr>\n",
       "    <tr>\n",
       "      <th>120623</th>\n",
       "      <td>New England, United States</td>\n",
       "      <td>New England nfs</td>\n",
       "      <td>New England nfs</td>\n",
       "    </tr>\n",
       "    <tr>\n",
       "      <th>120986</th>\n",
       "      <td>New England, United States</td>\n",
       "      <td>New England nfs</td>\n",
       "      <td>New England nfs</td>\n",
       "    </tr>\n",
       "  </tbody>\n",
       "</table>\n",
       "<p>71 rows × 3 columns</p>\n",
       "</div>"
      ],
      "text/plain": [
       "                           loca_us            state          State_Q\n",
       "1386    New England, United States  New England nfs  New England nfs\n",
       "3302    New England, United States  New England nfs  New England nfs\n",
       "4956    New England, United States  New England nfs  New England nfs\n",
       "5129    New England, United States  New England nfs  New England nfs\n",
       "8517    New England, United States  New England nfs  New England nfs\n",
       "...                            ...              ...              ...\n",
       "117900  New England, United States  New England nfs  New England nfs\n",
       "119865  New England, United States  New England nfs  New England nfs\n",
       "120354  New England, United States  New England nfs  New England nfs\n",
       "120623  New England, United States  New England nfs  New England nfs\n",
       "120986  New England, United States  New England nfs  New England nfs\n",
       "\n",
       "[71 rows x 3 columns]"
      ]
     },
     "execution_count": 16,
     "metadata": {},
     "output_type": "execute_result"
    }
   ],
   "source": [
    "df_36_54_us['State_Q']=df_36_54_us['state'].apply(lambda x: find_q(x))\n",
    "df_36_54_us[df_36_54_us['State_Q']!='no']"
   ]
  },
  {
   "cell_type": "code",
   "execution_count": 17,
   "metadata": {},
   "outputs": [
    {
     "data": {
      "text/html": [
       "<div>\n",
       "<style scoped>\n",
       "    .dataframe tbody tr th:only-of-type {\n",
       "        vertical-align: middle;\n",
       "    }\n",
       "\n",
       "    .dataframe tbody tr th {\n",
       "        vertical-align: top;\n",
       "    }\n",
       "\n",
       "    .dataframe thead th {\n",
       "        text-align: right;\n",
       "    }\n",
       "</style>\n",
       "<table border=\"1\" class=\"dataframe\">\n",
       "  <thead>\n",
       "    <tr style=\"text-align: right;\">\n",
       "      <th></th>\n",
       "      <th>loca_us</th>\n",
       "      <th>state</th>\n",
       "      <th>State_Q</th>\n",
       "    </tr>\n",
       "  </thead>\n",
       "  <tbody>\n",
       "    <tr>\n",
       "      <th>2</th>\n",
       "      <td>Sunbeam, Jacksonville, Duval County, Florida, ...</td>\n",
       "      <td>FL</td>\n",
       "      <td>no</td>\n",
       "    </tr>\n",
       "    <tr>\n",
       "      <th>5</th>\n",
       "      <td>Wellesley, Norfolk County, Massachusetts, Unit...</td>\n",
       "      <td>MA</td>\n",
       "      <td>no</td>\n",
       "    </tr>\n",
       "    <tr>\n",
       "      <th>14</th>\n",
       "      <td>Grand Rapids, Kent County, Michigan, United St...</td>\n",
       "      <td>MI</td>\n",
       "      <td>no</td>\n",
       "    </tr>\n",
       "    <tr>\n",
       "      <th>16</th>\n",
       "      <td>Virginia, United States</td>\n",
       "      <td>VA</td>\n",
       "      <td>no</td>\n",
       "    </tr>\n",
       "    <tr>\n",
       "      <th>17</th>\n",
       "      <td>Devils Den, Town of Greenfield, Saratoga Count...</td>\n",
       "      <td>NY</td>\n",
       "      <td>no</td>\n",
       "    </tr>\n",
       "    <tr>\n",
       "      <th>...</th>\n",
       "      <td>...</td>\n",
       "      <td>...</td>\n",
       "      <td>...</td>\n",
       "    </tr>\n",
       "    <tr>\n",
       "      <th>121391</th>\n",
       "      <td>Texas, United States</td>\n",
       "      <td>TX</td>\n",
       "      <td>no</td>\n",
       "    </tr>\n",
       "    <tr>\n",
       "      <th>121392</th>\n",
       "      <td>Madison, Dane County, Wisconsin, United States</td>\n",
       "      <td>WI</td>\n",
       "      <td>no</td>\n",
       "    </tr>\n",
       "    <tr>\n",
       "      <th>121394</th>\n",
       "      <td>Chicago, Cook County, Illinois, United States</td>\n",
       "      <td>IL</td>\n",
       "      <td>no</td>\n",
       "    </tr>\n",
       "    <tr>\n",
       "      <th>121395</th>\n",
       "      <td>Atlanta, Fulton County, Georgia, 30303, United...</td>\n",
       "      <td>GA</td>\n",
       "      <td>no</td>\n",
       "    </tr>\n",
       "    <tr>\n",
       "      <th>121396</th>\n",
       "      <td>Chapel Hill, Orange County, North Carolina, Un...</td>\n",
       "      <td>NC</td>\n",
       "      <td>no</td>\n",
       "    </tr>\n",
       "  </tbody>\n",
       "</table>\n",
       "<p>63392 rows × 3 columns</p>\n",
       "</div>"
      ],
      "text/plain": [
       "                                                  loca_us state State_Q\n",
       "2       Sunbeam, Jacksonville, Duval County, Florida, ...    FL      no\n",
       "5       Wellesley, Norfolk County, Massachusetts, Unit...    MA      no\n",
       "14      Grand Rapids, Kent County, Michigan, United St...    MI      no\n",
       "16                                Virginia, United States    VA      no\n",
       "17      Devils Den, Town of Greenfield, Saratoga Count...    NY      no\n",
       "...                                                   ...   ...     ...\n",
       "121391                               Texas, United States    TX      no\n",
       "121392     Madison, Dane County, Wisconsin, United States    WI      no\n",
       "121394      Chicago, Cook County, Illinois, United States    IL      no\n",
       "121395  Atlanta, Fulton County, Georgia, 30303, United...    GA      no\n",
       "121396  Chapel Hill, Orange County, North Carolina, Un...    NC      no\n",
       "\n",
       "[63392 rows x 3 columns]"
      ]
     },
     "execution_count": 17,
     "metadata": {},
     "output_type": "execute_result"
    }
   ],
   "source": [
    "df_36_54_us=df_36_54_us[df_36_54_us['State_Q']=='no']\n",
    "df_36_54_us"
   ]
  },
  {
   "cell_type": "code",
   "execution_count": 18,
   "metadata": {},
   "outputs": [],
   "source": [
    "df_1_54=pd.concat([df_1_18_us,df_18_36_us,df_36_54_us])\n",
    "df_1_54=df_1_54[df_1_54['State_Q']=='no']\n",
    "df_1_54=df_1_54[['state']]"
   ]
  },
  {
   "cell_type": "code",
   "execution_count": 19,
   "metadata": {},
   "outputs": [],
   "source": [
    "df_1_54.to_csv('crawled_us_state.csv')"
   ]
  },
  {
   "cell_type": "markdown",
   "metadata": {},
   "source": [
    "#### Draw the map with plotly"
   ]
  },
  {
   "cell_type": "code",
   "execution_count": 20,
   "metadata": {},
   "outputs": [
    {
     "data": {
      "text/plain": [
       "{'AL': 5024.28,\n",
       " 'AK': 733.39,\n",
       " 'AZ': 7151.5,\n",
       " 'AR': 3011.52,\n",
       " 'CA': 39538.22,\n",
       " 'CO': 5773.71,\n",
       " 'CT': 3605.94,\n",
       " 'DE': 989.95,\n",
       " 'DC': 689.54,\n",
       " 'FL': 21538.19,\n",
       " 'GA': 10711.91,\n",
       " 'HI': 1455.27,\n",
       " 'ID': 1839.11,\n",
       " 'IL': 12812.51,\n",
       " 'IN': 6785.53,\n",
       " 'IA': 3190.37,\n",
       " 'KS': 2937.88,\n",
       " 'KY': 4505.84,\n",
       " 'LA': 4657.76,\n",
       " 'ME': 1362.36,\n",
       " 'MD': 6177.22,\n",
       " 'MA': 7029.92,\n",
       " 'MI': 10077.33,\n",
       " 'MN': 5706.49,\n",
       " 'MS': 2961.28,\n",
       " 'MO': 6154.91,\n",
       " 'MT': 1084.22,\n",
       " 'NE': 1961.5,\n",
       " 'NV': 3104.61,\n",
       " 'NH': 1377.53,\n",
       " 'NJ': 9288.99,\n",
       " 'NM': 2117.52,\n",
       " 'NY': 20201.25,\n",
       " 'NC': 10439.39,\n",
       " 'ND': 779.09,\n",
       " 'OH': 11799.45,\n",
       " 'OK': 3959.35,\n",
       " 'OR': 4237.26,\n",
       " 'PA': 13002.7,\n",
       " 'RI': 1097.38,\n",
       " 'SC': 5118.42,\n",
       " 'SD': 886.67,\n",
       " 'TN': 6910.84,\n",
       " 'TX': 29145.5,\n",
       " 'UT': 3271.62,\n",
       " 'VT': 643.08,\n",
       " 'VA': 8631.39,\n",
       " 'WA': 7705.28,\n",
       " 'WV': 1793.72,\n",
       " 'WI': 5893.72,\n",
       " 'WY': 576.85,\n",
       " 'PR': 3285.87}"
      ]
     },
     "execution_count": 20,
     "metadata": {},
     "output_type": "execute_result"
    }
   ],
   "source": [
    "state_pop=pd.read_csv('data/state_population.csv')\n",
    "state_pop=state_pop[['NAME','ESTIMATESBASE2020']]\n",
    "state_pop\n",
    "# state_pop=state_pop.to_dict('split')\n",
    "# state_pop['data']\n",
    "s_pop_d={}\n",
    "state_pop.iloc[0,1]\n",
    "for i in range(len(state_pop)):\n",
    "    try:\n",
    "        state_pop.iloc[i,0]=us_state_to_abbrev[state_pop.iloc[i,0]]\n",
    "    except:\n",
    "        continue\n",
    "state_pop=pd.DataFrame(state_pop.iloc[5:,:])\n",
    "#divided by 1000, make the number not too large\n",
    "state_pop['POP']=round(state_pop['ESTIMATESBASE2020']/1000,2)\n",
    "state_pop\n",
    "for i in range(len(state_pop)):\n",
    "    s_pop_d[state_pop.iloc[i,0]]=state_pop.iloc[i,2]\n",
    "s_pop_d"
   ]
  },
  {
   "cell_type": "code",
   "execution_count": 21,
   "metadata": {},
   "outputs": [],
   "source": [
    "def convert_c_p(x):\n",
    "    try:\n",
    "        a=float(s_pop_d[x])\n",
    "    except:\n",
    "        a='??'\n",
    "    return a"
   ]
  },
  {
   "cell_type": "code",
   "execution_count": 22,
   "metadata": {},
   "outputs": [
    {
     "data": {
      "text/html": [
       "<div>\n",
       "<style scoped>\n",
       "    .dataframe tbody tr th:only-of-type {\n",
       "        vertical-align: middle;\n",
       "    }\n",
       "\n",
       "    .dataframe tbody tr th {\n",
       "        vertical-align: top;\n",
       "    }\n",
       "\n",
       "    .dataframe thead th {\n",
       "        text-align: right;\n",
       "    }\n",
       "</style>\n",
       "<table border=\"1\" class=\"dataframe\">\n",
       "  <thead>\n",
       "    <tr style=\"text-align: right;\">\n",
       "      <th></th>\n",
       "      <th>state</th>\n",
       "      <th>count</th>\n",
       "      <th>state_pop</th>\n",
       "      <th>count/pop(K)</th>\n",
       "    </tr>\n",
       "  </thead>\n",
       "  <tbody>\n",
       "    <tr>\n",
       "      <th>0</th>\n",
       "      <td>AK</td>\n",
       "      <td>237</td>\n",
       "      <td>733.39</td>\n",
       "      <td>0.32</td>\n",
       "    </tr>\n",
       "    <tr>\n",
       "      <th>1</th>\n",
       "      <td>AL</td>\n",
       "      <td>1168</td>\n",
       "      <td>5024.28</td>\n",
       "      <td>0.23</td>\n",
       "    </tr>\n",
       "    <tr>\n",
       "      <th>2</th>\n",
       "      <td>AR</td>\n",
       "      <td>499</td>\n",
       "      <td>3011.52</td>\n",
       "      <td>0.17</td>\n",
       "    </tr>\n",
       "    <tr>\n",
       "      <th>4</th>\n",
       "      <td>AZ</td>\n",
       "      <td>1895</td>\n",
       "      <td>7151.5</td>\n",
       "      <td>0.26</td>\n",
       "    </tr>\n",
       "    <tr>\n",
       "      <th>6</th>\n",
       "      <td>CA</td>\n",
       "      <td>13117</td>\n",
       "      <td>39538.22</td>\n",
       "      <td>0.33</td>\n",
       "    </tr>\n",
       "    <tr>\n",
       "      <th>7</th>\n",
       "      <td>CO</td>\n",
       "      <td>1559</td>\n",
       "      <td>5773.71</td>\n",
       "      <td>0.27</td>\n",
       "    </tr>\n",
       "    <tr>\n",
       "      <th>8</th>\n",
       "      <td>CT</td>\n",
       "      <td>1013</td>\n",
       "      <td>3605.94</td>\n",
       "      <td>0.28</td>\n",
       "    </tr>\n",
       "    <tr>\n",
       "      <th>9</th>\n",
       "      <td>DC</td>\n",
       "      <td>1253</td>\n",
       "      <td>689.54</td>\n",
       "      <td>1.82</td>\n",
       "    </tr>\n",
       "    <tr>\n",
       "      <th>10</th>\n",
       "      <td>DE</td>\n",
       "      <td>211</td>\n",
       "      <td>989.95</td>\n",
       "      <td>0.21</td>\n",
       "    </tr>\n",
       "    <tr>\n",
       "      <th>11</th>\n",
       "      <td>FL</td>\n",
       "      <td>6191</td>\n",
       "      <td>21538.19</td>\n",
       "      <td>0.29</td>\n",
       "    </tr>\n",
       "    <tr>\n",
       "      <th>12</th>\n",
       "      <td>GA</td>\n",
       "      <td>3892</td>\n",
       "      <td>10711.91</td>\n",
       "      <td>0.36</td>\n",
       "    </tr>\n",
       "    <tr>\n",
       "      <th>14</th>\n",
       "      <td>HI</td>\n",
       "      <td>381</td>\n",
       "      <td>1455.27</td>\n",
       "      <td>0.26</td>\n",
       "    </tr>\n",
       "    <tr>\n",
       "      <th>15</th>\n",
       "      <td>IA</td>\n",
       "      <td>560</td>\n",
       "      <td>3190.37</td>\n",
       "      <td>0.18</td>\n",
       "    </tr>\n",
       "    <tr>\n",
       "      <th>16</th>\n",
       "      <td>ID</td>\n",
       "      <td>324</td>\n",
       "      <td>1839.11</td>\n",
       "      <td>0.18</td>\n",
       "    </tr>\n",
       "    <tr>\n",
       "      <th>17</th>\n",
       "      <td>IL</td>\n",
       "      <td>3549</td>\n",
       "      <td>12812.51</td>\n",
       "      <td>0.28</td>\n",
       "    </tr>\n",
       "    <tr>\n",
       "      <th>18</th>\n",
       "      <td>IN</td>\n",
       "      <td>1382</td>\n",
       "      <td>6785.53</td>\n",
       "      <td>0.20</td>\n",
       "    </tr>\n",
       "    <tr>\n",
       "      <th>19</th>\n",
       "      <td>KS</td>\n",
       "      <td>876</td>\n",
       "      <td>2937.88</td>\n",
       "      <td>0.30</td>\n",
       "    </tr>\n",
       "    <tr>\n",
       "      <th>20</th>\n",
       "      <td>KY</td>\n",
       "      <td>841</td>\n",
       "      <td>4505.84</td>\n",
       "      <td>0.19</td>\n",
       "    </tr>\n",
       "    <tr>\n",
       "      <th>21</th>\n",
       "      <td>LA</td>\n",
       "      <td>1641</td>\n",
       "      <td>4657.76</td>\n",
       "      <td>0.35</td>\n",
       "    </tr>\n",
       "    <tr>\n",
       "      <th>22</th>\n",
       "      <td>MA</td>\n",
       "      <td>1852</td>\n",
       "      <td>7029.92</td>\n",
       "      <td>0.26</td>\n",
       "    </tr>\n",
       "    <tr>\n",
       "      <th>23</th>\n",
       "      <td>MD</td>\n",
       "      <td>2007</td>\n",
       "      <td>6177.22</td>\n",
       "      <td>0.32</td>\n",
       "    </tr>\n",
       "    <tr>\n",
       "      <th>24</th>\n",
       "      <td>ME</td>\n",
       "      <td>459</td>\n",
       "      <td>1362.36</td>\n",
       "      <td>0.34</td>\n",
       "    </tr>\n",
       "    <tr>\n",
       "      <th>25</th>\n",
       "      <td>MI</td>\n",
       "      <td>3194</td>\n",
       "      <td>10077.33</td>\n",
       "      <td>0.32</td>\n",
       "    </tr>\n",
       "    <tr>\n",
       "      <th>26</th>\n",
       "      <td>MN</td>\n",
       "      <td>1430</td>\n",
       "      <td>5706.49</td>\n",
       "      <td>0.25</td>\n",
       "    </tr>\n",
       "    <tr>\n",
       "      <th>27</th>\n",
       "      <td>MO</td>\n",
       "      <td>1356</td>\n",
       "      <td>6154.91</td>\n",
       "      <td>0.22</td>\n",
       "    </tr>\n",
       "    <tr>\n",
       "      <th>29</th>\n",
       "      <td>MS</td>\n",
       "      <td>483</td>\n",
       "      <td>2961.28</td>\n",
       "      <td>0.16</td>\n",
       "    </tr>\n",
       "    <tr>\n",
       "      <th>30</th>\n",
       "      <td>MT</td>\n",
       "      <td>243</td>\n",
       "      <td>1084.22</td>\n",
       "      <td>0.22</td>\n",
       "    </tr>\n",
       "    <tr>\n",
       "      <th>31</th>\n",
       "      <td>NC</td>\n",
       "      <td>2700</td>\n",
       "      <td>10439.39</td>\n",
       "      <td>0.26</td>\n",
       "    </tr>\n",
       "    <tr>\n",
       "      <th>32</th>\n",
       "      <td>ND</td>\n",
       "      <td>119</td>\n",
       "      <td>779.09</td>\n",
       "      <td>0.15</td>\n",
       "    </tr>\n",
       "    <tr>\n",
       "      <th>33</th>\n",
       "      <td>NE</td>\n",
       "      <td>401</td>\n",
       "      <td>1961.5</td>\n",
       "      <td>0.20</td>\n",
       "    </tr>\n",
       "    <tr>\n",
       "      <th>34</th>\n",
       "      <td>NH</td>\n",
       "      <td>302</td>\n",
       "      <td>1377.53</td>\n",
       "      <td>0.22</td>\n",
       "    </tr>\n",
       "    <tr>\n",
       "      <th>35</th>\n",
       "      <td>NJ</td>\n",
       "      <td>2060</td>\n",
       "      <td>9288.99</td>\n",
       "      <td>0.22</td>\n",
       "    </tr>\n",
       "    <tr>\n",
       "      <th>36</th>\n",
       "      <td>NM</td>\n",
       "      <td>548</td>\n",
       "      <td>2117.52</td>\n",
       "      <td>0.26</td>\n",
       "    </tr>\n",
       "    <tr>\n",
       "      <th>37</th>\n",
       "      <td>NV</td>\n",
       "      <td>1297</td>\n",
       "      <td>3104.61</td>\n",
       "      <td>0.42</td>\n",
       "    </tr>\n",
       "    <tr>\n",
       "      <th>38</th>\n",
       "      <td>NY</td>\n",
       "      <td>8166</td>\n",
       "      <td>20201.25</td>\n",
       "      <td>0.40</td>\n",
       "    </tr>\n",
       "    <tr>\n",
       "      <th>39</th>\n",
       "      <td>OH</td>\n",
       "      <td>3322</td>\n",
       "      <td>11799.45</td>\n",
       "      <td>0.28</td>\n",
       "    </tr>\n",
       "    <tr>\n",
       "      <th>40</th>\n",
       "      <td>OK</td>\n",
       "      <td>859</td>\n",
       "      <td>3959.35</td>\n",
       "      <td>0.22</td>\n",
       "    </tr>\n",
       "    <tr>\n",
       "      <th>41</th>\n",
       "      <td>OR</td>\n",
       "      <td>1448</td>\n",
       "      <td>4237.26</td>\n",
       "      <td>0.34</td>\n",
       "    </tr>\n",
       "    <tr>\n",
       "      <th>42</th>\n",
       "      <td>PA</td>\n",
       "      <td>3530</td>\n",
       "      <td>13002.7</td>\n",
       "      <td>0.27</td>\n",
       "    </tr>\n",
       "    <tr>\n",
       "      <th>43</th>\n",
       "      <td>PR</td>\n",
       "      <td>215</td>\n",
       "      <td>3285.87</td>\n",
       "      <td>0.07</td>\n",
       "    </tr>\n",
       "    <tr>\n",
       "      <th>44</th>\n",
       "      <td>RI</td>\n",
       "      <td>279</td>\n",
       "      <td>1097.38</td>\n",
       "      <td>0.25</td>\n",
       "    </tr>\n",
       "    <tr>\n",
       "      <th>45</th>\n",
       "      <td>SC</td>\n",
       "      <td>1099</td>\n",
       "      <td>5118.42</td>\n",
       "      <td>0.21</td>\n",
       "    </tr>\n",
       "    <tr>\n",
       "      <th>46</th>\n",
       "      <td>SD</td>\n",
       "      <td>125</td>\n",
       "      <td>886.67</td>\n",
       "      <td>0.14</td>\n",
       "    </tr>\n",
       "    <tr>\n",
       "      <th>47</th>\n",
       "      <td>TN</td>\n",
       "      <td>1646</td>\n",
       "      <td>6910.84</td>\n",
       "      <td>0.24</td>\n",
       "    </tr>\n",
       "    <tr>\n",
       "      <th>48</th>\n",
       "      <td>TX</td>\n",
       "      <td>10953</td>\n",
       "      <td>29145.5</td>\n",
       "      <td>0.38</td>\n",
       "    </tr>\n",
       "    <tr>\n",
       "      <th>52</th>\n",
       "      <td>UT</td>\n",
       "      <td>827</td>\n",
       "      <td>3271.62</td>\n",
       "      <td>0.25</td>\n",
       "    </tr>\n",
       "    <tr>\n",
       "      <th>53</th>\n",
       "      <td>VA</td>\n",
       "      <td>1869</td>\n",
       "      <td>8631.39</td>\n",
       "      <td>0.22</td>\n",
       "    </tr>\n",
       "    <tr>\n",
       "      <th>55</th>\n",
       "      <td>VT</td>\n",
       "      <td>186</td>\n",
       "      <td>643.08</td>\n",
       "      <td>0.29</td>\n",
       "    </tr>\n",
       "    <tr>\n",
       "      <th>56</th>\n",
       "      <td>WA</td>\n",
       "      <td>3540</td>\n",
       "      <td>7705.28</td>\n",
       "      <td>0.46</td>\n",
       "    </tr>\n",
       "    <tr>\n",
       "      <th>57</th>\n",
       "      <td>WI</td>\n",
       "      <td>1109</td>\n",
       "      <td>5893.72</td>\n",
       "      <td>0.19</td>\n",
       "    </tr>\n",
       "    <tr>\n",
       "      <th>58</th>\n",
       "      <td>WV</td>\n",
       "      <td>464</td>\n",
       "      <td>1793.72</td>\n",
       "      <td>0.26</td>\n",
       "    </tr>\n",
       "    <tr>\n",
       "      <th>59</th>\n",
       "      <td>WY</td>\n",
       "      <td>233</td>\n",
       "      <td>576.85</td>\n",
       "      <td>0.40</td>\n",
       "    </tr>\n",
       "  </tbody>\n",
       "</table>\n",
       "</div>"
      ],
      "text/plain": [
       "   state  count state_pop  count/pop(K)\n",
       "0     AK    237    733.39          0.32\n",
       "1     AL   1168   5024.28          0.23\n",
       "2     AR    499   3011.52          0.17\n",
       "4     AZ   1895    7151.5          0.26\n",
       "6     CA  13117  39538.22          0.33\n",
       "7     CO   1559   5773.71          0.27\n",
       "8     CT   1013   3605.94          0.28\n",
       "9     DC   1253    689.54          1.82\n",
       "10    DE    211    989.95          0.21\n",
       "11    FL   6191  21538.19          0.29\n",
       "12    GA   3892  10711.91          0.36\n",
       "14    HI    381   1455.27          0.26\n",
       "15    IA    560   3190.37          0.18\n",
       "16    ID    324   1839.11          0.18\n",
       "17    IL   3549  12812.51          0.28\n",
       "18    IN   1382   6785.53          0.20\n",
       "19    KS    876   2937.88          0.30\n",
       "20    KY    841   4505.84          0.19\n",
       "21    LA   1641   4657.76          0.35\n",
       "22    MA   1852   7029.92          0.26\n",
       "23    MD   2007   6177.22          0.32\n",
       "24    ME    459   1362.36          0.34\n",
       "25    MI   3194  10077.33          0.32\n",
       "26    MN   1430   5706.49          0.25\n",
       "27    MO   1356   6154.91          0.22\n",
       "29    MS    483   2961.28          0.16\n",
       "30    MT    243   1084.22          0.22\n",
       "31    NC   2700  10439.39          0.26\n",
       "32    ND    119    779.09          0.15\n",
       "33    NE    401    1961.5          0.20\n",
       "34    NH    302   1377.53          0.22\n",
       "35    NJ   2060   9288.99          0.22\n",
       "36    NM    548   2117.52          0.26\n",
       "37    NV   1297   3104.61          0.42\n",
       "38    NY   8166  20201.25          0.40\n",
       "39    OH   3322  11799.45          0.28\n",
       "40    OK    859   3959.35          0.22\n",
       "41    OR   1448   4237.26          0.34\n",
       "42    PA   3530   13002.7          0.27\n",
       "43    PR    215   3285.87          0.07\n",
       "44    RI    279   1097.38          0.25\n",
       "45    SC   1099   5118.42          0.21\n",
       "46    SD    125    886.67          0.14\n",
       "47    TN   1646   6910.84          0.24\n",
       "48    TX  10953   29145.5          0.38\n",
       "52    UT    827   3271.62          0.25\n",
       "53    VA   1869   8631.39          0.22\n",
       "55    VT    186    643.08          0.29\n",
       "56    WA   3540   7705.28          0.46\n",
       "57    WI   1109   5893.72          0.19\n",
       "58    WV    464   1793.72          0.26\n",
       "59    WY    233    576.85          0.40"
      ]
     },
     "execution_count": 22,
     "metadata": {},
     "output_type": "execute_result"
    }
   ],
   "source": [
    "map = pd.read_csv('data/crawled_us_state.csv')\n",
    "map = map[['state']]\n",
    "map['count']=1\n",
    "map=map.groupby(['state']).sum()\n",
    "map=map.reset_index()\n",
    "map['state_pop']=map['state'].apply(lambda x: convert_c_p(x))\n",
    "map=map[map['state_pop']!='??']\n",
    "map['count/pop(K)']=0\n",
    "for i in range(len(map)):\n",
    "    map.iloc[i,3]=round(float(map.iloc[i,1])/float(map.iloc[i,2]),2)\n",
    "map"
   ]
  },
  {
   "cell_type": "markdown",
   "metadata": {},
   "source": [
    "#### Map code"
   ]
  },
  {
   "cell_type": "markdown",
   "metadata": {},
   "source": [
    "We take log of the count/pop(K) to make the scale more smooth<br>\n",
    "Also, we set the mid point of the continuous scale to be more close to the most saturated blue to make the area more distinguishable. "
   ]
  },
  {
   "cell_type": "code",
   "execution_count": 27,
   "metadata": {},
   "outputs": [
    {
     "data": {
      "application/vnd.plotly.v1+json": {
       "config": {
        "plotlyServerURL": "https://plot.ly"
       },
       "data": [
        {
         "coloraxis": "coloraxis",
         "customdata": [
          [
           "AK",
           0.32,
           237
          ],
          [
           "AL",
           0.23,
           1168
          ],
          [
           "AR",
           0.17,
           499
          ],
          [
           "AZ",
           0.26,
           1895
          ],
          [
           "CA",
           0.33,
           13117
          ],
          [
           "CO",
           0.27,
           1559
          ],
          [
           "CT",
           0.28,
           1013
          ],
          [
           "DC",
           1.82,
           1253
          ],
          [
           "DE",
           0.21,
           211
          ],
          [
           "FL",
           0.29,
           6191
          ],
          [
           "GA",
           0.36,
           3892
          ],
          [
           "HI",
           0.26,
           381
          ],
          [
           "IA",
           0.18,
           560
          ],
          [
           "ID",
           0.18,
           324
          ],
          [
           "IL",
           0.28,
           3549
          ],
          [
           "IN",
           0.2,
           1382
          ],
          [
           "KS",
           0.3,
           876
          ],
          [
           "KY",
           0.19,
           841
          ],
          [
           "LA",
           0.35,
           1641
          ],
          [
           "MA",
           0.26,
           1852
          ],
          [
           "MD",
           0.32,
           2007
          ],
          [
           "ME",
           0.34,
           459
          ],
          [
           "MI",
           0.32,
           3194
          ],
          [
           "MN",
           0.25,
           1430
          ],
          [
           "MO",
           0.22,
           1356
          ],
          [
           "MS",
           0.16,
           483
          ],
          [
           "MT",
           0.22,
           243
          ],
          [
           "NC",
           0.26,
           2700
          ],
          [
           "ND",
           0.15,
           119
          ],
          [
           "NE",
           0.2,
           401
          ],
          [
           "NH",
           0.22,
           302
          ],
          [
           "NJ",
           0.22,
           2060
          ],
          [
           "NM",
           0.26,
           548
          ],
          [
           "NV",
           0.42,
           1297
          ],
          [
           "NY",
           0.4,
           8166
          ],
          [
           "OH",
           0.28,
           3322
          ],
          [
           "OK",
           0.22,
           859
          ],
          [
           "OR",
           0.34,
           1448
          ],
          [
           "PA",
           0.27,
           3530
          ],
          [
           "PR",
           0.07,
           215
          ],
          [
           "RI",
           0.25,
           279
          ],
          [
           "SC",
           0.21,
           1099
          ],
          [
           "SD",
           0.14,
           125
          ],
          [
           "TN",
           0.24,
           1646
          ],
          [
           "TX",
           0.38,
           10953
          ],
          [
           "UT",
           0.25,
           827
          ],
          [
           "VA",
           0.22,
           1869
          ],
          [
           "VT",
           0.29,
           186
          ],
          [
           "WA",
           0.46,
           3540
          ],
          [
           "WI",
           0.19,
           1109
          ],
          [
           "WV",
           0.26,
           464
          ],
          [
           "WY",
           0.4,
           233
          ]
         ],
         "geo": "geo",
         "hovertemplate": "%{customdata[0]} <br>Count: %{customdata[2]} <br>Count/Pop(K): %{customdata[1]} ",
         "locationmode": "USA-states",
         "locations": [
          "AK",
          "AL",
          "AR",
          "AZ",
          "CA",
          "CO",
          "CT",
          "DC",
          "DE",
          "FL",
          "GA",
          "HI",
          "IA",
          "ID",
          "IL",
          "IN",
          "KS",
          "KY",
          "LA",
          "MA",
          "MD",
          "ME",
          "MI",
          "MN",
          "MO",
          "MS",
          "MT",
          "NC",
          "ND",
          "NE",
          "NH",
          "NJ",
          "NM",
          "NV",
          "NY",
          "OH",
          "OK",
          "OR",
          "PA",
          "PR",
          "RI",
          "SC",
          "SD",
          "TN",
          "TX",
          "UT",
          "VA",
          "VT",
          "WA",
          "WI",
          "WV",
          "WY"
         ],
         "name": "",
         "type": "choropleth",
         "z": [
          -0.494850021680094,
          -0.638272163982407,
          -0.769551078621726,
          -0.585026652029182,
          -0.4814860601221125,
          -0.5686362358410126,
          -0.5528419686577808,
          0.2600713879850748,
          -0.6777807052660807,
          -0.5376020021010439,
          -0.44369749923271273,
          -0.585026652029182,
          -0.744727494896694,
          -0.744727494896694,
          -0.5528419686577808,
          -0.6989700043360187,
          -0.5228787452803376,
          -0.721246399047171,
          -0.4559319556497244,
          -0.585026652029182,
          -0.494850021680094,
          -0.46852108295774486,
          -0.494850021680094,
          -0.6020599913279624,
          -0.6575773191777937,
          -0.7958800173440752,
          -0.6575773191777937,
          -0.585026652029182,
          -0.8239087409443188,
          -0.6989700043360187,
          -0.6575773191777937,
          -0.6575773191777937,
          -0.585026652029182,
          -0.37675070960209955,
          -0.3979400086720376,
          -0.5528419686577808,
          -0.6575773191777937,
          -0.46852108295774486,
          -0.5686362358410126,
          -1.154901959985743,
          -0.6020599913279624,
          -0.6777807052660807,
          -0.8538719643217619,
          -0.619788758288394,
          -0.42021640338318983,
          -0.6020599913279624,
          -0.6575773191777937,
          -0.5376020021010439,
          -0.3372421683184259,
          -0.721246399047171,
          -0.585026652029182,
          -0.3979400086720376
         ]
        },
        {
         "customdata": [
          [
           "AK",
           0.32,
           237
          ],
          [
           "AL",
           0.23,
           1168
          ],
          [
           "AR",
           0.17,
           499
          ],
          [
           "AZ",
           0.26,
           1895
          ],
          [
           "CA",
           0.33,
           13117
          ],
          [
           "CO",
           0.27,
           1559
          ],
          [
           "CT",
           0.28,
           1013
          ],
          [
           "DC",
           1.82,
           1253
          ],
          [
           "DE",
           0.21,
           211
          ],
          [
           "FL",
           0.29,
           6191
          ],
          [
           "GA",
           0.36,
           3892
          ],
          [
           "HI",
           0.26,
           381
          ],
          [
           "IA",
           0.18,
           560
          ],
          [
           "ID",
           0.18,
           324
          ],
          [
           "IL",
           0.28,
           3549
          ],
          [
           "IN",
           0.2,
           1382
          ],
          [
           "KS",
           0.3,
           876
          ],
          [
           "KY",
           0.19,
           841
          ],
          [
           "LA",
           0.35,
           1641
          ],
          [
           "MA",
           0.26,
           1852
          ],
          [
           "MD",
           0.32,
           2007
          ],
          [
           "ME",
           0.34,
           459
          ],
          [
           "MI",
           0.32,
           3194
          ],
          [
           "MN",
           0.25,
           1430
          ],
          [
           "MO",
           0.22,
           1356
          ],
          [
           "MS",
           0.16,
           483
          ],
          [
           "MT",
           0.22,
           243
          ],
          [
           "NC",
           0.26,
           2700
          ],
          [
           "ND",
           0.15,
           119
          ],
          [
           "NE",
           0.2,
           401
          ],
          [
           "NH",
           0.22,
           302
          ],
          [
           "NJ",
           0.22,
           2060
          ],
          [
           "NM",
           0.26,
           548
          ],
          [
           "NV",
           0.42,
           1297
          ],
          [
           "NY",
           0.4,
           8166
          ],
          [
           "OH",
           0.28,
           3322
          ],
          [
           "OK",
           0.22,
           859
          ],
          [
           "OR",
           0.34,
           1448
          ],
          [
           "PA",
           0.27,
           3530
          ],
          [
           "PR",
           0.07,
           215
          ],
          [
           "RI",
           0.25,
           279
          ],
          [
           "SC",
           0.21,
           1099
          ],
          [
           "SD",
           0.14,
           125
          ],
          [
           "TN",
           0.24,
           1646
          ],
          [
           "TX",
           0.38,
           10953
          ],
          [
           "UT",
           0.25,
           827
          ],
          [
           "VA",
           0.22,
           1869
          ],
          [
           "VT",
           0.29,
           186
          ],
          [
           "WA",
           0.46,
           3540
          ],
          [
           "WI",
           0.19,
           1109
          ],
          [
           "WV",
           0.26,
           464
          ],
          [
           "WY",
           0.4,
           233
          ]
         ],
         "hoverinfo": "none",
         "hovertemplate": "%{customdata[0]} <br>Count: %{customdata[2]} <br>Count/Pop(K): %{customdata[1]} ",
         "locationmode": "USA-states",
         "locations": [
          "AK",
          "AL",
          "AR",
          "AZ",
          "CA",
          "CO",
          "CT",
          "DC",
          "DE",
          "FL",
          "GA",
          "HI",
          "IA",
          "ID",
          "IL",
          "IN",
          "KS",
          "KY",
          "LA",
          "MA",
          "MD",
          "ME",
          "MI",
          "MN",
          "MO",
          "MS",
          "MT",
          "NC",
          "ND",
          "NE",
          "NH",
          "NJ",
          "NM",
          "NV",
          "NY",
          "OH",
          "OK",
          "OR",
          "PA",
          "PR",
          "RI",
          "SC",
          "SD",
          "TN",
          "TX",
          "UT",
          "VA",
          "VT",
          "WA",
          "WI",
          "WV",
          "WY"
         ],
         "mode": "text",
         "text": [
          "AK",
          "AL",
          "AR",
          "AZ",
          "CA",
          "CO",
          "CT",
          "DC",
          "DE",
          "FL",
          "GA",
          "HI",
          "IA",
          "ID",
          "IL",
          "IN",
          "KS",
          "KY",
          "LA",
          "MA",
          "MD",
          "ME",
          "MI",
          "MN",
          "MO",
          "MS",
          "MT",
          "NC",
          "ND",
          "NE",
          "NH",
          "NJ",
          "NM",
          "NV",
          "NY",
          "OH",
          "OK",
          "OR",
          "PA",
          "PR",
          "RI",
          "SC",
          "SD",
          "TN",
          "TX",
          "UT",
          "VA",
          "VT",
          "WA",
          "WI",
          "WV",
          "WY"
         ],
         "type": "scattergeo"
        }
       ],
       "layout": {
        "coloraxis": {
         "colorbar": {
          "title": {
           "text": "count/pop(K)"
          }
         },
         "colorscale": [
          [
           0,
           "rgb(255,255,255)"
          ],
          [
           0.5,
           "rgb(108,161,255)"
          ],
          [
           1,
           "rgb(3,94,255)"
          ]
         ]
        },
        "geo": {
         "bgcolor": "rgba(0,0,0,0)",
         "center": {},
         "domain": {
          "x": [
           0,
           1
          ],
          "y": [
           0,
           1
          ]
         },
         "scope": "usa"
        },
        "legend": {
         "tracegroupgap": 0
        },
        "margin": {
         "t": 60
        },
        "paper_bgcolor": "rgba(0,0,0,0)",
        "plot_bgcolor": "rgba(0,0,0,0)",
        "template": {
         "data": {
          "bar": [
           {
            "error_x": {
             "color": "#2a3f5f"
            },
            "error_y": {
             "color": "#2a3f5f"
            },
            "marker": {
             "line": {
              "color": "#E5ECF6",
              "width": 0.5
             },
             "pattern": {
              "fillmode": "overlay",
              "size": 10,
              "solidity": 0.2
             }
            },
            "type": "bar"
           }
          ],
          "barpolar": [
           {
            "marker": {
             "line": {
              "color": "#E5ECF6",
              "width": 0.5
             },
             "pattern": {
              "fillmode": "overlay",
              "size": 10,
              "solidity": 0.2
             }
            },
            "type": "barpolar"
           }
          ],
          "carpet": [
           {
            "aaxis": {
             "endlinecolor": "#2a3f5f",
             "gridcolor": "white",
             "linecolor": "white",
             "minorgridcolor": "white",
             "startlinecolor": "#2a3f5f"
            },
            "baxis": {
             "endlinecolor": "#2a3f5f",
             "gridcolor": "white",
             "linecolor": "white",
             "minorgridcolor": "white",
             "startlinecolor": "#2a3f5f"
            },
            "type": "carpet"
           }
          ],
          "choropleth": [
           {
            "colorbar": {
             "outlinewidth": 0,
             "ticks": ""
            },
            "type": "choropleth"
           }
          ],
          "contour": [
           {
            "colorbar": {
             "outlinewidth": 0,
             "ticks": ""
            },
            "colorscale": [
             [
              0,
              "#0d0887"
             ],
             [
              0.1111111111111111,
              "#46039f"
             ],
             [
              0.2222222222222222,
              "#7201a8"
             ],
             [
              0.3333333333333333,
              "#9c179e"
             ],
             [
              0.4444444444444444,
              "#bd3786"
             ],
             [
              0.5555555555555556,
              "#d8576b"
             ],
             [
              0.6666666666666666,
              "#ed7953"
             ],
             [
              0.7777777777777778,
              "#fb9f3a"
             ],
             [
              0.8888888888888888,
              "#fdca26"
             ],
             [
              1,
              "#f0f921"
             ]
            ],
            "type": "contour"
           }
          ],
          "contourcarpet": [
           {
            "colorbar": {
             "outlinewidth": 0,
             "ticks": ""
            },
            "type": "contourcarpet"
           }
          ],
          "heatmap": [
           {
            "colorbar": {
             "outlinewidth": 0,
             "ticks": ""
            },
            "colorscale": [
             [
              0,
              "#0d0887"
             ],
             [
              0.1111111111111111,
              "#46039f"
             ],
             [
              0.2222222222222222,
              "#7201a8"
             ],
             [
              0.3333333333333333,
              "#9c179e"
             ],
             [
              0.4444444444444444,
              "#bd3786"
             ],
             [
              0.5555555555555556,
              "#d8576b"
             ],
             [
              0.6666666666666666,
              "#ed7953"
             ],
             [
              0.7777777777777778,
              "#fb9f3a"
             ],
             [
              0.8888888888888888,
              "#fdca26"
             ],
             [
              1,
              "#f0f921"
             ]
            ],
            "type": "heatmap"
           }
          ],
          "heatmapgl": [
           {
            "colorbar": {
             "outlinewidth": 0,
             "ticks": ""
            },
            "colorscale": [
             [
              0,
              "#0d0887"
             ],
             [
              0.1111111111111111,
              "#46039f"
             ],
             [
              0.2222222222222222,
              "#7201a8"
             ],
             [
              0.3333333333333333,
              "#9c179e"
             ],
             [
              0.4444444444444444,
              "#bd3786"
             ],
             [
              0.5555555555555556,
              "#d8576b"
             ],
             [
              0.6666666666666666,
              "#ed7953"
             ],
             [
              0.7777777777777778,
              "#fb9f3a"
             ],
             [
              0.8888888888888888,
              "#fdca26"
             ],
             [
              1,
              "#f0f921"
             ]
            ],
            "type": "heatmapgl"
           }
          ],
          "histogram": [
           {
            "marker": {
             "pattern": {
              "fillmode": "overlay",
              "size": 10,
              "solidity": 0.2
             }
            },
            "type": "histogram"
           }
          ],
          "histogram2d": [
           {
            "colorbar": {
             "outlinewidth": 0,
             "ticks": ""
            },
            "colorscale": [
             [
              0,
              "#0d0887"
             ],
             [
              0.1111111111111111,
              "#46039f"
             ],
             [
              0.2222222222222222,
              "#7201a8"
             ],
             [
              0.3333333333333333,
              "#9c179e"
             ],
             [
              0.4444444444444444,
              "#bd3786"
             ],
             [
              0.5555555555555556,
              "#d8576b"
             ],
             [
              0.6666666666666666,
              "#ed7953"
             ],
             [
              0.7777777777777778,
              "#fb9f3a"
             ],
             [
              0.8888888888888888,
              "#fdca26"
             ],
             [
              1,
              "#f0f921"
             ]
            ],
            "type": "histogram2d"
           }
          ],
          "histogram2dcontour": [
           {
            "colorbar": {
             "outlinewidth": 0,
             "ticks": ""
            },
            "colorscale": [
             [
              0,
              "#0d0887"
             ],
             [
              0.1111111111111111,
              "#46039f"
             ],
             [
              0.2222222222222222,
              "#7201a8"
             ],
             [
              0.3333333333333333,
              "#9c179e"
             ],
             [
              0.4444444444444444,
              "#bd3786"
             ],
             [
              0.5555555555555556,
              "#d8576b"
             ],
             [
              0.6666666666666666,
              "#ed7953"
             ],
             [
              0.7777777777777778,
              "#fb9f3a"
             ],
             [
              0.8888888888888888,
              "#fdca26"
             ],
             [
              1,
              "#f0f921"
             ]
            ],
            "type": "histogram2dcontour"
           }
          ],
          "mesh3d": [
           {
            "colorbar": {
             "outlinewidth": 0,
             "ticks": ""
            },
            "type": "mesh3d"
           }
          ],
          "parcoords": [
           {
            "line": {
             "colorbar": {
              "outlinewidth": 0,
              "ticks": ""
             }
            },
            "type": "parcoords"
           }
          ],
          "pie": [
           {
            "automargin": true,
            "type": "pie"
           }
          ],
          "scatter": [
           {
            "fillpattern": {
             "fillmode": "overlay",
             "size": 10,
             "solidity": 0.2
            },
            "type": "scatter"
           }
          ],
          "scatter3d": [
           {
            "line": {
             "colorbar": {
              "outlinewidth": 0,
              "ticks": ""
             }
            },
            "marker": {
             "colorbar": {
              "outlinewidth": 0,
              "ticks": ""
             }
            },
            "type": "scatter3d"
           }
          ],
          "scattercarpet": [
           {
            "marker": {
             "colorbar": {
              "outlinewidth": 0,
              "ticks": ""
             }
            },
            "type": "scattercarpet"
           }
          ],
          "scattergeo": [
           {
            "marker": {
             "colorbar": {
              "outlinewidth": 0,
              "ticks": ""
             }
            },
            "type": "scattergeo"
           }
          ],
          "scattergl": [
           {
            "marker": {
             "colorbar": {
              "outlinewidth": 0,
              "ticks": ""
             }
            },
            "type": "scattergl"
           }
          ],
          "scattermapbox": [
           {
            "marker": {
             "colorbar": {
              "outlinewidth": 0,
              "ticks": ""
             }
            },
            "type": "scattermapbox"
           }
          ],
          "scatterpolar": [
           {
            "marker": {
             "colorbar": {
              "outlinewidth": 0,
              "ticks": ""
             }
            },
            "type": "scatterpolar"
           }
          ],
          "scatterpolargl": [
           {
            "marker": {
             "colorbar": {
              "outlinewidth": 0,
              "ticks": ""
             }
            },
            "type": "scatterpolargl"
           }
          ],
          "scatterternary": [
           {
            "marker": {
             "colorbar": {
              "outlinewidth": 0,
              "ticks": ""
             }
            },
            "type": "scatterternary"
           }
          ],
          "surface": [
           {
            "colorbar": {
             "outlinewidth": 0,
             "ticks": ""
            },
            "colorscale": [
             [
              0,
              "#0d0887"
             ],
             [
              0.1111111111111111,
              "#46039f"
             ],
             [
              0.2222222222222222,
              "#7201a8"
             ],
             [
              0.3333333333333333,
              "#9c179e"
             ],
             [
              0.4444444444444444,
              "#bd3786"
             ],
             [
              0.5555555555555556,
              "#d8576b"
             ],
             [
              0.6666666666666666,
              "#ed7953"
             ],
             [
              0.7777777777777778,
              "#fb9f3a"
             ],
             [
              0.8888888888888888,
              "#fdca26"
             ],
             [
              1,
              "#f0f921"
             ]
            ],
            "type": "surface"
           }
          ],
          "table": [
           {
            "cells": {
             "fill": {
              "color": "#EBF0F8"
             },
             "line": {
              "color": "white"
             }
            },
            "header": {
             "fill": {
              "color": "#C8D4E3"
             },
             "line": {
              "color": "white"
             }
            },
            "type": "table"
           }
          ]
         },
         "layout": {
          "annotationdefaults": {
           "arrowcolor": "#2a3f5f",
           "arrowhead": 0,
           "arrowwidth": 1
          },
          "autotypenumbers": "strict",
          "coloraxis": {
           "colorbar": {
            "outlinewidth": 0,
            "ticks": ""
           }
          },
          "colorscale": {
           "diverging": [
            [
             0,
             "#8e0152"
            ],
            [
             0.1,
             "#c51b7d"
            ],
            [
             0.2,
             "#de77ae"
            ],
            [
             0.3,
             "#f1b6da"
            ],
            [
             0.4,
             "#fde0ef"
            ],
            [
             0.5,
             "#f7f7f7"
            ],
            [
             0.6,
             "#e6f5d0"
            ],
            [
             0.7,
             "#b8e186"
            ],
            [
             0.8,
             "#7fbc41"
            ],
            [
             0.9,
             "#4d9221"
            ],
            [
             1,
             "#276419"
            ]
           ],
           "sequential": [
            [
             0,
             "#0d0887"
            ],
            [
             0.1111111111111111,
             "#46039f"
            ],
            [
             0.2222222222222222,
             "#7201a8"
            ],
            [
             0.3333333333333333,
             "#9c179e"
            ],
            [
             0.4444444444444444,
             "#bd3786"
            ],
            [
             0.5555555555555556,
             "#d8576b"
            ],
            [
             0.6666666666666666,
             "#ed7953"
            ],
            [
             0.7777777777777778,
             "#fb9f3a"
            ],
            [
             0.8888888888888888,
             "#fdca26"
            ],
            [
             1,
             "#f0f921"
            ]
           ],
           "sequentialminus": [
            [
             0,
             "#0d0887"
            ],
            [
             0.1111111111111111,
             "#46039f"
            ],
            [
             0.2222222222222222,
             "#7201a8"
            ],
            [
             0.3333333333333333,
             "#9c179e"
            ],
            [
             0.4444444444444444,
             "#bd3786"
            ],
            [
             0.5555555555555556,
             "#d8576b"
            ],
            [
             0.6666666666666666,
             "#ed7953"
            ],
            [
             0.7777777777777778,
             "#fb9f3a"
            ],
            [
             0.8888888888888888,
             "#fdca26"
            ],
            [
             1,
             "#f0f921"
            ]
           ]
          },
          "colorway": [
           "#636efa",
           "#EF553B",
           "#00cc96",
           "#ab63fa",
           "#FFA15A",
           "#19d3f3",
           "#FF6692",
           "#B6E880",
           "#FF97FF",
           "#FECB52"
          ],
          "font": {
           "color": "#2a3f5f"
          },
          "geo": {
           "bgcolor": "white",
           "lakecolor": "white",
           "landcolor": "#E5ECF6",
           "showlakes": true,
           "showland": true,
           "subunitcolor": "white"
          },
          "hoverlabel": {
           "align": "left"
          },
          "hovermode": "closest",
          "mapbox": {
           "style": "light"
          },
          "paper_bgcolor": "white",
          "plot_bgcolor": "#E5ECF6",
          "polar": {
           "angularaxis": {
            "gridcolor": "white",
            "linecolor": "white",
            "ticks": ""
           },
           "bgcolor": "#E5ECF6",
           "radialaxis": {
            "gridcolor": "white",
            "linecolor": "white",
            "ticks": ""
           }
          },
          "scene": {
           "xaxis": {
            "backgroundcolor": "#E5ECF6",
            "gridcolor": "white",
            "gridwidth": 2,
            "linecolor": "white",
            "showbackground": true,
            "ticks": "",
            "zerolinecolor": "white"
           },
           "yaxis": {
            "backgroundcolor": "#E5ECF6",
            "gridcolor": "white",
            "gridwidth": 2,
            "linecolor": "white",
            "showbackground": true,
            "ticks": "",
            "zerolinecolor": "white"
           },
           "zaxis": {
            "backgroundcolor": "#E5ECF6",
            "gridcolor": "white",
            "gridwidth": 2,
            "linecolor": "white",
            "showbackground": true,
            "ticks": "",
            "zerolinecolor": "white"
           }
          },
          "shapedefaults": {
           "line": {
            "color": "#2a3f5f"
           }
          },
          "ternary": {
           "aaxis": {
            "gridcolor": "white",
            "linecolor": "white",
            "ticks": ""
           },
           "baxis": {
            "gridcolor": "white",
            "linecolor": "white",
            "ticks": ""
           },
           "bgcolor": "#E5ECF6",
           "caxis": {
            "gridcolor": "white",
            "linecolor": "white",
            "ticks": ""
           }
          },
          "title": {
           "x": 0.05
          },
          "xaxis": {
           "automargin": true,
           "gridcolor": "white",
           "linecolor": "white",
           "ticks": "",
           "title": {
            "standoff": 15
           },
           "zerolinecolor": "white",
           "zerolinewidth": 2
          },
          "yaxis": {
           "automargin": true,
           "gridcolor": "white",
           "linecolor": "white",
           "ticks": "",
           "title": {
            "standoff": 15
           },
           "zerolinecolor": "white",
           "zerolinewidth": 2
          }
         }
        },
        "title": {
         "text": "Geological Distribution of Sleepless Twitter Users in the US",
         "x": 0.5,
         "xanchor": "center",
         "y": 0.9,
         "yanchor": "top"
        }
       }
      }
     },
     "metadata": {},
     "output_type": "display_data"
    }
   ],
   "source": [
    "fig = px.choropleth(map, locations = 'state', scope = 'usa', locationmode=\"USA-states\", color=np.log10(map['count/pop(K)']),\n",
    "                           color_continuous_scale=[[0.0, \"rgb(255,255,255)\"],\n",
    "                [0.5, \"rgb(108,161,255)\"],\n",
    "                [1.0, \"rgb(3,94,255)\"]], \n",
    "                # hover_name='state', hover_data=['state_pop','count/pop(K)']\n",
    "                custom_data=map[['state','count/pop(K)']],\n",
    "                labels={'color': 'count/pop(K)'}\n",
    ")\n",
    "fig.add_scattergeo(\n",
    "    locations=map['state'],\n",
    "    locationmode='USA-states',\n",
    "    text=map['state'],hoverinfo = 'none',\n",
    "    mode='text')\n",
    "fig.update_layout({\n",
    "    'plot_bgcolor': 'rgba(0,0,0,0)',\n",
    "    'paper_bgcolor': 'rgba(0,0,0,0)'\n",
    "})\n",
    "fig.update_layout(geo=dict(bgcolor= 'rgba(0,0,0,0)'))\n",
    "fig.update_traces(customdata=map[['state','count/pop(K)','count']],\n",
    "                  hovertemplate=\"%{customdata[0]} <br>Count: %{customdata[2]} <br>Count/Pop(K): %{customdata[1]} \")\n",
    "fig.update_layout(\n",
    "    title={\n",
    "        'text': \"Geological Distribution of Sleepless Twitter Users in the US\",\n",
    "        'y':0.9,\n",
    "        'x':0.5,\n",
    "        'xanchor': 'center',\n",
    "        'yanchor': 'top'})\n",
    "fig.show()"
   ]
  },
  {
   "cell_type": "code",
   "execution_count": 28,
   "metadata": {},
   "outputs": [],
   "source": [
    "fig.write_html(\"USA_map.html\") "
   ]
  },
  {
   "cell_type": "code",
   "execution_count": null,
   "metadata": {},
   "outputs": [],
   "source": []
  }
 ],
 "metadata": {
  "interpreter": {
   "hash": "65fd10f61045ca2763c99ce429a6c808c1c59ad5629180c76d54a8288caaad4e"
  },
  "kernelspec": {
   "display_name": "Python 3.8.13 64-bit",
   "language": "python",
   "name": "python3"
  },
  "language_info": {
   "codemirror_mode": {
    "name": "ipython",
    "version": 3
   },
   "file_extension": ".py",
   "mimetype": "text/x-python",
   "name": "python",
   "nbconvert_exporter": "python",
   "pygments_lexer": "ipython3",
   "version": "3.8.13"
  },
  "orig_nbformat": 4
 },
 "nbformat": 4,
 "nbformat_minor": 2
}
